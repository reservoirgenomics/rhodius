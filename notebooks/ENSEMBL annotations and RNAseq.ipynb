{
 "cells": [
  {
   "cell_type": "code",
   "execution_count": 1,
   "metadata": {
    "collapsed": true,
    "jupyter": {
     "outputs_hidden": true
    }
   },
   "outputs": [],
   "source": [
    "import os.path as op\n",
    "import gffutils\n",
    "\n",
    "fn = op.expanduser('~/Dropbox/data/ensembl/Mus_musculus.GRCm38.91.gtf.gz')\n",
    "db_name = op.expanduser('~/Dropbox/data/ensembl/Mus_musculus.GRCm38.91.db')"
   ]
  },
  {
   "cell_type": "code",
   "execution_count": 2,
   "metadata": {},
   "outputs": [
    {
     "data": {
      "text/plain": [
       "True"
      ]
     },
     "execution_count": 2,
     "metadata": {},
     "output_type": "execute_result"
    }
   ],
   "source": [
    "op.exists(fn)"
   ]
  },
  {
   "cell_type": "code",
   "execution_count": 3,
   "metadata": {
    "collapsed": true,
    "jupyter": {
     "outputs_hidden": true
    }
   },
   "outputs": [],
   "source": [
    "#db = gffutils.create_db(fn, dbfn='test.db', force=True, keep_order=True, merge_strategy='merge', sort_attribute_values=True)"
   ]
  },
  {
   "cell_type": "code",
   "execution_count": 5,
   "metadata": {
    "collapsed": true,
    "jupyter": {
     "outputs_hidden": true
    }
   },
   "outputs": [],
   "source": [
    "db = gffutils.FeatureDB(db_name, keep_order=True)"
   ]
  },
  {
   "cell_type": "code",
   "execution_count": 6,
   "metadata": {},
   "outputs": [
    {
     "name": "stdout",
     "output_type": "stream",
     "text": [
      "gene JH584294.1\tensembl\tgene\t2012\t3786\t.\t+\t.\tgene_id \"ENSMUSG00000093828\"; gene_version \"7\"; gene_name \"Ccl27a\"; gene_source \"ensembl\"; gene_biotype \"protein_coding\";\n"
     ]
    }
   ],
   "source": [
    "counter = 0\n",
    "\n",
    "for gene in db.features_of_type('gene', order_by='start'):\n",
    "    #print(\"gene:\", gene)\n",
    "    transcripts = db.children(gene, featuretype='transcript')\n",
    "    if len(list(transcripts)) > 1:\n",
    "        print('gene', gene)\n",
    "        counter += 1\n",
    "        if counter > 0:\n",
    "            break"
   ]
  },
  {
   "cell_type": "code",
   "execution_count": 7,
   "metadata": {},
   "outputs": [
    {
     "name": "stdout",
     "output_type": "stream",
     "text": [
      "['AC123873.3'] JH584299.1 4975 7356\n",
      "[<Feature transcript (JH584299.1:4975-7356[+]) at 0x1039dfe48>]\n"
     ]
    }
   ],
   "source": [
    "gene = db['ENSMUSG00000094836']\n",
    "print(gene['gene_name'], gene.chrom, gene.start, gene.end)\n",
    "print(list(db.children(gene, featuretype='transcript')))"
   ]
  },
  {
   "cell_type": "code",
   "execution_count": 11,
   "metadata": {},
   "outputs": [
    {
     "data": {
      "text/plain": [
       "[<Feature CDS (JH584299.1:4975-5243[+]) at 0x1042f4518>,\n",
       " <Feature CDS (JH584299.1:5735-6325[+]) at 0x1042f4470>,\n",
       " <Feature CDS (JH584299.1:7137-7353[+]) at 0x1042f44e0>,\n",
       " <Feature transcript (JH584299.1:4975-7356[+]) at 0x1042f4710>,\n",
       " <Feature exon (JH584299.1:4975-5243[+]) at 0x1042f48d0>,\n",
       " <Feature exon (JH584299.1:5735-6325[+]) at 0x1042f4ac8>,\n",
       " <Feature exon (JH584299.1:7137-7356[+]) at 0x1042f4cc0>,\n",
       " <Feature start_codon (JH584299.1:4975-4977[+]) at 0x1042f4ef0>,\n",
       " <Feature stop_codon (JH584299.1:7354-7356[+]) at 0x1066a6128>]"
      ]
     },
     "execution_count": 11,
     "metadata": {},
     "output_type": "execute_result"
    }
   ],
   "source": [
    "transcript = list(db.children(gene, featuretype='transcript'))[0]\n",
    "list(db.children(transcript))"
   ]
  },
  {
   "cell_type": "code",
   "execution_count": 8,
   "metadata": {},
   "outputs": [
    {
     "name": "stdout",
     "output_type": "stream",
     "text": [
      "[<Feature CDS (JH584299.1:4975-5243[+]) at 0x1066ed438>, <Feature CDS (JH584299.1:5735-6325[+]) at 0x1066ed2b0>, <Feature CDS (JH584299.1:7137-7353[+]) at 0x1066ed400>]\n"
     ]
    }
   ],
   "source": [
    "print(list(db.children(gene, featuretype='CDS')))"
   ]
  },
  {
   "cell_type": "code",
   "execution_count": 58,
   "metadata": {},
   "outputs": [
    {
     "name": "stdout",
     "output_type": "stream",
     "text": [
      "['Ccl27a'] JH584294.1 2012 3786\n",
      "[<Feature transcript (JH584294.1:2012-3786[+]) at 0x10550c6a0>, <Feature transcript (JH584294.1:3094-3786[+]) at 0x108c81978>]\n"
     ]
    }
   ],
   "source": [
    "gene = db['ENSMUSG00000093828']\n",
    "print(gene['gene_name'], gene.chrom, gene.start, gene.end)\n",
    "print(list(db.children(gene, featuretype='transcript')))"
   ]
  },
  {
   "cell_type": "code",
   "execution_count": 69,
   "metadata": {},
   "outputs": [
    {
     "name": "stdout",
     "output_type": "stream",
     "text": [
      "parts: ['ENSMUSG00000000001', '42.0474674420546', 'Gnai3']\n",
      "transcripts: [{'exon_starts': [108145888, 108123795, 108123542, 108118301, 108115763, 108112473, 108111935, 108109403, 108107280], 'exon_ends': [108146146, 108123837, 108123683, 108118458, 108115891, 108112602, 108112088, 108109612, 108109316], 'strand': '-'}]\n"
     ]
    }
   ],
   "source": [
    "def extract_transcripts(db, gene_id):\n",
    "    '''\n",
    "    Get a list of all transcripts and then output their transcripts\n",
    "    for this gene_id\n",
    "    \n",
    "    Parameters:\n",
    "    -----------\n",
    "    db: gffutils database\n",
    "        The database containing all of the annotations for this assembly\n",
    "    gene_id: string\n",
    "        The ensembl ID for the gene\n",
    "        \n",
    "    Returns:\n",
    "    --------\n",
    "        transcripts: [{'exon_starts': [], 'exon_ends': []},...]\n",
    "    '''\n",
    "    gene = db[gene_id]\n",
    "    transcripts = []\n",
    "    \n",
    "    for transcript in list(db.children(gene, featuretype='transcript')):\n",
    "        #print('transcript:', transcript, transcript.strand)\n",
    "        transcript_data = {'exon_starts': [], 'exon_ends': [], 'strand': transcript.strand}\n",
    "        for exon in list(db.children(transcript, featuretype='exon')):\n",
    "            transcript_data['exon_starts'] += [exon.start]\n",
    "            transcript_data['exon_ends'] += [exon.end]\n",
    "            \n",
    "        transcripts += [transcript_data]\n",
    "    return transcripts\n",
    "        \n",
    "with open(op.expanduser('/Users/pete/Dropbox/paper-data/Bonev-et-al-2017/GSM2533843_ES_rep1.txt'), 'r') as f:\n",
    "    f.readline()\n",
    "    for line in f:\n",
    "        parts = line.strip().split()\n",
    "        print('parts:', parts)\n",
    "        \n",
    "        transcripts = extract_transcripts(db, gene_id=parts[0])\n",
    "        print('transcripts:', transcripts)\n",
    "        break\n",
    "        "
   ]
  },
  {
   "cell_type": "code",
   "execution_count": null,
   "metadata": {
    "collapsed": true,
    "jupyter": {
     "outputs_hidden": true
    }
   },
   "outputs": [],
   "source": []
  },
  {
   "cell_type": "code",
   "execution_count": null,
   "metadata": {
    "collapsed": true,
    "jupyter": {
     "outputs_hidden": true
    }
   },
   "outputs": [],
   "source": []
  }
 ],
 "metadata": {
  "kernelspec": {
   "display_name": "Python 3 (ipykernel)",
   "language": "python",
   "name": "python3"
  },
  "language_info": {
   "codemirror_mode": {
    "name": "ipython",
    "version": 3
   },
   "file_extension": ".py",
   "mimetype": "text/x-python",
   "name": "python",
   "nbconvert_exporter": "python",
   "pygments_lexer": "ipython3",
   "version": "3.10.15"
  }
 },
 "nbformat": 4,
 "nbformat_minor": 4
}
