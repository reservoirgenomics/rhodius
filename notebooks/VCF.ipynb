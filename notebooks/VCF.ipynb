{
 "cells": [
  {
   "cell_type": "code",
   "execution_count": 1,
   "metadata": {},
   "outputs": [],
   "source": [
    "%load_ext autoreload\n",
    "%autoreload 2"
   ]
  },
  {
   "cell_type": "code",
   "execution_count": 2,
   "metadata": {},
   "outputs": [],
   "source": [
    "import clodius.tiles.vcf as ctvc"
   ]
  },
  {
   "cell_type": "code",
   "execution_count": 3,
   "metadata": {},
   "outputs": [],
   "source": [
    "import os.path as op\n",
    "import pandas as pd\n",
    "\n",
    "chromsizes = []\n",
    "with open('/Users/pete/projects/negspy/negspy/data/b37/chromInfo.txt') as f:\n",
    "    for line in f:\n",
    "        chromsizes += [line.strip().split('\\t')]"
   ]
  },
  {
   "cell_type": "code",
   "execution_count": 4,
   "metadata": {},
   "outputs": [],
   "source": [
    "import numpy as np\n",
    "def chromsizes_array_to_series(chromsizes):\n",
    "    \"\"\"\n",
    "    Convert an array of [[chrname, size]...] values to a series\n",
    "    indexed by chrname with size values\n",
    "    \"\"\"\n",
    "    chrnames = [c[0] for c in chromsizes]\n",
    "    chrvalues = [c[1] for c in chromsizes]\n",
    "\n",
    "    return pd.Series(np.array([int(c) for c in chrvalues]), index=chrnames)\n",
    "\n",
    "cs_df = chromsizes_array_to_series(chromsizes)"
   ]
  },
  {
   "cell_type": "code",
   "execution_count": 5,
   "metadata": {},
   "outputs": [
    {
     "name": "stdout",
     "output_type": "stream",
     "text": [
      "CPU times: user 203 µs, sys: 1 µs, total: 204 µs\n",
      "Wall time: 212 µs\n"
     ]
    }
   ],
   "source": [
    "%%time\n",
    "filename = '/Users/pete/projects/resgen-server/media/s3/resgen-test/test.resgen.io/Io_XeSdtR2SOC01FapZWIQ/HG002_SVs_Tier1_v0.6.vcf.gz..'\n",
    "index_filename = '/Users/pete/projects/resgen-server/media/s3/resgen-test/test.resgen.io/Io_XeSdtR2SOC01FapZWIQ/HG002_SVs_Tier1_v0.6.vcf.gz.tbi..'\n",
    "\n",
    "tsinfo = ctvc.tileset_info(\n",
    "    filename,\n",
    "    chromsizes = cs_df\n",
    ")"
   ]
  },
  {
   "cell_type": "code",
   "execution_count": 6,
   "metadata": {},
   "outputs": [
    {
     "name": "stdout",
     "output_type": "stream",
     "text": [
      "CPU times: user 32 ms, sys: 7.64 ms, total: 39.6 ms\n",
      "Wall time: 77.3 ms\n"
     ]
    },
    {
     "data": {
      "text/plain": [
       "[{'uid': 'HG2_Ill_svaba_2',\n",
       "  'importance': 0.5016339882894041,\n",
       "  'xStart': 10402.0,\n",
       "  'xEnd': 10440.0,\n",
       "  'chrOffset': 0.0,\n",
       "  'fields': ['1', 10402, 10440]},\n",
       " {'uid': 'HG3_Ill_GATKHC_3',\n",
       "  'importance': 0.8019920899898374,\n",
       "  'xStart': 10414.0,\n",
       "  'xEnd': 10440.0,\n",
       "  'chrOffset': 0.0,\n",
       "  'fields': ['1', 10414, 10440]},\n",
       " {'uid': 'HG4_Ill_GATKHC_3',\n",
       "  'importance': 0.09966513382502162,\n",
       "  'xStart': 10615.0,\n",
       "  'xEnd': 10637.0,\n",
       "  'chrOffset': 0.0,\n",
       "  'fields': ['1', 10615, 10637]},\n",
       " {'uid': 'HG2_Ill_250bpfermikitraw_2',\n",
       "  'importance': 0.590269873965928,\n",
       "  'xStart': 54711.0,\n",
       "  'xEnd': 54712.0,\n",
       "  'chrOffset': 0.0,\n",
       "  'fields': ['1', 54711, 54712]}]"
      ]
     },
     "execution_count": 6,
     "metadata": {},
     "output_type": "execute_result"
    }
   ],
   "source": [
    "%%time\n",
    "\n",
    "ctvc.single_tile(\n",
    "    filename,\n",
    "    index_filename,\n",
    "    cs_df,\n",
    "    tsinfo,\n",
    "    z=15, x=0,\n",
    "    max_tile_width=1e5\n",
    ")"
   ]
  },
  {
   "cell_type": "code",
   "execution_count": 55,
   "metadata": {},
   "outputs": [
    {
     "name": "stdout",
     "output_type": "stream",
     "text": [
      "chrom, start, end 1 0.0 94473.08291625977\n",
      "CPU times: user 33.6 ms, sys: 3.78 ms, total: 37.3 ms\n",
      "Wall time: 38.7 ms\n"
     ]
    },
    {
     "data": {
      "text/plain": [
       "[('x.15.0',\n",
       "  [{'uid': 'HG2_Ill_svaba_2',\n",
       "    'importance': 0.6561968176043511,\n",
       "    'xStart': 10402.0,\n",
       "    'xEnd': 10440.0,\n",
       "    'chrOffset': 0.0,\n",
       "    'fields': ['1', 10402, 10440]},\n",
       "   {'uid': 'HG3_Ill_GATKHC_3',\n",
       "    'importance': 0.10543784967206138,\n",
       "    'xStart': 10414.0,\n",
       "    'xEnd': 10440.0,\n",
       "    'chrOffset': 0.0,\n",
       "    'fields': ['1', 10414, 10440]},\n",
       "   {'uid': 'HG4_Ill_GATKHC_3',\n",
       "    'importance': 0.22633892362040364,\n",
       "    'xStart': 10615.0,\n",
       "    'xEnd': 10637.0,\n",
       "    'chrOffset': 0.0,\n",
       "    'fields': ['1', 10615, 10637]},\n",
       "   {'uid': 'HG2_Ill_250bpfermikitraw_2',\n",
       "    'importance': 0.13035525917051494,\n",
       "    'xStart': 54711.0,\n",
       "    'xEnd': 54712.0,\n",
       "    'chrOffset': 0.0,\n",
       "    'fields': ['1', 54711, 54712]}])]"
      ]
     },
     "execution_count": 55,
     "metadata": {},
     "output_type": "execute_result"
    }
   ],
   "source": [
    "%%time\n",
    "\n",
    "ctvc.tiles(\n",
    "    filename,\n",
    "    ['x.15.0'],\n",
    "    index_filename,\n",
    "    cs_df,\n",
    "    max_tile_width=1e5\n",
    ")"
   ]
  },
  {
   "cell_type": "code",
   "execution_count": 7,
   "metadata": {},
   "outputs": [],
   "source": [
    "from pysam import VariantFile\n",
    "\n",
    "vcf = VariantFile(filename, index_filename=index_filename)  # auto-detect input format\n",
    "\n",
    "rec = list(vcf.fetch('1',0,1e5))[1]"
   ]
  }
 ],
 "metadata": {
  "kernelspec": {
   "display_name": "Python 3",
   "language": "python",
   "name": "python3"
  },
  "language_info": {
   "codemirror_mode": {
    "name": "ipython",
    "version": 3
   },
   "file_extension": ".py",
   "mimetype": "text/x-python",
   "name": "python",
   "nbconvert_exporter": "python",
   "pygments_lexer": "ipython3",
   "version": "3.7.6"
  }
 },
 "nbformat": 4,
 "nbformat_minor": 4
}
