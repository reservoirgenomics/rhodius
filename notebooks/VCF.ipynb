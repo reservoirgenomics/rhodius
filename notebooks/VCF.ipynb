{
 "cells": [
  {
   "cell_type": "code",
   "execution_count": 1,
   "metadata": {},
   "outputs": [],
   "source": [
    "%load_ext autoreload\n",
    "%autoreload 2"
   ]
  },
  {
   "cell_type": "code",
   "execution_count": 2,
   "metadata": {},
   "outputs": [],
   "source": [
    "import clodius.tiles.vcf as ctvc"
   ]
  },
  {
   "cell_type": "code",
   "execution_count": 3,
   "metadata": {},
   "outputs": [],
   "source": [
    "import os.path as op\n",
    "import pandas as pd\n",
    "\n",
    "chromsizes = []\n",
    "with open('/Users/pete/projects/negspy/negspy/data/b37/chromInfo.txt') as f:\n",
    "    for line in f:\n",
    "        chromsizes += [line.strip().split('\\t')]"
   ]
  },
  {
   "cell_type": "code",
   "execution_count": 15,
   "metadata": {},
   "outputs": [
    {
     "data": {
      "text/plain": [
       "[['1', '249250621'],\n",
       " ['2', '243199373'],\n",
       " ['3', '198022430'],\n",
       " ['4', '191154276'],\n",
       " ['5', '180915260'],\n",
       " ['6', '171115067'],\n",
       " ['7', '159138663'],\n",
       " ['8', '146364022'],\n",
       " ['9', '141213431'],\n",
       " ['10', '135534747'],\n",
       " ['11', '135006516'],\n",
       " ['12', '133851895'],\n",
       " ['13', '115169878'],\n",
       " ['14', '107349540'],\n",
       " ['15', '102531392'],\n",
       " ['16', '90354753'],\n",
       " ['17', '81195210'],\n",
       " ['18', '78077248'],\n",
       " ['19', '59128983'],\n",
       " ['20', '63025520'],\n",
       " ['21', '48129895'],\n",
       " ['22', '51304566'],\n",
       " ['X', '155270560'],\n",
       " ['Y', '59373566'],\n",
       " ['MT', '16569']]"
      ]
     },
     "execution_count": 15,
     "metadata": {},
     "output_type": "execute_result"
    }
   ],
   "source": [
    "chromsizes"
   ]
  },
  {
   "cell_type": "code",
   "execution_count": 4,
   "metadata": {},
   "outputs": [],
   "source": [
    "import numpy as np\n",
    "import pandas as pd\n",
    "def chromsizes_array_to_series(chromsizes):\n",
    "    \"\"\"\n",
    "    Convert an array of [[chrname, size]...] values to a series\n",
    "    indexed by chrname with size values\n",
    "    \"\"\"\n",
    "    chrnames = [c[0] for c in chromsizes]\n",
    "    chrvalues = [c[1] for c in chromsizes]\n",
    "    return pd.Series(np.array([int(c) for c in chrvalues]), index=chrnames)\n",
    "\n",
    "cs_df = chromsizes_array_to_series(chromsizes)"
   ]
  },
  {
   "cell_type": "code",
   "execution_count": 12,
   "metadata": {},
   "outputs": [
    {
     "name": "stdout",
     "output_type": "stream",
     "text": [
      "CPU times: user 85 µs, sys: 32 µs, total: 117 µs\n",
      "Wall time: 123 µs\n"
     ]
    }
   ],
   "source": [
    "%%time\n",
    "# filename = '/Users/pete/projects/resgen-server/media/s3/resgen-test/test.resgen.io/Io_XeSdtR2SOC01FapZWIQ/HG002_SVs_Tier1_v0.6.vcf.gz..'\n",
    "# index_filename = '/Users/pete/projects/resgen-server/media/s3/resgen-test/test.resgen.io/Io_XeSdtR2SOC01FapZWIQ/HG002_SVs_Tier1_v0.6.vcf.gz.tbi..'\n",
    "\n",
    "# filename = '/Users/pete/projects/resgen-server/media/s3/resgen/resgen.io/S5zLTOmTRo6yUTQOwdBL8Q/00-All.vcf.gz..'\n",
    "# index_filename = '/Users/pete/projects/resgen-server/media/s3/resgen/resgen.io/S5zLTOmTRo6yUTQOwdBL8Q/00-All.vcf.gz.tbi..'\n",
    "\n",
    "# filename = '/Users/pete/projects/resgen-server/media/aws/S5zLTOmTRo6yUTQOwdBL8Q/00-All.vcf.gz'\n",
    "# index_filename = '/Users/pete/projects/resgen-server/media/aws/S5zLTOmTRo6yUTQOwdBL8Q/00-All.vcf.gz.tbi'\n",
    "\n",
    "filename = '/Users/pete/Downloads/00-common_all.vcf.gz'\n",
    "index_filename = '/Users/pete/Downloads/00-common_all.vcf.gz.tbi'\n",
    "\n",
    "\n",
    "tsinfo = ctvc.tileset_info(\n",
    "    filename,\n",
    "    chromsizes = cs_df\n",
    ")"
   ]
  },
  {
   "cell_type": "code",
   "execution_count": 13,
   "metadata": {},
   "outputs": [
    {
     "data": {
      "text/plain": [
       "'/Users/pete/Downloads/00-common_all.vcf.gz'"
      ]
     },
     "execution_count": 13,
     "metadata": {},
     "output_type": "execute_result"
    }
   ],
   "source": [
    "filename"
   ]
  },
  {
   "cell_type": "code",
   "execution_count": 14,
   "metadata": {},
   "outputs": [
    {
     "name": "stdout",
     "output_type": "stream",
     "text": [
      "CPU times: user 354 ms, sys: 134 ms, total: 487 ms\n",
      "Wall time: 679 ms\n"
     ]
    }
   ],
   "source": [
    "%%time\n",
    "\n",
    "tile = ctvc.tiles(filename, [\"x.14.0\"], index_filename, cs_df)"
   ]
  },
  {
   "cell_type": "code",
   "execution_count": 5,
   "metadata": {},
   "outputs": [
    {
     "name": "stdout",
     "output_type": "stream",
     "text": [
      "CPU times: user 24.7 ms, sys: 9.02 ms, total: 33.8 ms\n",
      "Wall time: 1.83 s\n"
     ]
    },
    {
     "data": {
      "text/plain": [
       "[{'uid': 'HG2_Ill_svaba_2',\n",
       "  'importance': 0.47214302895201976,\n",
       "  'xStart': 10402.0,\n",
       "  'xEnd': 10440.0,\n",
       "  'chrOffset': 0.0,\n",
       "  'fields': ['1',\n",
       "   10402,\n",
       "   10440,\n",
       "   '1\\t10403\\tHG2_Ill_svaba_2\\tACCCTAACCCTAACCCTAACCCTAACCCTAACCCTAAC\\tA\\t10\\tLongReadHomRef\\tClusterIDs=HG4_Ill_GATKHC_1:HG4_Ill_svaba_2:HG3_Ill_scalpel_1:HG3_Ill_GATKHC_2:HG4_Ill_GATKHC_2:HG3_Ill_svaba_1:HG3_Ill_GATKHC_1:HG2_Ill_svaba_2:HG2_Ill_GATKHC_1:HG4_Ill_svaba_1:HG2_Ill_svaba_1;NumClusterSVs=11;ExactMatchIDs=HG2_Ill_GATKHC_1:HG2_Ill_svaba_2:HG3_Ill_GATKHC_1:HG3_Ill_svaba_1:HG4_Ill_GATKHC_2:HG4_Ill_svaba_2;NumExactMatchSVs=6;ClusterMaxShiftDist=0.315789;ClusterMaxSizeDiff=0.315789;ClusterMaxEditDist=0.315789;PBcalls=0;Illcalls=11;TenXcalls=0;CGcalls=0;PBexactcalls=0;Illexactcalls=6;TenXexactcalls=0;CGexactcalls=0;HG2count=3;HG3count=4;HG4count=4;NumTechs=1;NumTechsExact=1;SVLEN=-37;DistBack=49;DistForward=-26;DistMin=-26;DistMinlt1000=TRUE;MultiTech=FALSE;MultiTechExact=FALSE;SVTYPE=DEL;END=10440;sizecat=20to49;DistPASSHG2gt49Minlt1000=.;DistPASSMinlt1000=.;MendelianError=.;HG003_GT=./.;HG004_GT=./.;TRall=TRUE;TRgt100=TRUE;TRgt10k=FALSE;segdup=TRUE;REPTYPE=SIMPLEDEL;BREAKSIMLENGTH=28;REFWIDENED=1:10402-10469\\tGT:GTcons1:PB_GT:PB_REF:PB_ALT:PBHP_GT:PB_REF_HP1:PB_ALT_HP1:PB_REF_HP2:PB_ALT_HP2:TenX_GT:TenX_REF_HP1:TenX_ALT_HP1:TenX_REF_HP2:TenX_ALT_HP2:ILL250bp_GT:ILL250bp_REF:ILL250bp_ALT:ILLMP_GT:ILLMP_REF:ILLMP_ALT:BNG_LEN_DEL:BNG_LEN_INS:nabsys_svm\\t./.:./.:./.:1:0:./.:0:0:0:0:./.:17:5:28:3:./.:1:2:./.:.:.:.:.:.\\n']},\n",
       " {'uid': 'HG3_Ill_GATKHC_3',\n",
       "  'importance': 0.44426809172864,\n",
       "  'xStart': 10414.0,\n",
       "  'xEnd': 10440.0,\n",
       "  'chrOffset': 0.0,\n",
       "  'fields': ['1',\n",
       "   10414,\n",
       "   10440,\n",
       "   '1\\t10415\\tHG3_Ill_GATKHC_3\\tACCCTAACCCTAACCCTAACCCTAAC\\tA\\t10\\tLongReadHomRef\\tClusterIDs=HG2_Ill_GATKHC_2:HG3_Ill_svaba_2:HG3_Ill_scalpel_2:HG3_Ill_GATKHC_3:HG2_Ill_scalpel_1;NumClusterSVs=5;ExactMatchIDs=HG2_Ill_GATKHC_2:HG3_Ill_svaba_2:HG3_Ill_scalpel_2:HG3_Ill_GATKHC_3:HG2_Ill_scalpel_1;NumExactMatchSVs=5;ClusterMaxShiftDist=0;ClusterMaxSizeDiff=0;ClusterMaxEditDist=0;PBcalls=0;Illcalls=5;TenXcalls=0;CGcalls=0;PBexactcalls=0;Illexactcalls=5;TenXexactcalls=0;CGexactcalls=0;HG2count=2;HG3count=3;HG4count=0;NumTechs=1;NumTechsExact=1;SVLEN=-25;DistBack=-26;DistForward=28;DistMin=-26;DistMinlt1000=TRUE;MultiTech=FALSE;MultiTechExact=FALSE;SVTYPE=DEL;END=10440;sizecat=20to49;DistPASSHG2gt49Minlt1000=.;DistPASSMinlt1000=.;MendelianError=.;HG003_GT=./.;HG004_GT=./.;TRall=TRUE;TRgt100=TRUE;TRgt10k=FALSE;segdup=TRUE;REPTYPE=CONTRAC;BREAKSIMLENGTH=27;REFWIDENED=1:10414-10468\\tGT:GTcons1:PB_GT:PB_REF:PB_ALT:PBHP_GT:PB_REF_HP1:PB_ALT_HP1:PB_REF_HP2:PB_ALT_HP2:TenX_GT:TenX_REF_HP1:TenX_ALT_HP1:TenX_REF_HP2:TenX_ALT_HP2:ILL250bp_GT:ILL250bp_REF:ILL250bp_ALT:ILLMP_GT:ILLMP_REF:ILLMP_ALT:BNG_LEN_DEL:BNG_LEN_INS:nabsys_svm\\t./.:./.:./.:0:1:./.:0:0:0:0:./.:10:7:16:5:./.:1:2:./.:.:.:.:.:.\\n']},\n",
       " {'uid': 'HG4_Ill_GATKHC_3',\n",
       "  'importance': 0.6288960742302091,\n",
       "  'xStart': 10615.0,\n",
       "  'xEnd': 10637.0,\n",
       "  'chrOffset': 0.0,\n",
       "  'fields': ['1',\n",
       "   10615,\n",
       "   10637,\n",
       "   '1\\t10616\\tHG4_Ill_GATKHC_3\\tCCGCCGTTGCAAAGGCGCGCCG\\tC\\t10\\tNoConsensusGT\\tClusterIDs=HG2_Ill_150bpfermikitraw_1:HG4_Ill_GATKHC_3:HG4_Ill_250bpfermikitraw_1:HG3_Ill_150bpfermikitraw_1:HG2_Ill_GATKHC_3:HG2_Ill_250bpfermikitraw_1;NumClusterSVs=6;ExactMatchIDs=HG2_Ill_150bpfermikitraw_1:HG4_Ill_GATKHC_3:HG4_Ill_250bpfermikitraw_1:HG3_Ill_150bpfermikitraw_1:HG2_Ill_GATKHC_3:HG2_Ill_250bpfermikitraw_1;NumExactMatchSVs=6;ClusterMaxShiftDist=0;ClusterMaxSizeDiff=0;ClusterMaxEditDist=0;PBcalls=0;Illcalls=6;TenXcalls=0;CGcalls=0;PBexactcalls=0;Illexactcalls=6;TenXexactcalls=0;CGexactcalls=0;HG2count=3;HG3count=1;HG4count=2;NumTechs=1;NumTechsExact=1;SVLEN=-21;DistBack=143;DistForward=163;DistMin=143;DistMinlt1000=TRUE;MultiTech=FALSE;MultiTechExact=FALSE;SVTYPE=DEL;END=10637;sizecat=20to49;DistPASSHG2gt49Minlt1000=.;DistPASSMinlt1000=.;MendelianError=.;HG003_GT=./.;HG004_GT=./.;TRall=TRUE;TRgt100=TRUE;TRgt10k=FALSE;segdup=TRUE;REPTYPE=SIMPLEDEL;BREAKSIMLENGTH=5;REFWIDENED=1:10615-10643\\tGT:GTcons1:PB_GT:PB_REF:PB_ALT:PBHP_GT:PB_REF_HP1:PB_ALT_HP1:PB_REF_HP2:PB_ALT_HP2:TenX_GT:TenX_REF_HP1:TenX_ALT_HP1:TenX_REF_HP2:TenX_ALT_HP2:ILL250bp_GT:ILL250bp_REF:ILL250bp_ALT:ILLMP_GT:ILLMP_REF:ILLMP_ALT:BNG_LEN_DEL:BNG_LEN_INS:nabsys_svm\\t./.:./.:./.:0:4:./.:0:0:0:0:./.:0:0:0:0:0/1:6:5:./.:.:.:.:.:.\\n']},\n",
       " {'uid': 'HG2_Ill_250bpfermikitraw_2',\n",
       "  'importance': 0.6712829807815817,\n",
       "  'xStart': 54711.0,\n",
       "  'xEnd': 54712.0,\n",
       "  'chrOffset': 0.0,\n",
       "  'fields': ['1',\n",
       "   54711,\n",
       "   54712,\n",
       "   '1\\t54712\\tHG2_Ill_250bpfermikitraw_2\\tT\\tTTTTTTTTTCTTTCTTTCTTTCTTTCTTTCTTTCTTTCTTTCTTTCTTTCTTTC\\t10\\tNoConsensusGT\\tClusterIDs=HG2_Ill_250bpfermikitraw_2:HG2_Ill_GATKHC_4:HG2_Ill_GATKHCSBGrefine_1:HG3_Ill_250bpfermikitraw_1;NumClusterSVs=4;ExactMatchIDs=HG2_Ill_250bpfermikitraw_2:HG3_Ill_250bpfermikitraw_1;NumExactMatchSVs=2;ClusterMaxShiftDist=0.0571429;ClusterMaxSizeDiff=0.0571429;ClusterMaxEditDist=0.0761905;PBcalls=0;Illcalls=4;TenXcalls=0;CGcalls=0;PBexactcalls=0;Illexactcalls=2;TenXexactcalls=0;CGexactcalls=0;HG2count=3;HG3count=1;HG4count=0;NumTechs=1;NumTechsExact=1;SVLEN=53;DistBack=43814;DistForward=-1;DistMin=-1;DistMinlt1000=TRUE;MultiTech=FALSE;MultiTechExact=FALSE;SVTYPE=INS;END=54712;sizecat=50to99;DistPASSHG2gt49Minlt1000=.;DistPASSMinlt1000=.;MendelianError=.;HG003_GT=./.;HG004_GT=./.;TRall=TRUE;TRgt100=TRUE;TRgt10k=FALSE;segdup=TRUE;REPTYPE=DUP;BREAKSIMLENGTH=105;REFWIDENED=1:54713-54817\\tGT:GTcons1:PB_GT:PB_REF:PB_ALT:PBHP_GT:PB_REF_HP1:PB_ALT_HP1:PB_REF_HP2:PB_ALT_HP2:TenX_GT:TenX_REF_HP1:TenX_ALT_HP1:TenX_REF_HP2:TenX_ALT_HP2:ILL250bp_GT:ILL250bp_REF:ILL250bp_ALT:ILLMP_GT:ILLMP_REF:ILLMP_ALT:BNG_LEN_DEL:BNG_LEN_INS:nabsys_svm\\t./.:./.:./.:2:3:./.:0:0:0:0:./.:1:2:0:0:1/1:0:15:./.:.:.:.:.:.\\n']}]"
      ]
     },
     "execution_count": 5,
     "metadata": {},
     "output_type": "execute_result"
    }
   ],
   "source": [
    "%%time\n",
    "\n",
    "ctvc.single_tile(\n",
    "    filename,\n",
    "    index_filename,\n",
    "    cs_df,\n",
    "    tsinfo,\n",
    "    z=15, x=0,\n",
    "    max_tile_width=1e5\n",
    ")"
   ]
  },
  {
   "cell_type": "code",
   "execution_count": 55,
   "metadata": {},
   "outputs": [
    {
     "name": "stdout",
     "output_type": "stream",
     "text": [
      "chrom, start, end 1 0.0 94473.08291625977\n",
      "CPU times: user 33.6 ms, sys: 3.78 ms, total: 37.3 ms\n",
      "Wall time: 38.7 ms\n"
     ]
    },
    {
     "data": {
      "text/plain": [
       "[('x.15.0',\n",
       "  [{'uid': 'HG2_Ill_svaba_2',\n",
       "    'importance': 0.6561968176043511,\n",
       "    'xStart': 10402.0,\n",
       "    'xEnd': 10440.0,\n",
       "    'chrOffset': 0.0,\n",
       "    'fields': ['1', 10402, 10440]},\n",
       "   {'uid': 'HG3_Ill_GATKHC_3',\n",
       "    'importance': 0.10543784967206138,\n",
       "    'xStart': 10414.0,\n",
       "    'xEnd': 10440.0,\n",
       "    'chrOffset': 0.0,\n",
       "    'fields': ['1', 10414, 10440]},\n",
       "   {'uid': 'HG4_Ill_GATKHC_3',\n",
       "    'importance': 0.22633892362040364,\n",
       "    'xStart': 10615.0,\n",
       "    'xEnd': 10637.0,\n",
       "    'chrOffset': 0.0,\n",
       "    'fields': ['1', 10615, 10637]},\n",
       "   {'uid': 'HG2_Ill_250bpfermikitraw_2',\n",
       "    'importance': 0.13035525917051494,\n",
       "    'xStart': 54711.0,\n",
       "    'xEnd': 54712.0,\n",
       "    'chrOffset': 0.0,\n",
       "    'fields': ['1', 54711, 54712]}])]"
      ]
     },
     "execution_count": 55,
     "metadata": {},
     "output_type": "execute_result"
    }
   ],
   "source": [
    "%%time\n",
    "\n",
    "ctvc.tiles(\n",
    "    filename,\n",
    "    ['x.15.0'],\n",
    "    index_filename,\n",
    "    cs_df,\n",
    "    max_tile_width=1e5\n",
    ")"
   ]
  },
  {
   "cell_type": "code",
   "execution_count": 15,
   "metadata": {},
   "outputs": [],
   "source": [
    "from pysam import VariantFile\n",
    "\n",
    "vcf = VariantFile(filename, index_filename=index_filename)  # auto-detect input format\n",
    "\n",
    "vcf.fetch('1',0,1e8)"
   ]
  },
  {
   "cell_type": "code",
   "execution_count": 16,
   "metadata": {},
   "outputs": [
    {
     "data": {
      "text/plain": [
       "<pysam.libcbcf.TabixIterator at 0x1203a2d10>"
      ]
     },
     "execution_count": 16,
     "metadata": {},
     "output_type": "execute_result"
    }
   ],
   "source": [
    "vcf.fetch('1',0,1e8)"
   ]
  },
  {
   "cell_type": "code",
   "execution_count": 37,
   "metadata": {},
   "outputs": [],
   "source": [
    "import itertools as it\n",
    "\n",
    "fetcher = vcf.fetch()"
   ]
  },
  {
   "cell_type": "code",
   "execution_count": 39,
   "metadata": {},
   "outputs": [
    {
     "data": {
      "text/plain": [
       "'HG2_Ill_svaba_2'"
      ]
     },
     "execution_count": 39,
     "metadata": {},
     "output_type": "execute_result"
    }
   ],
   "source": [
    "x = next(fetcher)\n",
    "x.id"
   ]
  },
  {
   "cell_type": "code",
   "execution_count": 40,
   "metadata": {},
   "outputs": [
    {
     "data": {
      "text/plain": [
       "'HG3_Ill_GATKHC_3'"
      ]
     },
     "execution_count": 40,
     "metadata": {},
     "output_type": "execute_result"
    }
   ],
   "source": [
    "x = next(fetcher)\n",
    "x.id"
   ]
  },
  {
   "cell_type": "code",
   "execution_count": 41,
   "metadata": {},
   "outputs": [
    {
     "data": {
      "text/plain": [
       "'HG4_Ill_GATKHC_3'"
      ]
     },
     "execution_count": 41,
     "metadata": {},
     "output_type": "execute_result"
    }
   ],
   "source": [
    "x = next(fetcher)\n",
    "x.id"
   ]
  },
  {
   "cell_type": "code",
   "execution_count": 43,
   "metadata": {},
   "outputs": [],
   "source": [
    "import clodius.tiles.bam as ctb"
   ]
  },
  {
   "cell_type": "code",
   "execution_count": null,
   "metadata": {},
   "outputs": [],
   "source": [
    "ctb.tileset_info()"
   ]
  },
  {
   "cell_type": "code",
   "execution_count": 20,
   "metadata": {},
   "outputs": [
    {
     "data": {
      "application/vnd.jupyter.widget-view+json": {
       "model_id": "6288963e026f467484833bc09f646614",
       "version_major": 2,
       "version_minor": 0
      },
      "text/plain": [
       "HiGlassDisplay(viewconf={'editable': True, 'views': [{'uid': 'VXeKy_qcRU6pU7_K_VvKUg', 'tracks': {'top': [{'ty…"
      ]
     },
     "metadata": {},
     "output_type": "display_data"
    }
   ],
   "source": [
    "import higlass\n",
    "from higlass.client import View, Track\n",
    "import numpy as np\n",
    "\n",
    "dim = 2000\n",
    "I, J = np.indices((dim, dim))\n",
    "data = (\n",
    "    -(J + 47) * np.sin(np.sqrt(np.abs(I / 2 + (J + 47))))\n",
    "    - I * np.sin(np.sqrt(np.abs(I - (J + 47))))\n",
    ")\n",
    "\n",
    "from  clodius.tiles import npmatrix\n",
    "from higlass.tilesets import Tileset\n",
    "\n",
    "ts = Tileset(\n",
    "    tileset_info=lambda: npmatrix.tileset_info(data),\n",
    "    tiles=lambda tids: npmatrix.tiles_wrapper(data, tids)\n",
    ")\n",
    "\n",
    "display, server, viewconf = higlass.display([\n",
    "    View([\n",
    "        Track(track_type='top-axis', position='top'),\n",
    "        Track(track_type='left-axis', position='left'),\n",
    "        Track(track_type='heatmap',\n",
    "              position='center',\n",
    "              tileset=ts,\n",
    "              height=250,\n",
    "              options={ 'valueScaleMax': 0.5 }),\n",
    "\n",
    "    ])\n",
    "], fuse=False)\n",
    "display"
   ]
  },
  {
   "cell_type": "code",
   "execution_count": null,
   "metadata": {},
   "outputs": [],
   "source": []
  }
 ],
 "metadata": {
  "kernelspec": {
   "display_name": "Python 3",
   "language": "python",
   "name": "python3"
  },
  "language_info": {
   "codemirror_mode": {
    "name": "ipython",
    "version": 3
   },
   "file_extension": ".py",
   "mimetype": "text/x-python",
   "name": "python",
   "nbconvert_exporter": "python",
   "pygments_lexer": "ipython3",
   "version": "3.8.12"
  }
 },
 "nbformat": 4,
 "nbformat_minor": 4
}
