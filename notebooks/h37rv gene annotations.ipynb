{
 "cells": [
  {
   "cell_type": "code",
   "execution_count": 78,
   "metadata": {
    "collapsed": true,
    "jupyter": {
     "outputs_hidden": true
    }
   },
   "outputs": [],
   "source": [
    "import os.path as op\n",
    "import gffutils\n",
    "\n",
    "# http://bacteria.ensembl.org/info/website/ftp/index.html\n",
    "# ftp://ftp.ensemblgenomes.org/pub/release-32/bacteria//gtf/bacteria_0_collection/mycobacterium_tuberculosis_h37rv/\n",
    "\n",
    "fn = op.expanduser('~/Dropbox/data/ensembl/Mycobacterium_tuberculosis_h37rv.ASM19595v2.32.gtf.gz')\n",
    "db_name = op.expanduser('~/Dropbox/data/ensembl/Mycobacterium_tuberculosis_h37rv.ASM19595v2.32.db')"
   ]
  },
  {
   "cell_type": "code",
   "execution_count": 79,
   "metadata": {},
   "outputs": [],
   "source": [
    "#db = gffutils.create_db(fn, dbfn=db_name, force=True, keep_order=True, merge_strategy='merge', sort_attribute_values=True)"
   ]
  },
  {
   "cell_type": "code",
   "execution_count": 80,
   "metadata": {},
   "outputs": [],
   "source": [
    "db = gffutils.FeatureDB(db_name, keep_order=True)"
   ]
  },
  {
   "cell_type": "code",
   "execution_count": 81,
   "metadata": {},
   "outputs": [],
   "source": [
    "def extract_annotations(db):\n",
    "    '''\n",
    "    Extract gene annotations from the gff db\n",
    "    \n",
    "    Paramters\n",
    "    ---------\n",
    "    db: gffutils.FeatureDB\n",
    "        The database containing annotations database\n",
    "    \n",
    "    Returns:\n",
    "    --------\n",
    "    gene_annotations: [{'gene_name': ...}]\n",
    "        Annotations containing the gene starts, ends and exons\n",
    "    '''\n",
    "    annotations = []\n",
    "\n",
    "    for gene in db.features_of_type('gene', order_by='start'):\n",
    "        #print(\"gene:\", gene)\n",
    "        transcripts = db.children(gene, featuretype='transcript')\n",
    "        transcript_objs = []\n",
    "\n",
    "        gene_type = ''\n",
    "\n",
    "        try:\n",
    "            gene_type = gene['gene_biotype'][0]\n",
    "        except Exception as ex:\n",
    "            pass\n",
    "\n",
    "        for transcript in transcripts:\n",
    "            #print(\"children:\", list(db.children(transcript)))\n",
    "\n",
    "            transcript_obj = None\n",
    "            \n",
    "            try:\n",
    "                start_codon = next(db.children(transcript, featuretype='start_codon'))\n",
    "                end_codon = next(db.children(transcript, featuretype='stop_codon'))\n",
    "\n",
    "                transcript_obj = {\n",
    "                    'start_codon': { 'start': start_codon.start, \n",
    "                                    'end': start_codon.end,\n",
    "                                   'chrom': start_codon.chrom,\n",
    "                                   },\n",
    "                    'end_codon': { 'start': end_codon.start, \n",
    "                                  'end': end_codon.end,\n",
    "                                 'chrom': end_codon.chrom,\n",
    "                                 }\n",
    "                    }\n",
    "            except Exception as ex:\n",
    "                pass\n",
    "\n",
    "            \n",
    "            if transcript_obj is not None:\n",
    "                exons = db.children(transcript, featuretype='exon')\n",
    "                exon_objs = []\n",
    "                for exon in exons:\n",
    "                    exon_objs += [{\n",
    "                        'start': exon.start,\n",
    "                        'end': exon.end,\n",
    "                        'chrom': exon.chrom,\n",
    "                    }]\n",
    "                transcript_obj['exons'] = exon_objs\n",
    "\n",
    "                cdss = db.children(transcript, featuretype='CDS')\n",
    "                cds_objs = []\n",
    "                for cds in cdss:\n",
    "                    cds_objs += [{\n",
    "                        'start': cds.start,\n",
    "                        'end': cds.end,\n",
    "                        'chrom': cds.chrom,\n",
    "                    }]\n",
    "                transcript_obj['CDSs'] = cds_objs\n",
    "\n",
    "                transcript_objs += [transcript_obj]\n",
    "\n",
    "        gene_name = ''\n",
    "\n",
    "        try:\n",
    "            gene_name = gene['gene_name'][0]\n",
    "        except Exception as ex:\n",
    "            pass\n",
    "\n",
    "        try:\n",
    "            gene_id = gene['gene_id'][0]\n",
    "        except Exception as ex:\n",
    "            pass\n",
    "\n",
    "        annotations += [{\n",
    "            'start': gene.start,\n",
    "            'end': gene.end,\n",
    "            'chrom': gene.chrom,\n",
    "            'gene_name': gene_name,\n",
    "            'gene_type': gene_type,\n",
    "            'ensembl_id': gene_id,\n",
    "            'transcripts': transcript_objs,  \n",
    "        }]\n",
    "\n",
    "    return annotations\n",
    "\n",
    "annotations_h37rv = extract_annotations(db)"
   ]
  },
  {
   "cell_type": "code",
   "execution_count": 82,
   "metadata": {},
   "outputs": [
    {
     "name": "stdout",
     "output_type": "stream",
     "text": [
      "Rv0001 dnaA protein_coding 1\n",
      "Rv0002 dnaN protein_coding 2052\n",
      "Rv0003 recF protein_coding 3280\n",
      "Rv0004  protein_coding 4434\n",
      "Rv0005 gyrB protein_coding 5240\n",
      "Rv0006 gyrA protein_coding 7302\n",
      "Rv0007  protein_coding 9914\n",
      "EBG00000313329 ileT tRNA 10887\n",
      "EBG00000313365 alaT tRNA 11112\n",
      "Rv0008c  protein_coding 11874\n"
     ]
    }
   ],
   "source": [
    "for a in annotations_h37rv[:10]:\n",
    "    print(a['ensembl_id'], a['gene_name'], a['gene_type'], a['start'])"
   ]
  },
  {
   "cell_type": "code",
   "execution_count": 75,
   "metadata": {},
   "outputs": [
    {
     "name": "stdout",
     "output_type": "stream",
     "text": [
      "ENSMUSG00000064336 mt-Tf Mt_tRNA 1\n",
      "ENSMUSG00000095742 CAAA01147332.1 protein_coding 66\n",
      "ENSMUSG00000064337 mt-Rnr1 Mt_rRNA 70\n",
      "ENSMUSG00000094121 Ccl21b protein_coding 394\n",
      "ENSMUSG00000064338 mt-Tv Mt_tRNA 1025\n",
      "ENSMUSG00000064339 mt-Rnr2 Mt_rRNA 1094\n",
      "ENSMUSG00000093828 Ccl27a protein_coding 2012\n",
      "ENSMUSG00000064340 mt-Tl1 Mt_tRNA 2676\n",
      "ENSMUSG00000064341 mt-Nd1 protein_coding 2751\n",
      "ENSMUSG00000096730 Vmn2r122 protein_coding 3536\n",
      "CPU times: user 4min 2s, sys: 41.5 s, total: 4min 44s\n",
      "Wall time: 6min 27s\n"
     ]
    }
   ],
   "source": [
    "%%time\n",
    "\n",
    "db_name = op.expanduser('~/Dropbox/data/ensembl/Mus_musculus.GRCm38.91.db')\n",
    "db = gffutils.FeatureDB(db_name, keep_order=True)\n",
    "annotations_mm10 = extract_annotations(db)\n",
    "\n",
    "for a in annotations_mm10[:10]:\n",
    "    print(a['ensembl_id'], a['gene_name'], a['gene_type'], a['start'])"
   ]
  },
  {
   "cell_type": "code",
   "execution_count": 76,
   "metadata": {
    "collapsed": true,
    "jupyter": {
     "outputs_hidden": true
    }
   },
   "outputs": [],
   "source": [
    "annotations_mm10 = annotations"
   ]
  },
  {
   "cell_type": "code",
   "execution_count": null,
   "metadata": {
    "collapsed": true,
    "jupyter": {
     "outputs_hidden": true
    }
   },
   "outputs": [],
   "source": []
  }
 ],
 "metadata": {
  "kernelspec": {
   "display_name": "Python 3 (ipykernel)",
   "language": "python",
   "name": "python3"
  },
  "language_info": {
   "codemirror_mode": {
    "name": "ipython",
    "version": 3
   },
   "file_extension": ".py",
   "mimetype": "text/x-python",
   "name": "python",
   "nbconvert_exporter": "python",
   "pygments_lexer": "ipython3",
   "version": "3.10.15"
  }
 },
 "nbformat": 4,
 "nbformat_minor": 4
}
