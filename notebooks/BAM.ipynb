{
 "cells": [
  {
   "cell_type": "code",
   "execution_count": 1,
   "metadata": {},
   "outputs": [],
   "source": [
    "%load_ext autoreload\n",
    "%autoreload 2"
   ]
  },
  {
   "cell_type": "markdown",
   "metadata": {},
   "source": [
    "## Debugging resgen BAM files"
   ]
  },
  {
   "cell_type": "code",
   "execution_count": 2,
   "metadata": {},
   "outputs": [
    {
     "ename": "NameError",
     "evalue": "name 'indexfile' is not defined",
     "output_type": "error",
     "traceback": [
      "\u001b[0;31m---------------------------------------------------------------------------\u001b[0m",
      "\u001b[0;31mNameError\u001b[0m                                 Traceback (most recent call last)",
      "\u001b[0;32m<ipython-input-2-7e4605f687ae>\u001b[0m in \u001b[0;36m<module>\u001b[0;34m\u001b[0m\n\u001b[1;32m      5\u001b[0m \u001b[0mindex_filename\u001b[0m \u001b[0;34m=\u001b[0m \u001b[0;34mf'{base}.bai..'\u001b[0m\u001b[0;34m\u001b[0m\u001b[0;34m\u001b[0m\u001b[0m\n\u001b[1;32m      6\u001b[0m \u001b[0;34m\u001b[0m\u001b[0m\n\u001b[0;32m----> 7\u001b[0;31m \u001b[0mf\u001b[0m \u001b[0;34m=\u001b[0m \u001b[0mpysam\u001b[0m\u001b[0;34m.\u001b[0m\u001b[0mAlignmentFile\u001b[0m\u001b[0;34m(\u001b[0m\u001b[0mfilename\u001b[0m\u001b[0;34m,\u001b[0m \u001b[0mindex_filename\u001b[0m\u001b[0;34m=\u001b[0m\u001b[0mindexfile\u001b[0m\u001b[0;34m)\u001b[0m\u001b[0;34m\u001b[0m\u001b[0;34m\u001b[0m\u001b[0m\n\u001b[0m",
      "\u001b[0;31mNameError\u001b[0m: name 'indexfile' is not defined"
     ]
    }
   ],
   "source": [
    "import pysam\n",
    "\n",
    "base = '/tmp/https/s3.amazonaws.com/nanopore-human-wgs/chm13/assemblies/alignments/chm13.draft_v1.0.hifi.bam'\n",
    "filename = f'{base}..'\n",
    "index_filename = f'{base}.bai..'\n",
    "\n",
    "f = pysam.AlignmentFile(filename, index_filename=indexfile)"
   ]
  },
  {
   "cell_type": "code",
   "execution_count": null,
   "metadata": {},
   "outputs": [],
   "source": [
    "import clodius.tiles.bam as ctb\n",
    "\n",
    "tiles = ctb.tiles(filename, ['x.21.726040'], index_filename=indexfile)"
   ]
  },
  {
   "cell_type": "code",
   "execution_count": null,
   "metadata": {},
   "outputs": [],
   "source": [
    "# reads = list(f.fetch('chr8', 86423911.0, 86425959.0))\n",
    "reads = list(f.fetch('chr1', 0, 500000))\n",
    "\n",
    "for read in reads:\n",
    "    try:\n",
    "        ap = read.get_aligned_pairs(with_seq=True)\n",
    "#         print(                    [\n",
    "#                             (r[0], r[1], read.query_sequence[r[0]])\n",
    "#                             for r in ap\n",
    "#                             if r[2] is not None and r[2].islower()\n",
    "#                         ])\n",
    "    except TypeError:\n",
    "        print('read', read)"
   ]
  },
  {
   "cell_type": "code",
   "execution_count": null,
   "metadata": {},
   "outputs": [],
   "source": [
    "print(reads[0])"
   ]
  },
  {
   "cell_type": "markdown",
   "metadata": {},
   "source": [
    "## Other stuff"
   ]
  },
  {
   "cell_type": "code",
   "execution_count": null,
   "metadata": {},
   "outputs": [],
   "source": [
    "import clodius.tiles.bam as ctb\n",
    "import pysam\n",
    "\n",
    "filename = '/Users/pete/projects/resgen-server/media/https//ftp-trace.ncbi.nlm.nih.gov/ReferenceSamples/giab/data/AshkenazimTrio/HG002_NA24385_son/PacBio_CCS_15kb_20kb_chemistry2/GRCh37/HG002.SequelII.merged_15kb_20kb.pbmm2.hs37d5.haplotag.RTG.10x.trio.bam..'\n",
    "index_filename = '/Users/pete/projects/resgen-server/media/https//ftp-trace.ncbi.nlm.nih.gov/ReferenceSamples/giab/data/AshkenazimTrio/HG002_NA24385_son/PacBio_CCS_15kb_20kb_chemistry2/GRCh37/HG002.SequelII.merged_15kb_20kb.pbmm2.hs37d5.haplotag.RTG.10x.trio.bam.bai..'\n",
    "\n",
    "f = pysam.AlignmentFile(filename, index_filename=index_filename)"
   ]
  },
  {
   "cell_type": "code",
   "execution_count": null,
   "metadata": {},
   "outputs": [],
   "source": [
    "reads = f.fetch('1', 0, 100000)\n",
    "# for read in reads:\n",
    "#     print(read.mapq)"
   ]
  },
  {
   "cell_type": "markdown",
   "metadata": {},
   "source": []
  },
  {
   "cell_type": "markdown",
   "metadata": {},
   "source": [
    "## Benchmark ONT tile loading speed"
   ]
  },
  {
   "cell_type": "code",
   "execution_count": 12,
   "metadata": {},
   "outputs": [],
   "source": [
    "filename = '/Users/pete/projects/resgen-server/media/https//s3.amazonaws.com/nanopore-human-wgs/chm13/assemblies/alignments/chm13.draft_v1.0.ont.bam..'\n",
    "index_filename = '/Users/pete/projects/resgen-server/media/https//s3.amazonaws.com/nanopore-human-wgs/chm13/assemblies/alignments/chm13.draft_v1.0.ont.bam.bai..'"
   ]
  },
  {
   "cell_type": "code",
   "execution_count": 82,
   "metadata": {},
   "outputs": [
    {
     "name": "stdout",
     "output_type": "stream",
     "text": [
      "start 148743724 end 148809260\n",
      "total_size 2110063\n",
      "time 23.046746253967285\n",
      "CPU times: user 6.32 s, sys: 513 ms, total: 6.83 s\n",
      "Wall time: 23.3 s\n"
     ]
    }
   ],
   "source": [
    "%%time\n",
    "\n",
    "import clodius.tiles.bam as ctb\n",
    "\n",
    "tile = ctb.tiles(filename=filename, tile_ids=['x.16.9763'], index_filename=index_filename)"
   ]
  },
  {
   "cell_type": "code",
   "execution_count": 83,
   "metadata": {},
   "outputs": [
    {
     "data": {
      "text/plain": [
       "460"
      ]
     },
     "execution_count": 83,
     "metadata": {},
     "output_type": "execute_result"
    }
   ],
   "source": [
    "len(tile[0][1]['id'])"
   ]
  },
  {
   "cell_type": "code",
   "execution_count": 51,
   "metadata": {},
   "outputs": [],
   "source": [
    "import clodius.tiles.tabix as ctix\n",
    "\n",
    "bai = ctix.load_bai_index(index_filename)"
   ]
  },
  {
   "cell_type": "code",
   "execution_count": 92,
   "metadata": {},
   "outputs": [
    {
     "name": "stdout",
     "output_type": "stream",
     "text": [
      "10000 744827\n",
      "210000 4882724\n",
      "410000 9048682\n",
      "610000 13148473\n",
      "810000 17849667\n"
     ]
    }
   ],
   "source": [
    "for i in range(10000, int(1e6), 200000):\n",
    "    print(i, ctix.est_query_size_ix(bai[2], 1, i))\n"
   ]
  },
  {
   "cell_type": "code",
   "execution_count": 98,
   "metadata": {},
   "outputs": [
    {
     "name": "stdout",
     "output_type": "stream",
     "text": [
      "10000 1188739\n",
      "210000 16186994\n",
      "410000 32675881\n",
      "610000 48191992\n",
      "810000 63564980\n"
     ]
    }
   ],
   "source": [
    "filename = \"/Users/pete/projects/resgen-server/media/https//s3.amazonaws.com/nanopore-human-wgs/chm13/assemblies/alignments/chm13.draft_v1.0.pcrfree.bam..\"\n",
    "index_filename = \"/Users/pete/projects/resgen-server/media/https//s3.amazonaws.com/nanopore-human-wgs/chm13/assemblies/alignments/chm13.draft_v1.0.pcrfree.bam.bai..\"\n",
    "\n",
    "import clodius.tiles.tabix as ctix\n",
    "\n",
    "bai = ctix.load_bai_index(index_filename)\n",
    "for i in range(10000, int(1e6), 200000):\n",
    "    print(i, ctix.est_query_size_ix(bai[2], 1, i))\n"
   ]
  },
  {
   "cell_type": "code",
   "execution_count": 100,
   "metadata": {},
   "outputs": [
    {
     "name": "stdout",
     "output_type": "stream",
     "text": [
      "10000 1005082\n",
      "210000 40766663\n",
      "410000 85077943\n",
      "610000 125843420\n",
      "810000 166371510\n"
     ]
    }
   ],
   "source": [
    "index_filename = \"/Users/pete/projects/resgen-server/media/https//ftp-trace.ncbi.nlm.nih.gov/ReferenceSamples/giab/data/AshkenazimTrio/HG002_NA24385_son/NIST_HiSeq_HG002_Homogeneity-10953946/NHGRI_Illumina300X_AJtrio_novoalign_bams/HG002.GRCh38.300x.bam.bai..\"\n",
    "\n",
    "import clodius.tiles.tabix as ctix\n",
    "\n",
    "bai = ctix.load_bai_index(index_filename)\n",
    "for i in range(10000, int(1e6), 200000):\n",
    "    print(i, ctix.est_query_size_ix(bai[2], 1, i))"
   ]
  },
  {
   "cell_type": "code",
   "execution_count": 101,
   "metadata": {},
   "outputs": [
    {
     "name": "stdout",
     "output_type": "stream",
     "text": [
      "10000 0\n",
      "210000 6453945\n",
      "410000 15593884\n",
      "610000 24105553\n",
      "810000 33264249\n"
     ]
    }
   ],
   "source": [
    "index_filename = \"/Users/pete/projects/resgen-server/media/https//ftp-trace.ncbi.nlm.nih.gov/ReferenceSamples/giab/data/AshkenazimTrio/HG002_NA24385_son/NIST_HiSeq_HG002_Homogeneity-10953946/NHGRI_Illumina300X_AJtrio_novoalign_bams/HG002.hs37d5.60x.1.bam.bai..\"\n",
    "\n",
    "import clodius.tiles.tabix as ctix\n",
    "\n",
    "bai = ctix.load_bai_index(index_filename)\n",
    "for i in range(10000, int(1e6), 200000):\n",
    "    print(i, ctix.est_query_size_ix(bai[2], 1, i))"
   ]
  },
  {
   "cell_type": "code",
   "execution_count": null,
   "metadata": {},
   "outputs": [],
   "source": []
  }
 ],
 "metadata": {
  "kernelspec": {
   "display_name": "Python 3",
   "language": "python",
   "name": "python3"
  },
  "language_info": {
   "codemirror_mode": {
    "name": "ipython",
    "version": 3
   },
   "file_extension": ".py",
   "mimetype": "text/x-python",
   "name": "python",
   "nbconvert_exporter": "python",
   "pygments_lexer": "ipython3",
   "version": "3.8.3"
  }
 },
 "nbformat": 4,
 "nbformat_minor": 4
}
