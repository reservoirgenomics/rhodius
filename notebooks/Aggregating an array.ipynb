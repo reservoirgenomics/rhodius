{
 "cells": [
  {
   "cell_type": "code",
   "execution_count": 1,
   "metadata": {
    "collapsed": true,
    "jupyter": {
     "outputs_hidden": true
    }
   },
   "outputs": [],
   "source": [
    "import scipy.stats as ss"
   ]
  },
  {
   "cell_type": "code",
   "execution_count": 2,
   "metadata": {
    "collapsed": true,
    "jupyter": {
     "outputs_hidden": true
    }
   },
   "outputs": [],
   "source": [
    "%matplotlib inline"
   ]
  },
  {
   "cell_type": "markdown",
   "metadata": {},
   "source": [
    "## Example with n x 1 data"
   ]
  },
  {
   "cell_type": "code",
   "execution_count": 23,
   "metadata": {},
   "outputs": [
    {
     "data": {
      "text/plain": [
       "array([[ 0.71705892,  0.14338901,  0.55216855,  0.16642784,  0.27656289],\n",
       "       [ 0.10572914,  0.49014827,  0.56487726,  0.14602259,  0.14897216],\n",
       "       [ 0.80110396,  0.39537675,  0.12272142,  0.39572787,  0.20174706],\n",
       "       ..., \n",
       "       [ 0.79984014,  0.99240982,  0.42382351,  0.23441801,  0.70807181],\n",
       "       [ 0.41059782,  0.45930933,  0.25596535,  0.23151271,  0.71220148],\n",
       "       [ 0.23132378,  0.75998546,  0.75783796,  0.56483733,  0.43935977]])"
      ]
     },
     "execution_count": 23,
     "metadata": {},
     "output_type": "execute_result"
    }
   ],
   "source": [
    "np.random.random((10000,5))"
   ]
  },
  {
   "cell_type": "code",
   "execution_count": 24,
   "metadata": {
    "collapsed": true,
    "jupyter": {
     "outputs_hidden": true
    }
   },
   "outputs": [],
   "source": [
    "f = h5py.File('/tmp/blah.h5', 'w')\n",
    "\n",
    "d = f.create_dataset('chr1', (10000,5), compression='gzip')\n",
    "d[:] = np.random.random((10000,5))\n",
    "f.close()"
   ]
  },
  {
   "cell_type": "code",
   "execution_count": 59,
   "metadata": {},
   "outputs": [
    {
     "data": {
      "text/plain": [
       "[<matplotlib.lines.Line2D at 0x110631278>]"
      ]
     },
     "execution_count": 59,
     "metadata": {},
     "output_type": "execute_result"
    },
    {
     "data": {
      "image/png": "[encoded data removed]",
      "text/plain": [
       "<matplotlib.figure.Figure at 0x11055aeb8>"
      ]
     },
     "metadata": {},
     "output_type": "display_data"
    }
   ],
   "source": [
    "## create some input data\n",
    "import matplotlib.pyplot as plt\n",
    "import scipy.stats as ss\n",
    "\n",
    "array_length = 10000\n",
    "\n",
    "xs = range(array_length)\n",
    "array_data = [ss.norm.pdf(i, array_length/2, array_length/5) for i in xs]\n",
    "plt.plot(xs, array_data)"
   ]
  },
  {
   "cell_type": "code",
   "execution_count": 277,
   "metadata": {},
   "outputs": [
    {
     "name": "stdout",
     "output_type": "stream",
     "text": [
      "array_data.shape (10,)\n",
      "array_data.shape (8,)\n",
      "array_data.shape (5,)\n",
      "max_zoom: 4\n",
      "[ 0.  1.  2.  3.  4.  5.  6.  7.  8.  9.]\n",
      "[  1.   5.   9.  13.  17.]\n",
      "[  6.  22.  34.]\n"
     ]
    }
   ],
   "source": [
    "import h5py \n",
    "import math\n",
    "import os\n",
    "import os.path as op\n",
    "import numpy as np\n",
    "\n",
    "def create_multires(array_data, chromsizes, \n",
    "                    agg, starting_resolution=1,\n",
    "                    tile_size=1024, output_file='/tmp/my_file.multires'):\n",
    "    '''\n",
    "    Create a multires file containing the array data\n",
    "    aggregated at multiple resolutions.\n",
    "    \n",
    "    Parameters\n",
    "    ----------\n",
    "    array_data: {'chrom_key': np.array, }\n",
    "        The array data to aggregate organized by chromosome\n",
    "    chromsizes: [('chrom_key', size),...]\n",
    "    agg: lambda\n",
    "        The function that will aggregate the data. Should\n",
    "        take an array as input and create another array of\n",
    "        roughly half the length\n",
    "    starting_resolution: int (default 1)\n",
    "        The starting resolution of the input data\n",
    "    tile_size: int\n",
    "        The tile size that we want higlass to use. This should\n",
    "        depend on the size of the data but when in doubt, just use\n",
    "        256.\n",
    "    '''\n",
    "    filename = output_file\n",
    "\n",
    "    # this is just so we can run this code\n",
    "    # multiple times without h5py complaining\n",
    "    if op.exists(filename):\n",
    "        os.remove(filename)\n",
    "\n",
    "    # this will be the file that contains our multires data\n",
    "    f = h5py.File(filename, 'w')\n",
    "        \n",
    "    # store some metadata\n",
    "    f.create_group('info')\n",
    "    f['info'].attrs['tile-size'] = tile_size\n",
    "    \n",
    "    f.create_group('resolutions')\n",
    "    f.create_group('chroms')\n",
    "\n",
    "    # start with a resolution of 1 element per pixel\n",
    "    curr_resolution = starting_resolution\n",
    "\n",
    "    # this will be our sample highest-resolution array\n",
    "    # and it will be stored under the resolutions['1']\n",
    "    # dataset\n",
    "    f['resolutions'].create_group(str(curr_resolution))\n",
    "\n",
    "    chroms = [c[0] for c in chromsizes]\n",
    "    lengths = np.array([c[1] for c in chromsizes])\n",
    "    chrom_array = np.array(chroms, dtype='S')\n",
    "    \n",
    "    # add the chromosome information\n",
    "    f['resolutions'][str(curr_resolution)].create_group('chroms')\n",
    "    f['resolutions'][str(curr_resolution)].create_group('values')\n",
    "    f['resolutions'][str(curr_resolution)]['chroms'].create_dataset('name', shape=(len(chroms),), dtype=chrom_array.dtype, data=chrom_array)\n",
    "    f['resolutions'][str(curr_resolution)]['chroms'].create_dataset('length', shape=(len(chroms),), data=lengths)\n",
    "\n",
    "    f['chroms'].create_dataset('name', shape=(len(chroms),), dtype=chrom_array.dtype, data=chrom_array)\n",
    "    f['chroms'].create_dataset('length', shape=(len(chroms),), data=lengths)\n",
    "\n",
    "    # add the data\n",
    "    for chrom,length in chromsizes:\n",
    "        f['resolutions'][str(curr_resolution)]['values'].create_dataset(str(chrom), array_data[chrom].shape)\n",
    "        print(\"array_data.shape\", array_data[chrom].shape)\n",
    "        f['resolutions'][str(curr_resolution)]['values'][chrom][:] = array_data[chrom]    # see above section\n",
    "        \n",
    "\n",
    "    # the maximum zoom level corresponds to the number of aggregations\n",
    "    # that need to be performed so that the entire extent of\n",
    "    # the dataset fits into one tile\n",
    "    total_length = sum([c[1] for c in chromsizes])\n",
    "    max_zoom = math.ceil(math.log(total_length / (tile_size * starting_resolution) ) / math.log(2))\n",
    "    print(\"max_zoom:\", max_zoom)\n",
    "    \n",
    "    # we're going to go through and create the data for the different\n",
    "    # zoom levels by summing adjacent data points\n",
    "    prev_resolution = curr_resolution\n",
    "\n",
    "    for i in range(max_zoom):\n",
    "        # each subsequent zoom level will have half as much data\n",
    "        # as the previous\n",
    "        curr_resolution = prev_resolution * 2\n",
    "        f['resolutions'].create_group(str(curr_resolution))\n",
    "        f['resolutions'][str(curr_resolution)].create_group('chroms')\n",
    "        f['resolutions'][str(curr_resolution)].create_group('values')\n",
    "        f['resolutions'][str(curr_resolution)]['chroms'].create_dataset('name', shape=(len(chroms),), dtype=chrom_array.dtype, data=chrom_array)\n",
    "        f['resolutions'][str(curr_resolution)]['chroms'].create_dataset('length', shape=(len(chroms),), data=lengths)\n",
    "\n",
    "\n",
    "        for chrom,length in chromsizes:\n",
    "            next_level_length = math.ceil(\n",
    "                len(f['resolutions'][str(prev_resolution)]['values'][chrom]) / 2)\n",
    "\n",
    "            old_data = f['resolutions'][str(prev_resolution)]['values'][chrom][:]\n",
    "            #print(\"prev_resolution:\", prev_resolution)\n",
    "            #print(\"old_data.shape\", old_data.shape)\n",
    "\n",
    "            # this is a sort of roundabout way of calculating the \n",
    "            # shape of the aggregated array, but all its doing is\n",
    "            # just halving the first dimension of the previous shape\n",
    "            # without taking into account the other dimensions\n",
    "            new_shape = list(old_data.shape)\n",
    "            new_shape[0] = math.ceil(new_shape[0] / 2)\n",
    "            new_shape = tuple(new_shape)\n",
    "\n",
    "            f['resolutions'][str(curr_resolution)]['values'].create_dataset(chrom, \n",
    "                                            new_shape)\n",
    "\n",
    "            #print(\"11 old_data.shape\", old_data.shape)\n",
    "            if len(old_data) % 2 != 0:\n",
    "                # we need our array to have an even number of elements\n",
    "                # so we just add the last element again\n",
    "                old_data = np.concatenate((old_data, [old_data[-1]]))\n",
    "            #print(\"22 old_data.shape\", old_data.shape)\n",
    "\n",
    "            #print('old_data:', old_data)\n",
    "            #print(\"shape:\", old_data.shape)\n",
    "            # actually sum the adjacent elements\n",
    "            #print(\"old_data.shape\", old_data.shape)\n",
    "            new_data = agg(old_data)\n",
    "\n",
    "            '''\n",
    "            print(\"zoom_level:\", max_zoom - 1 - i, \n",
    "                  \"resolution:\", curr_resolution, \n",
    "                  \"new_data length\", len(new_data))\n",
    "            '''\n",
    "            f['resolutions'][str(curr_resolution)]['values'][chrom][:] = new_data\n",
    "\n",
    "        prev_resolution = curr_resolution\n",
    "    return f\n",
    "\n",
    "chromsizes = [('a', 10), ('b', 8), ('c', 5)]\n",
    "counter = 0\n",
    "chrom_data = {}\n",
    "\n",
    "for chrom,length in chromsizes:\n",
    "    array_data = counter + np.array(range(length))\n",
    "    array_length = len(array_data)\n",
    "    #chrom_data[chrom] = np.array([array_data, array_data * 2]).T\n",
    "    chrom_data[chrom] = array_data\n",
    "    counter += array_length\n",
    "\n",
    "    \n",
    "chrom_lengths = [c[1] for c in chromsizes]\n",
    "\n",
    "f = create_multires(chrom_data, \n",
    "                    chromsizes,\n",
    "                    lambda x: x.T.reshape((-1,2)).sum(axis=1).T,\n",
    "                    #lambda x: x.T.reshape((x.shape[1],-1,2)).sum(axis=2).T,\n",
    "                   tile_size=2)\n",
    "\n",
    "print(f['resolutions']['1']['values']['a'][:])\n",
    "print(f['resolutions']['2']['values']['a'][:])\n",
    "print(f['resolutions']['4']['values']['a'][:])"
   ]
  },
  {
   "cell_type": "code",
   "execution_count": 186,
   "metadata": {
    "collapsed": true,
    "jupyter": {
     "outputs_hidden": true
    }
   },
   "outputs": [],
   "source": [
    "def abs2genomic(chromsizes, start_pos, end_pos):\n",
    "    '''\n",
    "    Convert absolute genomic sizes to genomic\n",
    "    \n",
    "    Parameters:\n",
    "    -----------\n",
    "    chromsizes: [1000,...]\n",
    "        An array of the lengths of the chromosomes\n",
    "    start_pos: int\n",
    "        The starting genomic position\n",
    "    end_pos: int\n",
    "        The ending genomic position\n",
    "    '''\n",
    "    abs_chrom_offsets = np.r_[0, np.cumsum(chromsizes)]\n",
    "    cid_lo, cid_hi = np.searchsorted(abs_chrom_offsets,\n",
    "                                   [start_pos, end_pos],\n",
    "                                   side='right') - 1\n",
    "    rel_pos_lo = start_pos - abs_chrom_offsets[cid_lo]\n",
    "    rel_pos_hi = end_pos - abs_chrom_offsets[cid_hi]\n",
    "    start = rel_pos_lo\n",
    "    for cid in range(cid_lo, cid_hi):\n",
    "      yield cid, start, chromsizes[cid]\n",
    "      start = 0\n",
    "    yield cid_hi, start, rel_pos_hi"
   ]
  },
  {
   "cell_type": "code",
   "execution_count": 190,
   "metadata": {
    "collapsed": true,
    "jupyter": {
     "outputs_hidden": true
    }
   },
   "outputs": [],
   "source": [
    "def get_tileset_info(f):\n",
    "    '''\n",
    "    Return some information about this tileset that will\n",
    "    help render it in on the client.\n",
    "    \n",
    "    Parameters\n",
    "    ----------\n",
    "    f: h5py.File\n",
    "        The f for which we're returning tileset info\n",
    "    \n",
    "    Returns\n",
    "    -------\n",
    "    tileset_info: {}\n",
    "        A dictionary containing the information describing\n",
    "        this dataset\n",
    "    '''\n",
    "    # a sorted list of resolutions, lowest to highest\n",
    "    # awkward to write because a the numbers representing resolution\n",
    "    # are datapoints / pixel so lower resolution is actually a higher\n",
    "    # number\n",
    "    resolutions = sorted([int(r) for r in f['resolutions'].keys()])[::-1]\n",
    "    \n",
    "    # the \"leftmost\" datapoint position\n",
    "    # an array because higlass can display multi-dimensional\n",
    "    # data\n",
    "    min_pos = [0]\n",
    "    \n",
    "    # the \"rightmost\" datapoint position\n",
    "    max_pos = [len(f['resolutions'][str(resolutions[-1])])]\n",
    "    tile_size = f['info'].attrs['tile-size']\n",
    "    \n",
    "    return {\n",
    "        'resolutions': resolutions,\n",
    "        'min_pos': min_pos, \n",
    "        'tile_size': tile_size\n",
    "    }"
   ]
  },
  {
   "cell_type": "code",
   "execution_count": 191,
   "metadata": {},
   "outputs": [
    {
     "name": "stdout",
     "output_type": "stream",
     "text": [
      "{'resolutions': [16, 8, 4, 2, 1], 'min_pos': [0], 'tile_size': 2}\n"
     ]
    }
   ],
   "source": [
    "print(get_tileset_info(f))"
   ]
  },
  {
   "cell_type": "code",
   "execution_count": 201,
   "metadata": {},
   "outputs": [
    {
     "name": "stdout",
     "output_type": "stream",
     "text": [
      "cid: 0 n_bins: 3\n",
      "x: [  6.  22.  34.]\n",
      "dropping\n",
      "cid: 1 n_bins: 2\n",
      "x: [ 46.  62.]\n",
      "cid: 2 n_bins: 2\n",
      "x: [ 78.  88.]\n",
      "dropping\n",
      "cid: 3 n_bins: 0\n"
     ]
    },
    {
     "data": {
      "text/plain": [
       "array([  6.,  22.,  46.,  62.,  78.])"
      ]
     },
     "execution_count": 201,
     "metadata": {},
     "output_type": "execute_result"
    }
   ],
   "source": [
    "def get_tile(vals, chromsizes, resolution, start_pos, end_pos):\n",
    "    '''\n",
    "    Get the tile value given the start and end positions and\n",
    "    chromosome positions. \n",
    "    \n",
    "    Drop bins at the ends of chromosomes if those bins aren't\n",
    "    full.\n",
    "    \n",
    "    Parameters:\n",
    "    -----------\n",
    "    vals: [...]\n",
    "        An array of values for each bin along the genome\n",
    "    chromsizes: [int]\n",
    "        The sizes of the chromosomes in the order in which\n",
    "        they should be displayed.\n",
    "    resolution: int\n",
    "        The size of each bin, except for the last bin in each\n",
    "        chromosome.\n",
    "    start_pos: int\n",
    "        The start_position of the interval to return\n",
    "    end_pos: int\n",
    "        The end position of the interval to return\n",
    "        \n",
    "    Returns\n",
    "    -------\n",
    "    return_vals: [...]\n",
    "        A subset of the original genome-wide values containing\n",
    "        the values for the portion of the genome that is visible.\n",
    "    '''\n",
    "    binsize = resolution\n",
    "\n",
    "    arrays = []\n",
    "    for cid, start, end in abs2genomic([c[1] for c in chromsizes], start_pos, end_pos):\n",
    "        n_bins = int(np.ceil((end - start) / binsize))\n",
    "        print(\"cid:\", cid, 'n_bins:', n_bins)\n",
    "        \n",
    "        try:\n",
    "            chrom = chromsizes[cid][0]\n",
    "            clen = chromsizes[cid][1]\n",
    "\n",
    "            start_pos = start // binsize\n",
    "            end_pos = end // binsize + 1\n",
    "            \n",
    "            x = f['resolutions'][str(resolution)]['values'][chrom][start_pos:end_pos]\n",
    "            print(\"x:\", x)\n",
    "\n",
    "            # drop the very last bin if it is smaller than the binsize\n",
    "            if len(x) > 1 and end == clen and clen % binsize != 0:\n",
    "                print(\"dropping\")\n",
    "                x = x[:-1]\n",
    "        except IndexError:\n",
    "            # beyond the range of the available chromosomes\n",
    "            # probably means we've requested a range of absolute\n",
    "            # coordinates that stretch beyond the end of the genome\n",
    "            x = np.zeros(n_bins)\n",
    "\n",
    "        arrays.append(x)\n",
    "\n",
    "    return np.concatenate(arrays)\n",
    "\n",
    "get_tile(f, chromsizes, 4, 0, 23)"
   ]
  },
  {
   "cell_type": "code",
   "execution_count": 5,
   "metadata": {
    "collapsed": true,
    "jupyter": {
     "outputs_hidden": true
    }
   },
   "outputs": [],
   "source": [
    "def load_chromsizes(chromInfoFile):\n",
    "    '''\n",
    "    Load a set of chromosome sizes from a file. They should\n",
    "    be of the format:\n",
    "    \n",
    "    chr \\t size\n",
    "    '''\n",
    "    with open(chromInfoFile, 'r') as f1:\n",
    "        chroms = []\n",
    "        lengths = []\n",
    "        for line in f1:\n",
    "            parts = line.strip().split('\\t')\n",
    "\n",
    "            #print(parts)\n",
    "            chroms += [parts[0]]\n",
    "            lengths += [int(parts[1])]\n",
    "\n",
    "        chromsizes = list(zip(chroms, lengths))\n",
    "        return chromsizes"
   ]
  },
  {
   "cell_type": "markdown",
   "metadata": {},
   "source": [
    "## Re-create our multi-vec data with chromosome names"
   ]
  },
  {
   "cell_type": "code",
   "execution_count": 12,
   "metadata": {},
   "outputs": [
    {
     "name": "stdout",
     "output_type": "stream",
     "text": [
      "dp 456\n",
      "chromsizes ['chr1', 'chr2', 'chr3', 'chr4', 'chr5', 'chr6', 'chr7', 'chr8', 'chr9', 'chr10', 'chr11', 'chr12', 'chr13', 'chr14', 'chr15', 'chr16', 'chr17', 'chr18', 'chr19', 'chr20', 'chr21', 'chr22', 'chrX', 'chrY']\n",
      "data_positions 3209287\n",
      "len 3209513\n",
      "chrom: chr1 data_length: 248957\n",
      "shape: (3209513, 250)\n",
      "chrom: chr2 data_length: 242194\n",
      "shape: (3209513, 250)\n",
      "chrom: chr3 data_length: 198296\n",
      "shape: (3209513, 250)\n",
      "chrom: chr4 data_length: 190215\n",
      "shape: (3209513, 250)\n",
      "chrom: chr5 data_length: 181539\n",
      "shape: (3209513, 250)\n",
      "chrom: chr6 data_length: 170806\n",
      "shape: (3209513, 250)\n",
      "chrom: chr7 data_length: 159346\n",
      "shape: (3209513, 250)\n",
      "chrom: chr8 data_length: 145139\n",
      "shape: (3209513, 250)\n",
      "chrom: chr9 data_length: 138395\n",
      "shape: (3209513, 250)\n",
      "chrom: chr10 data_length: 133798\n",
      "shape: (3209513, 250)\n",
      "chrom: chr11 data_length: 135087\n",
      "shape: (3209513, 250)\n",
      "chrom: chr12 data_length: 133276\n",
      "shape: (3209513, 250)\n",
      "chrom: chr13 data_length: 114365\n",
      "shape: (3209513, 250)\n",
      "chrom: chr14 data_length: 107044\n",
      "shape: (3209513, 250)\n",
      "chrom: chr15 data_length: 101992\n",
      "shape: (3209513, 250)\n",
      "chrom: chr16 data_length: 90339\n",
      "shape: (3209513, 250)\n",
      "chrom: chr17 data_length: 83258\n",
      "shape: (3209513, 250)\n",
      "chrom: chr18 data_length: 80374\n",
      "shape: (3209513, 250)\n",
      "chrom: chr19 data_length: 58618\n",
      "shape: (3209513, 250)\n",
      "chrom: chr20 data_length: 64445\n",
      "shape: (3209513, 250)\n",
      "chrom: chr21 data_length: 46710\n",
      "shape: (3209513, 250)\n",
      "chrom: chr22 data_length: 50819\n",
      "shape: (3209513, 250)\n",
      "chrom: chrX data_length: 156041\n",
      "shape: (3209513, 250)\n",
      "chrom: chrY data_length: 57228\n",
      "shape: (3209513, 250)\n"
     ]
    }
   ],
   "source": [
    "import h5py\n",
    "import math\n",
    "import numpy as np\n",
    "import os\n",
    "import os.path as op\n",
    "\n",
    "chromInfoFile = op.expanduser('~/projects/negspy/negspy/data/hg38/chromInfo.txt')\n",
    "filename = op.expanduser('~/Dropbox/paper-data/meyer-data/my_file_genome_wide_hg38_v2.multires')\n",
    "out_file = op.splitext(filename)[0] + \".multivec\"\n",
    "\n",
    "f_in = h5py.File(filename, 'r')\n",
    "\n",
    "if op.exists(out_file):\n",
    "    os.remove(out_file)\n",
    "\n",
    "f_out = h5py.File(out_file, 'w')\n",
    "\n",
    "chromsizes = load_chromsizes(chromInfoFile)\n",
    "data_positions = np.r_[0, np.cumsum([c[1] for c in chromsizes])]\n",
    "data_positions = np.array([math.ceil(d / 1000) for d in data_positions])\n",
    "print('dp', len(data_positions))\n",
    "\n",
    "print('chromsizes', [c[0] for c in chromsizes[:24]])\n",
    "print('data_positions', data_positions[-1])\n",
    "print('len', len(f_in['resolutions']['1000']))\n",
    "\n",
    "count = 0\n",
    "for i,(chrom,length) in enumerate(chromsizes[:24]):\n",
    "    shape = f_in['resolutions']['1000'].shape\n",
    "    data_length = math.ceil(length / 1000)\n",
    "    print(\"chrom:\", chrom, \"data_length:\", data_length)\n",
    "    print(\"shape:\", shape)\n",
    "\n",
    "    f_out.create_dataset(chrom, (data_length,shape[1]), compression='gzip')\n",
    "    f_out[chrom][:] = f_in['resolutions']['1000'][count:count+data_length]\n",
    "    count += data_length\n",
    "f_out.close()"
   ]
  },
  {
   "cell_type": "code",
   "execution_count": 43,
   "metadata": {
    "collapsed": true,
    "jupyter": {
     "outputs_hidden": true
    }
   },
   "outputs": [],
   "source": [
    "import pandas as pd\n",
    "\n",
    "def add_row_infos(filename, row_infos_filename, force=False):\n",
    "    '''\n",
    "    Add row information to an HDF5 file\n",
    "    \n",
    "    Parameters\n",
    "    ----------\n",
    "    filename: h5py.File\n",
    "        An input hdf5 file containing the multivec data\n",
    "    row_info_file: string\n",
    "        The filename of the file containing the row information\n",
    "    '''\n",
    "    f_h5 = h5py.File(filename, 'r+')\n",
    "\n",
    "    with open(row_infos_filename, 'r') as f:\n",
    "        row_infos = [l.strip().encode('utf8') for l in f.readlines()]\n",
    "        \n",
    "    if 'row_infos' in f_h5.attrs:\n",
    "        if not force:\n",
    "            print(\"row_infos already exist, use --force to override\")\n",
    "            return\n",
    "        else:\n",
    "            # delete the existing sample infos so that we can replace them with others\n",
    "            del f_h5.attrs['row_infos']\n",
    "\n",
    "    f_h5.attrs.create('row_infos', row_infos)\n",
    "    \n",
    "    #f_h5.attrs['row_infos'] = row_infos\n",
    "    #print(\"row_infos\", row_infos)\n",
    "    f_h5.close()\n",
    "    \n",
    "    \n",
    "row_infos_filename = '/Users/peter/Dropbox/paper-data/meyer-data/sample_info.txt'\n",
    "filename = '/Users/peter/Dropbox/paper-data/meyer-data/my_file_genome_wide_hg38_v2.multivec'\n",
    "\n",
    "add_row_infos(filename, row_infos_filename, force=True)"
   ]
  },
  {
   "cell_type": "code",
   "execution_count": 2,
   "metadata": {},
   "outputs": [
    {
     "name": "stdout",
     "output_type": "stream",
     "text": [
      "filename: /Users/peter/Dropbox/paper-data/meyer-data/my_file_genome_wide_hg38_v2.multivec\n",
      "f.attrs ['sample_infos', 'row_infos']\n",
      "f.attrs[row_infos] [ b'Homo sapiens\\tHCT116-H3K27AC\\tGSM1415876\\tGSE58638\\tHCT-116\\tEpithelium\\tColon\\tanti-H3K27ac (Active Motif #39135)\\tH3K27ac\\thm\\tNone'\n",
      " b'Homo sapiens\\tDKO1-H3K27AC\\tGSM1415884\\tGSE58638\\tDKO1\\tNone\\tNone\\tanti-H3K27ac (Active Motif #39135)\\tH3K27ac\\thm\\tNone'\n",
      " b'Homo sapiens\\tENCODE3_H3K27ac\\tENCSR435JKM_1\\tENCSR435JKM\\tA549\\tEpithelium\\tNone\\tNone\\tH3K27ac\\thm\\tNone'\n",
      " b'Homo sapiens\\tBLUEPRINT_S00COJH1_H3K27AC\\tGSM1406317\\tGSE58310\\tNone\\tMacrophage\\tBlood\\tNone\\tH3K27ac\\thm\\tNone'\n",
      " b'Homo sapiens\\tIFTSEC33_H3K27AC_NA_REP2_1\\tGSM1663027\\tGSE68104\\tFT33\\tEpithelium\\tFallopian tube secretory\\tH3K27AC (ABCAM AB4729)\\tH3K27ac\\thm\\tNone'\n",
      " b'Homo sapiens\\tPFEIFFER H3K27AC\\tGSM1703923\\tGSE69558\\tPfeiffer\\tB Lymphocyte\\tLymph Node\\tH3K27ac (39133, Active Motif)\\tH3K27ac\\thm\\tNone'\n",
      " b'Homo sapiens\\tTOLEDO H3K27AC\\tGSM1703931\\tGSE69558\\tToledo\\tB Lymphocyte\\tBlood\\tH3K27ac (39133, Active Motif)\\tH3K27ac\\thm\\tNone'\n",
      " b'Homo sapiens\\tTH1_K27AC_REP2\\tGSM2048305\\tGSE77299\\tNone\\tTh1\\tTonsil\\tNone\\tH3K27ac\\thm\\tNone'\n",
      " b'Homo sapiens\\tH3K27AC_CHIPSEQ_HUMAN_REP1\\tGSM1375210\\tGSE49624\\tNone\\tSpermatid\\tNone\\tACTIVE MOTIF\\tH3K27ac\\thm\\tNone'\n",
      " b'Homo sapiens\\tH3K27AC CHIP-SEQ IN A673 96HRS SHGFP\\tGSM1517571\\tGSE61944\\tA673\\tNone\\tNone\\tH3K27AC (ABCAM, AB4729)\\tH3K27ac\\thm\\tEwing sarcoma'\n",
      " b'Homo sapiens\\tCB2_H3K27AC\\tGSM1523582\\tGSE62246\\tNone\\tB Lymphocyte\\tTonsil\\tacetylated H3K27 (Abcam, catalog# ab4739, lot# GR144577-1)\\tH3K27ac\\thm\\tNone'\n",
      " b'Homo sapiens\\tCB4_H3K27AC\\tGSM1523589\\tGSE62246\\tNone\\tB Lymphocyte\\tTonsil\\tacetylated H3K27 (Abcam, catalog# ab4739, lot# GR144577-1)\\tH3K27ac\\thm\\tNone'\n",
      " b'Homo sapiens\\tILC1_K27AC_REP2\\tGSM2048292\\tGSE77299\\tNone\\tILC1\\tTonsil\\tNone\\tH3K27ac\\thm\\tNone'\n",
      " b'Homo sapiens\\tTH17_K27AC_REP2\\tGSM2048310\\tGSE77299\\tNone\\tTh17\\tTonsil\\tNone\\tH3K27ac\\thm\\tNone'\n",
      " b'Homo sapiens\\tENCODE3_H3K27ac\\tENCSR449AXO_1\\tENCSR449AXO\\tNone\\tNeural Progenitor Cell\\tNone\\tNone\\tH3K27ac\\thm\\tNone'\n",
      " b'Homo sapiens\\tReference Epigenome: ChIP-Seq Analysis of H3K27ac in iPS 6.9 Cells; renlab.H3K27ac.iPS-6.9.01.01\\tGSM752967\\tGSE16256\\tiPS DF 6.9\\tiPSC\\tNone\\tActive Motif, 39133, 19208002\\tH3K27ac\\thm\\tNormal'\n",
      " b'Homo sapiens\\tH3K27AC_CHIPSEQ_HUMAN_REP2\\tGSM1375211\\tGSE49624\\tNone\\tSpermatid\\tNone\\tACTIVE MOTIF\\tH3K27ac\\thm\\tNone'\n",
      " b'Homo sapiens\\tH82 H3K27AC\\tGSM1526706\\tGSE62412\\tNCI-H82\\tEpithelium\\tLung\\tab4729\\tH3K27ac\\thm\\tSmall Cell Lung Carcinoma'\n",
      " b'Homo sapiens\\tFL1_H3K27AC\\tGSM1523532\\tGSE62246\\tNone\\tB Lymphocyte\\tLymph Node\\tacetylated H3K27 (Abcam, catalog# ab4739, lot# GR144577-1)\\tH3K27ac\\thm\\tLymphoma'\n",
      " b'Homo sapiens\\tFL5_H3K27AC\\tGSM1523544\\tGSE62246\\tNone\\tB Lymphocyte\\tLymph Node\\tacetylated H3K27 (Abcam, catalog# ab4739, lot# GR144577-1)\\tH3K27ac\\thm\\tLymphoma'\n",
      " b'Homo sapiens\\tFL8_H3K27AC\\tGSM1523550\\tGSE62246\\tNone\\tB Lymphocyte\\tLymph Node\\tacetylated H3K27 (Abcam, catalog# ab4739, lot# GR144577-1)\\tH3K27ac\\thm\\tLymphoma'\n",
      " b'Homo sapiens\\tFL10_H3K27AC\\tGSM1523556\\tGSE62246\\tNone\\tB Lymphocyte\\tLymph Node\\tacetylated H3K27 (Abcam, catalog# ab4739, lot# GR144577-1)\\tH3K27ac\\thm\\tLymphoma'\n",
      " b'Homo sapiens\\tFL11_H3K27AC\\tGSM1523559\\tGSE62246\\tNone\\tB Lymphocyte\\tLymph Node\\tacetylated H3K27 (Abcam, catalog# ab4739, lot# GR144577-1)\\tH3K27ac\\thm\\tLymphoma'\n",
      " b'Homo sapiens\\tFL16_H3K27AC\\tGSM1523571\\tGSE62246\\tNone\\tB Lymphocyte\\tLymph Node\\tacetylated H3K27 (Abcam, catalog# ab4739, lot# GR144577-1)\\tH3K27ac\\thm\\tLymphoma'\n",
      " b'Homo sapiens\\tCB1_H3K27AC\\tGSM1523578\\tGSE62246\\tNone\\tB Lymphocyte\\tTonsil\\tacetylated H3K27 (Abcam, catalog# ab4739, lot# GR144577-1)\\tH3K27ac\\thm\\tNone'\n",
      " b'Homo sapiens\\tREFERENCE EPIGENOME: CHIP-SEQ ANALYSIS OF H3K27AC IN HUMAN SPLEEN TISSUE; RENLAB.H3K27AC.STL003SX.01.01\\tGSM906398\\tGSE16256\\tNone\\tNone\\tSpleen\\tActive Motif, 39133, 19208002\\tH3K27ac\\thm\\tNormal'\n",
      " b'Homo sapiens\\tREFERENCE EPIGENOME: CHIP-SEQ ANALYSIS OF H3K27AC IN HUMAN THYMUS TISSUE; RENLAB.H3K27AC.STL001TH.01.01\\tGSM1013125\\tGSE16256\\tNone\\tNone\\tThymus\\tActive Motif, 39133, 19208002\\tH3K27ac\\thm\\tNormal'\n",
      " b'Homo sapiens\\tREFERENCE EPIGENOME: CHIP-SEQ ANALYSIS OF H3K27AC IN HUMAN SPLEEN TISSUE; RENLAB.H3K27AC.STL001SX.01.01\\tGSM1120338\\tGSE16256\\tNone\\tNone\\tSpleen\\tActive Motif, 39133, 19208002\\tH3K27ac\\thm\\tNormal'\n",
      " b'Homo sapiens\\tH3K27AC_CHIPSEQ_REP2_A\\tGSM1057020\\tGSE43036\\tNone\\tMonocyte\\tBlood\\tH3K27ac (Abcam ab-4729)\\tH3K27ac\\thm\\tNormal'\n",
      " b'Homo sapiens\\tH3K27AC_CHIPSEQ_REP2_B\\tGSM1057021\\tGSE43036\\tNone\\tMonocyte\\tBlood\\tH3K27ac (Abcam ab-4729)\\tH3K27ac\\thm\\tNormal'\n",
      " b'Homo sapiens\\tH3K27AC_CHIPSEQ_REP2_C\\tGSM1057022\\tGSE43036\\tNone\\tMonocyte\\tBlood\\tH3K27ac (Abcam ab-4729)\\tH3K27ac\\thm\\tNormal'\n",
      " b'Homo sapiens\\tH3K27AC_CHIPSEQ_REP2_D\\tGSM1057023\\tGSE43036\\tNone\\tMonocyte\\tBlood\\tH3K27ac (Abcam ab-4729)\\tH3K27ac\\thm\\tNormal'\n",
      " b'Homo sapiens\\tCD8 H3K27AC DONOR A\\tGSM999000\\tGSE40668\\tNone\\tT Lymphocyte\\tBlood\\tabcam, ab4729, GR45851-1\\tH3K27ac\\thm\\tNone'\n",
      " b'Homo sapiens\\tCD8 H3K27AC DONOR C\\tGSM999001\\tGSE40668\\tNone\\tT Lymphocyte\\tBlood\\tabcam, ab4729, GR45851-1\\tH3K27ac\\thm\\tNone'\n",
      " b'Homo sapiens\\tNK H3K27AC DONOR A\\tGSM999008\\tGSE40668\\tNone\\tNatural Killer Cell\\tBlood\\tabcam, ab4729, GR45851-1\\tH3K27ac\\thm\\tNone'\n",
      " b'Homo sapiens\\tH3K27AC_TREGRA+ D\\tGSM1056941\\tGSE43119\\tNone\\tT Lymphocyte\\tBlood\\tabcam, ab 4729\\tH3K27ac\\thm\\tNone'\n",
      " b'Homo sapiens\\tH3K27AC_TREGRA- D\\tGSM1056949\\tGSE43119\\tNone\\tT Lymphocyte\\tBlood\\tabcam, ab 4729\\tH3K27ac\\thm\\tNone'\n",
      " b'Homo sapiens\\tH3K27AC_TCONVRA- D\\tGSM1056951\\tGSE43119\\tNone\\tT Lymphocyte\\tBlood\\tabcam, ab 4729\\tH3K27ac\\thm\\tNone'\n",
      " b'Homo sapiens\\tMV411_H3K27AC_UNTREATED_17\\tGSM1587925\\tGSE65161\\tMV4-11\\tMonocyte\\tNone\\tNone\\tH3K27ac\\thm\\tNone'\n",
      " b'Homo sapiens\\tITREG_DMSO_H3K27AC\\tGSM1816682\\tGSE70709\\tNone\\tT Lymphocyte\\tNone\\tanti-H3K27ac (Abcam, catalog# ab4729, lot# GR132150-1)\\tH3K27ac\\thm\\tNone'\n",
      " b'Homo sapiens\\tH3K27AC-A0\\tGSM1816075\\tGSE70660\\tNone\\tNone\\tBone Marrow\\tAbcam\\tH3K27ac\\thm\\tNone'\n",
      " b'Homo sapiens\\tH3K27AC-A5\\tGSM1816076\\tGSE70660\\tNone\\tErythroid Progenitor Cell\\tBone Marrow\\tAbcam\\tH3K27ac\\thm\\tNone'\n",
      " b'Homo sapiens\\tOCI-LY1_H3K27AC_CHIP-SEQ:SINT\\tGSM898059\\tGSE29282\\tOCI-Ly1\\tB Lymphocyte\\tBone Marrow\\tH3K27ac\\tH3K27ac\\thm\\tDiffuse Large B-cell Lymphoma (DLBCL)'\n",
      " b'Homo sapiens\\tOCI-LY1_H3K27AC_CHIP-SEQ:SIBCL6\\tGSM898058\\tGSE29282\\tOCI-Ly1\\tB Lymphocyte\\tBone Marrow\\tH3K27ac\\tH3K27ac\\thm\\tDiffuse Large B-cell Lymphoma (DLBCL)'\n",
      " b'Homo sapiens\\tREFERENCE EPIGENOME: CHIP-SEQ ANALYSIS OF H3K27AC IN HUMAN SPLEEN TISSUE; RENLAB.H3K27AC.STL002SX.01.01\\tGSM1013132\\tGSE16256\\tNone\\tNone\\tSpleen\\tActive Motif, 39133, 19208002\\tH3K27ac\\thm\\tiron deficiency, bipolar'\n",
      " b'Homo sapiens\\tH3K27AC_CHIPSEQ_REP1_C\\tGSM1057018\\tGSE43036\\tNone\\tMonocyte\\tBlood\\tH3K27ac (Abcam ab-4729)\\tH3K27ac\\thm\\tNormal'\n",
      " b'Homo sapiens\\tH3K27AC_CHIPSEQ_REP1_D\\tGSM1057019\\tGSE43036\\tNone\\tMonocyte\\tBlood\\tH3K27ac (Abcam ab-4729)\\tH3K27ac\\thm\\tNormal'\n",
      " b'Homo sapiens\\tH3K27AC CD14+CD16- DONOR A\\tGSM995355\\tGSE40502\\tNone\\tMonocyte\\tBlood\\tabcam, ab4729, GR45851-1\\tH3K27ac\\thm\\tNormal'\n",
      " b'Homo sapiens\\tH3K27AC CD14+CD16- DONOR D\\tGSM995356\\tGSE40502\\tNone\\tMonocyte\\tBlood\\tabcam, ab4729, GR45851-1\\tH3K27ac\\thm\\tNormal'\n",
      " b'Homo sapiens\\tH3K27AC CD14DIMCD16+ DONOR D\\tGSM995360\\tGSE40502\\tNone\\tMonocyte\\tBlood\\tabcam, ab4729, GR45851-1\\tH3K27ac\\thm\\tNone'\n",
      " b'Homo sapiens\\tHUVEC_H3K27AC PPAR\\xce\\x92/\\xce\\x94AGONIST 24HR NORMOXIA REPLICATE 2\\tGSM1214675\\tGSE50144\\tNone\\tEndothelial Cell\\tUmbilical Vein\\tH3K27ac\\tH3K27ac\\thm\\tNormal'\n",
      " b'Homo sapiens\\tREFERENCE EPIGENOME: CHIP-SEQ ANALYSIS OF H3K27AC IN HUMAN RIGHT ATRIUM TISSUE; RENLAB.H3K27AC.STL003RA.01.01\\tGSM910557\\tGSE16256\\tNone\\tNone\\tRight Atrium\\tActive Motif, 39133, 19208002\\tH3K27ac\\thm\\tNormal'\n",
      " b'Homo sapiens\\tREFERENCE EPIGENOME: CHIP-SEQ ANALYSIS OF H3K27AC IN HUMAN AORTA TISSUE; RENLAB.H3K27AC.STL003AO.01.01\\tGSM906392\\tGSE16256\\tNone\\tNone\\tAorta\\tActive Motif, 39133, 19208002\\tH3K27ac\\thm\\tNormal'\n",
      " b'Homo sapiens\\tH3K27AC NS CHIP SEQ\\tGSM809015\\tGSE32644\\tNone\\tEndothelial Cell\\tUmbilical Vein\\tH3K27ac\\tH3K27ac\\thm\\tNormal'\n",
      " b'Homo sapiens\\tH3K27AC HOUR 1\\tGSM1009624\\tGSE41166\\tNone\\tEndothelial Cell\\tUmbilical Vein\\tab4729\\tH3K27ac\\thm\\tNone'\n",
      " b'Homo sapiens\\tH3K27AC HOUR 0\\tGSM1009623\\tGSE41166\\tNone\\tEndothelial Cell\\tUmbilical Vein\\tab4729\\tH3K27ac\\thm\\tNone'\n",
      " b'Homo sapiens\\tH3K27AC HOUR 12\\tGSM1009626\\tGSE41166\\tNone\\tEndothelial Cell\\tUmbilical Vein\\tab4729\\tH3K27ac\\thm\\tNone'\n",
      " b'Homo sapiens\\tH3K27AC HOUR 4\\tGSM1009625\\tGSE41166\\tNone\\tEndothelial Cell\\tUmbilical Vein\\tab4729\\tH3K27ac\\thm\\tNone'\n",
      " b'Homo sapiens\\tREFERENCE EPIGENOME: CHIP-SEQ ANALYSIS OF H3K27AC IN HUMAN LEFT VENTRICLE TISSUE; RENLAB.H3K27AC.STL001LV.01.01\\tGSM908951\\tGSE16256\\tNone\\tNone\\tLeft Ventricle\\tActive Motif, 39133, 19208002\\tH3K27ac\\thm\\tNormal'\n",
      " b'Homo sapiens\\tHUVEC_H3K27AC DMSO 24HR NORMOXIA REPLICATE 2\\tGSM1214674\\tGSE50144\\tNone\\tEndothelial Cell\\tUmbilical Vein\\tH3K27ac\\tH3K27ac\\thm\\tNormal'\n",
      " b'Homo sapiens\\tHUVEC_H3K27AC DMSO 24HR HYPOXIA REPLICATE 2\\tGSM1214676\\tGSE50144\\tNone\\tEndothelial Cell\\tUmbilical Vein\\tH3K27ac\\tH3K27ac\\thm\\tNormal'\n",
      " b'Homo sapiens\\tHUVEC_H3K27AC PPAR\\xce\\x92/\\xce\\x94AGONIST 24HR HYPOXIA REPLICATE 2\\tGSM1214677\\tGSE50144\\tNone\\tEndothelial Cell\\tUmbilical Vein\\tH3K27ac\\tH3K27ac\\thm\\tNormal'\n",
      " b'Homo sapiens\\tHUVEC_H3K27AC PPAR\\xce\\x92/\\xce\\x94AGONIST 24HR NORMOXIA REPLICATE 1\\tGSM1226370\\tGSE50144\\tNone\\tEndothelial Cell\\tUmbilical Vein\\tH3K27ac\\tH3K27ac\\thm\\tNormal'\n",
      " b'Homo sapiens\\tHUVEC_H3K27AC PPAR\\xce\\x92/\\xce\\x94AGONIST 24HR HYPOXIA REPLICATE 1\\tGSM1226371\\tGSE50144\\tNone\\tEndothelial Cell\\tUmbilical Vein\\tH3K27ac\\tH3K27ac\\thm\\tNormal'\n",
      " b'Homo sapiens\\tH3K27AC_DMSO\\tGSM1517089\\tGSE61911\\tHeLa\\tEpithelium\\tCervix\\tH3K27ac (C15410196, Diagenode)\\tH3K27ac\\thm\\tNone'\n",
      " b'Homo sapiens\\tH3K27AC_TA+TNF\\xce\\x91\\tGSM1517090\\tGSE61911\\tHeLa\\tEpithelium\\tCervix\\tH3K27ac (C15410196, Diagenode)\\tH3K27ac\\thm\\tNone'\n",
      " b'Homo sapiens\\tH358_K27AC_REP1\\tGSM1635574\\tGSE72002\\tH358\\tNone\\tLung\\tH3K27ac ab4729\\tH3K27ac\\thm\\tLung Adenocarcinoma'\n",
      " b'Homo sapiens\\t8PND_CHIP_H3K27AC\\tGSM1663107\\tGSE68109\\tHT1080\\tEpithelium\\tConnective Tissue\\tH3K27ac (Active Motif 39133)\\tH3K27ac\\thm\\tNone'\n",
      " b'Homo sapiens\\tH3K27AC_E7DEL_2_USC660_CHIPSEQ\\tGSM1866978\\tGSE72631\\tHCT116\\tNone\\tNone\\tH3K27Ac, Active Motif #39133, lot# 21311004\\tH3K27ac\\thm\\tColorectal cancer'\n",
      " b'Homo sapiens\\tBICR31_K27AC\\tGSM2080324\\tGSE72002\\tNone\\tNone\\tLung\\tH3K27ac ab4729\\tH3K27ac\\thm\\tCancer'\n",
      " b'Homo sapiens\\tReference Epigenome: ChIP-Seq Analysis of H3K27ac in BMP4 Trophoblast Cells; renlab.H3K27ac.BMP4T.03.01\\tGSM864800\\tGSE16256\\tH1\\tEmbryonic Stem Cell\\tEmbryo\\tActive Motif, 39133, 19208002\\tH3K27ac\\thm\\tNormal'\n",
      " b'Homo sapiens\\tHUVEC H3K27AC DMSO 24HR HYPOXIA\\tGSM945520\\tGSE38555\\tNone\\tEndothelial Cell\\tUmbilical Vein\\tH3K27ac\\tH3K27ac\\thm\\tNormal'\n",
      " b'Homo sapiens\\tREFERENCE EPIGENOME: CHIP-SEQ ANALYSIS OF H3K27AC IN HUMAN PSOAS MUSCLE TISSUE; RENLAB.H3K27AC.STL003PO.01.01\\tGSM910556\\tGSE16256\\tNone\\tNone\\tPsoas Muscle\\tActive Motif, 39133, 19208002\\tH3K27ac\\thm\\tNormal'\n",
      " b'Homo sapiens\\tREFERENCE EPIGENOME: CHIP-SEQ ANALYSIS OF H3K27AC IN HUMAN LEFT VENTRICLE TISSUE; RENLAB.H3K27AC.STL003LV.01.01\\tGSM906396\\tGSE16256\\tNone\\tNone\\tLeft Ventricle\\tActive Motif, 39133, 19208002\\tH3K27ac\\thm\\tNormal'\n",
      " b'Homo sapiens\\tREFERENCE EPIGENOME: CHIP-SEQ ANALYSIS OF H3K27AC IN HUMAN PSOAS MUSCLE TISSUE; RENLAB.H3K27AC.STL002PO.01.01\\tGSM1013130\\tGSE16256\\tNone\\tNone\\tPsoas Muscle\\tActive Motif, 39133, 19208002\\tH3K27ac\\thm\\tiron deficiency, bipolar'\n",
      " b'Homo sapiens\\tMUS_MUSCULUS - CEREBELLUM, H3K27AC CHIP\\tGSM1119262\\tGSE40465\\tNone\\tNone\\tCerebellum\\tH3K27AC (ABCAM, AB4729)\\tH3K27ac\\thm\\tNone'\n",
      " b'Homo sapiens\\tMUS_MUSCULUS - WHOLE BRAIN, H3K27AC CHIP\\tGSM1119261\\tGSE40465\\tNone\\tCortex\\tBrain\\tH3K27AC (ABCAM, AB4729)\\tH3K27ac\\thm\\tNone'\n",
      " b'Homo sapiens\\tIMR5-75-SHMYCN-MYCN HIGH H3K27AC_CHIP_SEQ\\tGSM2120713\\tGSE80197\\tH3K27ac\\tNeuroblastoma\\tNone\\tab4729 (Abcam, Cambridge, UK)\\tH3K27ac\\thm\\tNeuroblastoma'\n",
      " b'Homo sapiens\\tNEC_H3K27ac\\tGSM602302\\tGSE24447\\tNone\\tNeuroectoderm\\tNone\\tH3K27ac\\tH3K27ac\\thm\\tNormal'\n",
      " b'Homo sapiens\\tH3K27AC CHIP-SEQ IN A673 48HRS SHGFP\\tGSM1517570\\tGSE61944\\tA673\\tNone\\tNone\\tH3K27ac (Active Motif, 39133)\\tH3K27ac\\thm\\tEwing sarcoma'\n",
      " b'Homo sapiens\\tH3K27AC CHIP-SEQ IN A673 48HRS SHFLI1\\tGSM1517573\\tGSE61944\\tA673\\tNone\\tNone\\tH3K27ac (Active Motif, 39133)\\tH3K27ac\\thm\\tEwing sarcoma'\n",
      " b'Homo sapiens\\tH3K27AC MARKS OF PRIMED WIS2 ES STEM CELLS\\tGSM1571913\\tGSE52824\\tWIS2\\tEmbryonic Stem Cell\\tNone\\tanti-H3K27acetyl (ab4729, Abcam)\\tH3K27ac\\thm\\tNone'\n",
      " b'Homo sapiens\\tH3K27AC_HUMAN3_REP4\\tGSM1817161\\tGSE70751\\tNone\\tNeural crest cell\\tCranial\\tanti-H3K27ac (Active Motif, catalog# 39133, lot# 01613007)\\tH3K27ac\\thm\\tNone'\n",
      " b'Homo sapiens\\tH3K27AC DMSO BE(2)-C\\tGSM2127461\\tGSE80445\\tH3K27ac\\tNeuroblastoma\\tNone\\tab4729 (Abcam, Cambridge, UK)\\tH3K27ac\\thm\\tNeuroblastoma'\n",
      " b'Homo sapiens\\tH3K27AC DMSO IMR5-75\\tGSM2127467\\tGSE80445\\tH3K27ac\\tNeuroblastoma\\tNone\\tab4729 (Abcam, Cambridge, UK)\\tH3K27ac\\thm\\tNeuroblastoma'\n",
      " b'Homo sapiens\\tCHIP-SEQ ANALYSIS OF H3K27AC IN HUMAN HUES64 CELLS; DNA_LIB 2069\\tGSM997249\\tGSE17312\\tHUES64\\tEmbryonic Stem Cell\\tEmbryo\\tActive Motif, 39133, 31610003\\tH3K27ac\\thm\\tNormal'\n",
      " b'Homo sapiens\\tCHIP-SEQ ANALYSIS OF H3K27AC IN HUMAN HUES64 DERIVED CD184+ CELLS; DNA_LIB 3188\\tGSM1112831\\tGSE17312\\tHUES64\\tEmbryonic Stem Cell\\tEmbryo\\tActive Motif, 39133, 31610003\\tH3K27ac\\thm\\tNormal'\n",
      " b'Homo sapiens\\tRATTUS_NORVEGICUS - WHOLE BRAIN (16HR PMD), H3K27AC CHIP\\tGSM1119259\\tGSE40465\\tNone\\tCortex\\tBrain\\tH3K27AC (ABCAM, AB4729)\\tH3K27ac\\thm\\tNone'\n",
      " b'Homo sapiens\\tRATTUS_NORVEGICUS - WHOLE BRAIN (24HR PMD), H3K27AC CHIP\\tGSM1119260\\tGSE40465\\tNone\\tCortex\\tBrain\\tH3K27AC (ABCAM, AB4729)\\tH3K27ac\\thm\\tNone'\n",
      " b'Homo sapiens\\tH3K27AC CHIP-SEQ IN SKMNC 48HRS SHFLI1\\tGSM1517554\\tGSE61944\\tSK-N-MC\\tEpithelium\\tBrain\\tH3K27ac (Active Motif, 39133)\\tH3K27ac\\thm\\tEwing sarcoma'\n",
      " b'Homo sapiens\\tH3K27AC CHIP-SEQ IN SKMNC 96HRS SHFLI1\\tGSM1517556\\tGSE61944\\tSK-N-MC\\tEpithelium\\tBrain\\tH3K27ac (Active Motif, 39133)\\tH3K27ac\\thm\\tEwing sarcoma'\n",
      " b'Homo sapiens\\tH3K27AC CHIP-SEQ IN A673\\tGSM1517563\\tGSE61944\\tA673\\tNone\\tNone\\tH3K27AC (ABCAM, AB4729)\\tH3K27ac\\thm\\tEwing sarcoma'\n",
      " b'Homo sapiens\\tH3K27AC CHIP-SEQ IN A673 96HRS SHFLI1\\tGSM1517574\\tGSE61944\\tA673\\tNone\\tNone\\tH3K27AC (ABCAM, AB4729)\\tH3K27ac\\thm\\tEwing sarcoma'\n",
      " b'Homo sapiens\\tESC_REP2_H3K27AC\\tGSM1521726\\tGSE62193\\tH9\\tEmbryonic Stem Cell\\tEmbryo\\tNone\\tH3K27ac\\thm\\tNormal'\n",
      " b'Homo sapiens\\tMRG_REP2_H3K27AC\\tGSM1521755\\tGSE62193\\tNone\\tNeural Progenitor Cell\\tNone\\tNone\\tH3K27ac\\thm\\tNone'\n",
      " b'Homo sapiens\\tH3K27AC MARKS OF NA\\xc3\\x8fVE WIS2 ES STEM CELLS\\tGSM1571907\\tGSE52824\\tWIS2\\tEmbryonic Stem Cell\\tNone\\tanti-H3K27acetyl (ab4729, Abcam)\\tH3K27ac\\thm\\tNone'\n",
      " b'Homo sapiens\\tH3K27AC_CHIPSEQ-AZH\\tGSM1498907\\tGSE61176\\tNone\\tEmbryonic Stem Cell\\tNone\\tH3K27ac\\tH3K27ac\\thm\\tNone'\n",
      " b'Homo sapiens\\t24DD_TRA_POS_DOX_MINUS_H3K27ACE_REP1\\tGSM1825778\\tGSE71033\\tNone\\tIntermediate\\tNone\\tH3K27ac, Active Motif, 39133, #25812006\\tH3K27ac\\thm\\tNone'\n",
      " b'Homo sapiens\\t24DD_TRA_POS_DOX_PLUS_H3K27ACE_REP1\\tGSM1825782\\tGSE71033\\tNone\\tIntermediate\\tNone\\tH3K27ac, Active Motif, 39133, #25812006\\tH3K27ac\\thm\\tNone'\n",
      " b'Homo sapiens\\tH3K27AC_HUMAN1_REP1\\tGSM1817151\\tGSE70751\\tNone\\tNeural crest cell\\tCranial\\tanti-H3K27ac (Active Motif, catalog# 39133, lot# 01613007)\\tH3K27ac\\thm\\tNone'\n",
      " b'Homo sapiens\\tREGION_8 - SUPERIOR TEMPORAL GYRUS (PLANUM POLARE), BRAIN1, H3K27AC CHIP\\tGSM1119122\\tGSE40465\\tNone\\tCortex\\tBrain\\tH3K27AC (ABCAM, AB4729)\\tH3K27ac\\thm\\tNone'\n",
      " b'Homo sapiens\\tREGION_9 - SUBCENTRAL REGION, BRAIN1, H3K27AC CHIP\\tGSM1119123\\tGSE40465\\tNone\\tCortex\\tBrain\\tH3K27AC (ABCAM, AB4729)\\tH3K27ac\\thm\\tNone'\n",
      " b'Homo sapiens\\tREGION_19 - POSTCENTRAL GYRUS, BRAIN1, H3K27AC CHIP\\tGSM1119133\\tGSE40465\\tNone\\tCortex\\tBrain\\tH3K27AC (ABCAM, AB4729)\\tH3K27ac\\thm\\tNone'\n",
      " b'Homo sapiens\\tREGION_20 - ANTERIOR INSULAR CORTEX, BRAIN1, H3K27AC CHIP\\tGSM1119134\\tGSE40465\\tNone\\tCortex\\tBrain\\tH3K27AC (ABCAM, AB4729)\\tH3K27ac\\thm\\tNone'\n",
      " b'Homo sapiens\\tREGION_21 - SUPERIOR TEMPORAL GYRUS (PLANUM TEMPORALE), BRAIN1, H3K27AC CHIP\\tGSM1119135\\tGSE40465\\tNone\\tCortex\\tBrain\\tH3K27AC (ABCAM, AB4729)\\tH3K27ac\\thm\\tNone'\n",
      " b'Homo sapiens\\tREGION_22 - INFERIOR FRONTAL GYRUS (PARS TRIANGULARIS), BRAIN1, H3K27AC CHIP\\tGSM1119136\\tGSE40465\\tNone\\tCortex\\tBrain\\tH3K27AC (ABCAM, AB4729)\\tH3K27ac\\thm\\tNone'\n",
      " b'Homo sapiens\\tREGION_23 - SUBSTANTIA NIGRA, BRAIN1, H3K27AC CHIP\\tGSM1119137\\tGSE40465\\tNone\\tCortex\\tBrain\\tH3K27AC (ABCAM, AB4729)\\tH3K27ac\\thm\\tNone'\n",
      " b'Homo sapiens\\tREGION_24 - AMYGDALA, BRAIN1, H3K27AC CHIP\\tGSM1119138\\tGSE40465\\tNone\\tCortex\\tBrain\\tH3K27AC (ABCAM, AB4729)\\tH3K27ac\\thm\\tNone'\n",
      " b'Homo sapiens\\tREGION_37 - ANGULAR GYRUS, BRAIN1, H3K27AC CHIP\\tGSM1119151\\tGSE40465\\tNone\\tCortex\\tBrain\\tH3K27AC (ABCAM, AB4729)\\tH3K27ac\\thm\\tNone'\n",
      " b'Homo sapiens\\tREGION_46 - SUPRAMARGINAL GYRUS, BRAIN1, H3K27AC CHIP\\tGSM1119160\\tGSE40465\\tNone\\tCortex\\tBrain\\tH3K27AC (ABCAM, AB4729)\\tH3K27ac\\thm\\tNone'\n",
      " b'Homo sapiens\\tREGION_52 - GYRUS RECTUS, BRAIN1, H3K27AC CHIP\\tGSM1119166\\tGSE40465\\tNone\\tCortex\\tBrain\\tH3K27AC (ABCAM, AB4729)\\tH3K27ac\\thm\\tNone'\n",
      " b'Homo sapiens\\tREGION_57 - SEPTAL NUCLEI, BRAIN1, H3K27AC CHIP\\tGSM1119169\\tGSE40465\\tNone\\tCortex\\tBrain\\tH3K27AC (ABCAM, AB4729)\\tH3K27ac\\thm\\tNone'\n",
      " b'Homo sapiens\\tREGION_60 - PIRIFORM CORTEX, BRAIN1, H3K27AC CHIP\\tGSM1119172\\tGSE40465\\tNone\\tCortex\\tBrain\\tH3K27AC (ABCAM, AB4729)\\tH3K27ac\\thm\\tNone'\n",
      " b\"Homo sapiens\\tREGION_4 - SUPERIOR TEMPORAL GYRUS (HESCHL'S GYRUS), BRAIN1, H3K27AC CHIP\\tGSM1119119\\tGSE40465\\tNone\\tCortex\\tBrain\\tH3K27AC (ABCAM, AB4729)\\tH3K27ac\\thm\\tNone\"\n",
      " b'Homo sapiens\\tREGION_6 - TEMPORAL POLE, BRAIN1, H3K27AC CHIP\\tGSM1119120\\tGSE40465\\tNone\\tCortex\\tBrain\\tH3K27AC (ABCAM, AB4729)\\tH3K27ac\\thm\\tNone'\n",
      " b'Homo sapiens\\tREGION_7 - HIPPOCAMPUS, BRAIN1, H3K27AC CHIP\\tGSM1119121\\tGSE40465\\tNone\\tCortex\\tBrain\\tH3K27AC (ABCAM, AB4729)\\tH3K27ac\\thm\\tNone'\n",
      " b'Homo sapiens\\tREGION_14 - ORBITAL GYRUS, BRAIN1, H3K27AC CHIP\\tGSM1119128\\tGSE40465\\tNone\\tCortex\\tBrain\\tH3K27AC (ABCAM, AB4729)\\tH3K27ac\\thm\\tNone'\n",
      " b'Homo sapiens\\tREGION_25 - LATERAL OCCIPITAL GYRUS, BRAIN1, H3K27AC CHIP\\tGSM1119139\\tGSE40465\\tNone\\tCortex\\tBrain\\tH3K27AC (ABCAM, AB4729)\\tH3K27ac\\thm\\tNone'\n",
      " b'Homo sapiens\\tREGION_26 - CAUDATE NUCLEUS (MEDIO SUPERIOR), BRAIN1, H3K27AC CHIP\\tGSM1119140\\tGSE40465\\tNone\\tCortex\\tBrain\\tH3K27AC (ABCAM, AB4729)\\tH3K27ac\\thm\\tNone'\n",
      " b'Homo sapiens\\tREGION_28 - VENTRAL ANTERIOR THALAMIC NUCLEUS, BRAIN1, H3K27AC CHIP\\tGSM1119142\\tGSE40465\\tNone\\tCortex\\tBrain\\tH3K27AC (ABCAM, AB4729)\\tH3K27ac\\thm\\tNone'\n",
      " b'Homo sapiens\\tREGION_33 - GENICULATE NUCLEUS, BRAIN1, H3K27AC CHIP\\tGSM1119147\\tGSE40465\\tNone\\tCortex\\tBrain\\tH3K27AC (ABCAM, AB4729)\\tH3K27ac\\thm\\tNone'\n",
      " b'Homo sapiens\\tREGION_35 - RED NUCLEUS, BRAIN1, H3K27AC CHIP\\tGSM1119149\\tGSE40465\\tNone\\tCortex\\tBrain\\tH3K27AC (ABCAM, AB4729)\\tH3K27ac\\thm\\tNone'\n",
      " b'Homo sapiens\\tREGION_39 - PRECUNEUS, BRAIN1, H3K27AC CHIP\\tGSM1119153\\tGSE40465\\tNone\\tCortex\\tBrain\\tH3K27AC (ABCAM, AB4729)\\tH3K27ac\\thm\\tNone'\n",
      " b'Homo sapiens\\tREGION_41 - POST CENTRAL GYRUS, BRAIN1, H3K27AC CHIP\\tGSM1119155\\tGSE40465\\tNone\\tCortex\\tBrain\\tH3K27AC (ABCAM, AB4729)\\tH3K27ac\\thm\\tNone'\n",
      " b'Homo sapiens\\tREGION_43 - MIDDLE TEMPORAL GYRUS, BRAIN1, H3K27AC CHIP\\tGSM1119157\\tGSE40465\\tNone\\tCortex\\tBrain\\tH3K27AC (ABCAM, AB4729)\\tH3K27ac\\thm\\tNone'\n",
      " b'Homo sapiens\\tREFERENCE EPIGENOME: CHIP-SEQ ANALYSIS OF H3K27AC IN HUMAN ADRENAL GLAND TISSUE; RENLAB.H3K27AC.STL003AD.01.01\\tGSM896163\\tGSE16256\\tNone\\tNone\\tAdrenal Gland\\tActive Motif, 39133, 19208002\\tH3K27ac\\thm\\tNormal'\n",
      " b'Homo sapiens\\tREFERENCE EPIGENOME: CHIP-SEQ ANALYSIS OF H3K27AC IN HUMAN PANCREAS TISSUE; RENLAB.H3K27AC.STL003PA.01.01\\tGSM906397\\tGSE16256\\tNone\\tNone\\tPancreas\\tActive Motif, 39133, 19208002\\tH3K27ac\\thm\\tNormal'\n",
      " b'Homo sapiens\\tREFERENCE EPIGENOME: CHIP-SEQ ANALYSIS OF H3K27AC IN HUMAN LUNG TISSUE; RENLAB.H3K27AC.STL002LG.01.01\\tGSM906395\\tGSE16256\\tNone\\tEpithelium\\tLung\\tActive Motif, 39133, 19208002\\tH3K27ac\\thm\\tiron deficiency, bipolar'\n",
      " b'Homo sapiens\\tREFERENCE EPIGENOME: CHIP-SEQ ANALYSIS OF H3K27AC IN HUMAN ESOPHAGUS TISSUE; RENLAB.H3K27AC.STL003EG.01.01\\tGSM906393\\tGSE16256\\tNone\\tNone\\tEsophagus\\tActive Motif, 39133, 19208002\\tH3K27ac\\thm\\tNormal'\n",
      " b'Homo sapiens\\tREFERENCE EPIGENOME: CHIP-SEQ ANALYSIS OF H3K27AC IN HUMAN ADIPOSE TISSUE; RENLAB.H3K27AC.STL003FT.01.01\\tGSM906394\\tGSE16256\\tNone\\tNone\\tAdipose\\tActive Motif, 39133, 19208002\\tH3K27ac\\thm\\tNormal'\n",
      " b'Homo sapiens\\tREFERENCE EPIGENOME: CHIP-SEQ ANALYSIS OF H3K27AC IN HUMAN OVARY TISSUE; RENLAB.H3K27AC.STL002OV.01.01\\tGSM956009\\tGSE16256\\tNone\\tNone\\tOvary\\tActive Motif, 39133, 19208002\\tH3K27ac\\thm\\tiron deficiency, bipolar'\n",
      " b'Homo sapiens\\tREGION_63 - PITUITARY GLAND, BRAIN5, H3K27AC CHIP\\tGSM1119251\\tGSE40465\\tNone\\tCortex\\tBrain\\tH3K27AC (ABCAM, AB4729)\\tH3K27ac\\thm\\tNone'\n",
      " b'Homo sapiens\\tES_D0_H3K27AC_REP2\\tGSM1316301\\tGSE54471\\tCyT49\\tEmbryonic Stem Cell\\tNone\\tH3K27ac, Activemotif 39133\\tH3K27ac\\thm\\tNone'\n",
      " b'Homo sapiens\\tES_D10_H3K27AC_REP1\\tGSM1316328\\tGSE54471\\tCyT49\\tEmbryonic Stem Cell\\tNone\\tH3K27ac, Activemotif 39133\\tH3K27ac\\thm\\tNone'\n",
      " b'Homo sapiens\\tCHIPSEQ_GBM_2493_H3K27AC.FL154\\tGSM1866060\\tGSE72468\\tNone\\tNone\\tBrain\\tNone\\tH3K27ac\\thm\\tNone'\n",
      " b'Homo sapiens\\tCHIPSEQ_GBM_S08_H3K27AC.FL151\\tGSM1866072\\tGSE72468\\tNone\\tNone\\tBrain\\tNone\\tH3K27ac\\thm\\tNone'\n",
      " b'Homo sapiens\\tTUMOR B H3K27AC\\tGSM2144753\\tGSE81213\\tNone\\tNone\\tendometrioid adenocarcinoma\\tH3K27ac (39133; Active motif)\\tH3K27ac\\thm\\tTumor'\n",
      " b'Homo sapiens\\tReference Epigenome: ChIP-Seq Analysis of H3K27ac in BMP4 Mesendoderm Cells; renlab.H3K27ac.BMP4M.03.01\\tGSM864035\\tGSE16256\\tH1\\tEmbryonic Stem Cell\\tEmbryo\\tActive Motif, 39133, 19208002\\tH3K27ac\\thm\\tNormal'\n",
      " b'Homo sapiens\\tReference Epigenome: ChIP-Seq Analysis of H3K27ac in BMP4 Mesendoderm Cells; renlab.H3K27ac.BMP4M.04.01\\tGSM864799\\tGSE16256\\tH1\\tEmbryonic Stem Cell\\tEmbryo\\tActive Motif, 39133, 19208002\\tH3K27ac\\thm\\tNormal'\n",
      " b'Homo sapiens\\tREFERENCE EPIGENOME: CHIP-SEQ ANALYSIS OF H3K27AC IN HUMAN SMALL BOWEL TISSUE; RENLAB.H3K27AC.STL001SB.01.01\\tGSM915330\\tGSE16256\\tNone\\tEpithelium\\tSmall Intestine\\tActive Motif, 39133, 19208002\\tH3K27ac\\thm\\tNormal'\n",
      " b'Homo sapiens\\tREFERENCE EPIGENOME: CHIP-SEQ ANALYSIS OF H3K27AC IN HUMAN SIGMOID COLON TISSUE; RENLAB.H3K27AC.STL003SG.01.01\\tGSM910559\\tGSE16256\\tNone\\tNone\\tSigmoid Colon\\tActive Motif, 39133, 19208002\\tH3K27ac\\thm\\tNormal'\n",
      " b'Homo sapiens\\tREFERENCE EPIGENOME: CHIP-SEQ ANALYSIS OF H3K27AC IN NEURAL PROGENITOR CELLS; RENLAB.H3K27AC.NPC.05.01\\tGSM956008\\tGSE16256\\tH1\\tEmbryonic Stem Cell\\tEmbryo\\tActive Motif, 39133, 19208002\\tH3K27ac\\thm\\tNormal'\n",
      " b'Homo sapiens\\tREFERENCE EPIGENOME: CHIP-SEQ ANALYSIS OF H3K27AC IN HUMAN ESOPHAGUS TISSUE; RENLAB.H3K27AC.STL002EG.01.01\\tGSM1013127\\tGSE16256\\tNone\\tNone\\tEsophagus\\tActive Motif, 39133, 19208002\\tH3K27ac\\thm\\tiron deficiency, bipolar'\n",
      " b'Homo sapiens\\tREFERENCE EPIGENOME: CHIP-SEQ ANALYSIS OF H3K27AC IN HUMAN SMALL INTESTINE TISSUE; RENLAB.H3K27AC.STL002SB.01.01\\tGSM1013131\\tGSE16256\\tNone\\tEpithelium\\tSmall Intestine\\tActive Motif, 39133, 19208002\\tH3K27ac\\thm\\tiron deficiency, bipolar'\n",
      " b'Homo sapiens\\tREFERENCE EPIGENOME: CHIP-SEQ ANALYSIS OF H3K27AC IN HUMAN GASTRIC TISSUE; RENLAB.H3K27AC.STL002GA.01.01\\tGSM1013128\\tGSE16256\\tNone\\tNone\\tStomach\\tActive Motif, 39133, 19208002\\tH3K27ac\\thm\\tNormal'\n",
      " b'Homo sapiens\\tREFERENCE EPIGENOME: CHIP-SEQ ANALYSIS OF H3K27AC IN HUMAN BLADDER TISSUE; RENLAB.H3K27AC.STL003BL.01.01\\tGSM1013133\\tGSE16256\\tNone\\tNone\\tUrinary Bladder\\tActive Motif, 39133, 19208002\\tH3K27ac\\thm\\tNormal'\n",
      " b'Homo sapiens\\t48HR_H3K27AC_CHIPSEQ\\tGSM1006721\\tGSE41009\\tH1\\tEmbryonic Stem Cell\\tEmbryo\\tABCAM AB4729\\tH3K27ac\\thm\\tNormal'\n",
      " b'Homo sapiens\\tCHG018\\tGSM1252274\\tGSE51776\\tNone\\tNone\\tStomach\\tH3K27ac\\tH3K27ac\\thm\\tGastric Adenocarcinoma'\n",
      " b'Homo sapiens\\tCHG022\\tGSM1252278\\tGSE51776\\tNone\\tNone\\tStomach\\tH3K27ac\\tH3K27ac\\thm\\tNone'\n",
      " b'Homo sapiens\\tCHG089\\tGSM1252312\\tGSE51776\\tNone\\tNone\\tStomach\\tH3K27ac\\tH3K27ac\\thm\\tNone'\n",
      " b'Homo sapiens\\tCHIP-SEQ OF 500 THOUSAND K562 CELLS WITH H3K27AC ANTIBODY - REPLICATE 1\\tGSM1782738\\tGSE70482\\tK562\\tErythroblast\\tBone Marrow\\tNone\\tH3K27ac\\thm\\tNone'\n",
      " b'Homo sapiens\\tK562_H3K27AC\\tGSM2054696\\tGSE66023\\tK562\\tErythroblast\\tBone Marrow\\tH3K27ac (Abcam ab4729, GR254707-1)\\tH3K27ac\\thm\\tErythroleukemic'\n",
      " b'Homo sapiens\\tBERNSTEIN_K562_H3K27AC\\tGSM733656\\tGSE29611\\tK562\\tErythroblast\\tBone Marrow\\tNone\\tH3K27ac\\thm\\tChronic Myelogenous Leukemia'\n",
      " b'Homo sapiens\\tK562_H3K27AC_REP1\\tGSM646434\\tGSE26320\\tK562\\tErythroblast\\tBone Marrow\\tABCAM, AB4729\\tH3K27ac\\thm\\tChronic Myelogenous Leukemia'\n",
      " b'Homo sapiens\\tCHIP-SEQ OF 10 MILLION K562 CELLS WITH H3K27AC ANTIBODY - REPLICATE 1\\tGSM1782704\\tGSE70482\\tK562\\tErythroblast\\tBone Marrow\\tNone\\tH3K27ac\\thm\\tNone'\n",
      " b'Homo sapiens\\tK562_H3K27AC_REP2\\tGSM646435\\tGSE26320\\tK562\\tErythroblast\\tBone Marrow\\tABCAM, AB4729\\tH3K27ac\\thm\\tChronic Myelogenous Leukemia'\n",
      " b'Homo sapiens\\tK562_H3K27AC\\tGSM1652918\\tGSE63782\\tK562\\tErythroblast\\tBone Marrow\\tNone\\tH3K27ac\\thm\\tNone'\n",
      " b'Homo sapiens\\tEXP004-5_H3K27AC_AD_BC01_DMSO\\tGSM1918425\\tGSE74359\\tK562\\tErythroblast\\tBone Marrow\\tNone\\tH3K27ac\\thm\\tNone'\n",
      " b'Homo sapiens\\tEXP004-5_H3K27AC_AD_BC02_C646\\tGSM1918426\\tGSE74359\\tK562\\tErythroblast\\tBone Marrow\\tNone\\tH3K27ac\\thm\\tNone'\n",
      " b'Homo sapiens\\tEXP004-5_H3K27AC_AD_BC03_GSK126\\tGSM1918427\\tGSE74359\\tK562\\tErythroblast\\tBone Marrow\\tNone\\tH3K27ac\\thm\\tNone'\n",
      " b'Homo sapiens\\tEXP004-8_H3K27AC_AD_BC01_DMSO\\tGSM1918444\\tGSE74359\\tK562\\tErythroblast\\tBone Marrow\\tNone\\tH3K27ac\\thm\\tNone'\n",
      " b'Homo sapiens\\tEXP004-8_H3K27AC_AD_BC02_C646\\tGSM1918445\\tGSE74359\\tK562\\tErythroblast\\tBone Marrow\\tNone\\tH3K27ac\\thm\\tNone'\n",
      " b'Homo sapiens\\tEXP004-8_H3K27AC_AD_BC03_GSK126\\tGSM1918446\\tGSE74359\\tK562\\tErythroblast\\tBone Marrow\\tNone\\tH3K27ac\\thm\\tNone'\n",
      " b'Homo sapiens\\tEXP004-8_H3K27AC_AD_BC05_DMSO\\tGSM1918447\\tGSE74359\\tK562\\tErythroblast\\tBone Marrow\\tNone\\tH3K27ac\\thm\\tNone'\n",
      " b'Homo sapiens\\tEXP004-8_H3K27AC_AD_BC06_C646\\tGSM1918448\\tGSE74359\\tK562\\tErythroblast\\tBone Marrow\\tNone\\tH3K27ac\\thm\\tNone'\n",
      " b'Homo sapiens\\tEXP004-8_H3K27AC_AD_BC07_GSK126\\tGSM1918449\\tGSE74359\\tK562\\tErythroblast\\tBone Marrow\\tNone\\tH3K27ac\\thm\\tNone'\n",
      " b'Homo sapiens\\tEXP004-8_H3K27AC_AD_BC09_DMSO\\tGSM1918450\\tGSE74359\\tK562\\tErythroblast\\tBone Marrow\\tNone\\tH3K27ac\\thm\\tNone'\n",
      " b'Homo sapiens\\tEXP004-8_H3K27AC_AD_BC10_C646\\tGSM1918451\\tGSE74359\\tK562\\tErythroblast\\tBone Marrow\\tNone\\tH3K27ac\\thm\\tNone'\n",
      " b'Homo sapiens\\tEXP004-8_H3K27AC_AD_BC11_GSK126\\tGSM1918452\\tGSE74359\\tK562\\tErythroblast\\tBone Marrow\\tNone\\tH3K27ac\\thm\\tNone'\n",
      " b'Homo sapiens\\tEXP004-9_H3K27AC_AD_BC01_DMSO\\tGSM1918471\\tGSE74359\\tK562\\tErythroblast\\tBone Marrow\\tNone\\tH3K27ac\\thm\\tNone'\n",
      " b'Homo sapiens\\tEXP004-9_H3K27AC_AD_BC02_C646\\tGSM1918472\\tGSE74359\\tK562\\tErythroblast\\tBone Marrow\\tNone\\tH3K27ac\\thm\\tNone'\n",
      " b'Homo sapiens\\tEXP004-9_H3K27AC_AD_BC03_GSK126\\tGSM1918473\\tGSE74359\\tK562\\tErythroblast\\tBone Marrow\\tNone\\tH3K27ac\\thm\\tNone'\n",
      " b'Homo sapiens\\tEXP004-9_H3K27AC_AD_BC05_DMSO\\tGSM1918474\\tGSE74359\\tK562\\tErythroblast\\tBone Marrow\\tNone\\tH3K27ac\\thm\\tNone'\n",
      " b'Homo sapiens\\tEXP004-9_H3K27AC_AD_BC06_C646\\tGSM1918475\\tGSE74359\\tK562\\tErythroblast\\tBone Marrow\\tNone\\tH3K27ac\\thm\\tNone'\n",
      " b'Homo sapiens\\tEXP004-9_H3K27AC_AD_BC07_GSK126\\tGSM1918476\\tGSE74359\\tK562\\tErythroblast\\tBone Marrow\\tNone\\tH3K27ac\\thm\\tNone'\n",
      " b'Homo sapiens\\tH3K27AC CHIP-SEQ FOR GM18505\\tGSM1164223\\tGSE47991\\tGM18505\\tLymphoblastoid\\tBlood\\tABCAM, AB4729\\tH3K27ac\\thm\\tNormal'\n",
      " b'Homo sapiens\\tH3K27AC CHIP-SEQ FOR GM18516\\tGSM1164226\\tGSE47991\\tGM18516\\tLymphoblastoid\\tBlood\\tABCAM, AB4729\\tH3K27ac\\thm\\tNone'\n",
      " b'Homo sapiens\\tH3K27AC CHIP-SEQ FOR GM19204\\tGSM1164230\\tGSE47991\\tGM19204\\tLymphoblastoid\\tBlood\\tABCAM, AB4729\\tH3K27ac\\thm\\tNone'\n",
      " b'Homo sapiens\\tH3K27AC CHIP-SEQ FOR GM19239\\tGSM1164232\\tGSE47991\\tGM19239\\tLymphoblastoid\\tBlood\\tABCAM, AB4729\\tH3K27ac\\thm\\tNone'\n",
      " b'Homo sapiens\\tH3K27AC CHIP-SEQ FOR GM18522\\tGSM1164227\\tGSE47991\\tGM18522\\tLymphoblastoid\\tBlood\\tABCAM, AB4729\\tH3K27ac\\thm\\tNone'\n",
      " b'Homo sapiens\\tGM18853 H3K27AC\\tGSM1420876\\tGSE58852\\tGM18853\\tLymphoblastoid\\tNone\\tAbcam, AB4729, 730178\\tH3K27ac\\thm\\tNone'\n",
      " b'Homo sapiens\\tH3K27AC CHIP-SEQ FOR GM18507\\tGSM1164224\\tGSE47991\\tGM18507\\tLymphoblastoid\\tBlood\\tABCAM, AB4729\\tH3K27ac\\thm\\tNormal'\n",
      " b'Homo sapiens\\tH3K27AC CHIP-SEQ FOR GM18508\\tGSM1164225\\tGSE47991\\tGM18508\\tLymphoblastoid\\tBlood\\tABCAM, AB4729\\tH3K27ac\\thm\\tNone'\n",
      " b'Homo sapiens\\tH3K27AC CHIP-SEQ FOR GM19141\\tGSM1164228\\tGSE47991\\tGM19141\\tLymphoblastoid\\tBlood\\tABCAM, AB4729\\tH3K27ac\\thm\\tNone'\n",
      " b'Homo sapiens\\tH3K27AC CHIP-SEQ FOR GM19193\\tGSM1164229\\tGSE47991\\tGM19193\\tLymphoblastoid\\tBlood\\tABCAM, AB4729\\tH3K27ac\\thm\\tNormal'\n",
      " b'Homo sapiens\\tH3K27AC CHIP-SEQ FOR GM19238\\tGSM1164231\\tGSE47991\\tGM19238\\tLymphoblastoid\\tBlood\\tABCAM, AB4729\\tH3K27ac\\thm\\tNormal'\n",
      " b'Homo sapiens\\tGM12878-37C-H3K27AC-ROBOTIC-SL46215\\tGSM1333956\\tGSE53366\\tGM12878\\tLymphoblastoid\\tBlood\\tNone\\tH3K27ac\\thm\\tNormal'\n",
      " b'Homo sapiens\\tGM12878-H3K27AC-REP1-MANUAL-SL45088\\tGSM1333973\\tGSE53366\\tGM12878\\tLymphoblastoid\\tBlood\\tNone\\tH3K27ac\\thm\\tNormal'\n",
      " b'Homo sapiens\\tGM12878-H3K27AC-REP2-MANUAL-SL45089\\tGSM1333975\\tGSE53366\\tGM12878\\tLymphoblastoid\\tBlood\\tNone\\tH3K27ac\\thm\\tNormal'\n",
      " b'Homo sapiens\\tGM12878-H3K27AC-REP3-ROBOTIC-SL46199\\tGSM1333978\\tGSE53366\\tGM12878\\tLymphoblastoid\\tBlood\\tNone\\tH3K27ac\\thm\\tNormal'\n",
      " b'Homo sapiens\\tGM12878-H3K27AC-REP4-ROBOTIC-SL46200\\tGSM1333980\\tGSE53366\\tGM12878\\tLymphoblastoid\\tBlood\\tNone\\tH3K27ac\\thm\\tNormal'\n",
      " b'Homo sapiens\\tGM18516 H3K27AC\\tGSM1420871\\tGSE58852\\tGM18516\\tLymphoblastoid\\tBlood\\tAbcam, AB4729, 730178\\tH3K27ac\\thm\\tNone'\n",
      " b'Homo sapiens\\tGM18517 H3K27AC\\tGSM1420872\\tGSE58852\\tGM18517\\tLymphoblastoid\\tNone\\tAbcam, AB4729, 730178\\tH3K27ac\\thm\\tNone'\n",
      " b'Homo sapiens\\tGM18522 H3K27AC\\tGSM1420873\\tGSE58852\\tGM18522\\tLymphoblastoid\\tBlood\\tAbcam, AB4729, 730178\\tH3K27ac\\thm\\tNone'\n",
      " b'Homo sapiens\\tGM18523 H3K27AC\\tGSM1420874\\tGSE58852\\tNone\\tLymphoblastoid\\tNone\\tAbcam, AB4729, 730178\\tH3K27ac\\thm\\tNone'\n",
      " b'Homo sapiens\\tGM18852 H3K27AC\\tGSM1420875\\tGSE58852\\tGM18852\\tLymphoblastoid\\tNone\\tAbcam, AB4729, 730178\\tH3K27ac\\thm\\tNone'\n",
      " b'Homo sapiens\\tGM12878_K27AC_10K_REP2\\tGSM1599156\\tGSE65516\\tGM12878\\tLymphoblastoid\\tBlood\\tH3K27ac (Abcam, catalog# ab4729, lot# GR183919-1)\\tH3K27ac\\thm\\tNone'\n",
      " b'Homo sapiens\\tH3K27AC_CHIPSEQ\\tGSM1874105\\tGSE72886\\tGM12878\\tLymphoblastoid\\tBlood\\tH3K27ac (Abcam ab4729, Lot: 509313)\\tH3K27ac\\thm\\tNone'\n",
      " b'Homo sapiens\\tGM12878-H3K27AC-REP1-ROBOTIC-SL46197\\tGSM1333974\\tGSE53366\\tGM12878\\tLymphoblastoid\\tBlood\\tNone\\tH3K27ac\\thm\\tNormal'\n",
      " b'Homo sapiens\\tGM12878-H3K27AC-REP2-ROBOTIC-SL46198\\tGSM1333976\\tGSE53366\\tGM12878\\tLymphoblastoid\\tBlood\\tNone\\tH3K27ac\\thm\\tNormal'\n",
      " b'Homo sapiens\\tID01.H3K27AC\\tGSM2046837\\tGSE77260\\tNone\\tMesenchymal Stem Cell\\tUmbilical Cord\\tH3K27ac (2ug Abcam, AB4729)\\tH3K27ac\\thm\\tNone'\n",
      " b'Homo sapiens\\tID56.H3K27AC\\tGSM2046838\\tGSE77260\\tNone\\tMesenchymal Stem Cell\\tUmbilical Cord\\tH3K27ac (2ug Abcam, AB4729)\\tH3K27ac\\thm\\tNone'\n",
      " b'Homo sapiens\\tID75.H3K27AC\\tGSM2046839\\tGSE77260\\tNone\\tMesenchymal Stem Cell\\tUmbilical Cord\\tH3K27ac (2ug Abcam, AB4729)\\tH3K27ac\\thm\\tNone'\n",
      " b'Homo sapiens\\tNHLF_H3K27AC_REP1\\tGSM646476\\tGSE26320\\tNHLF\\tFibroblast\\tLung\\tABCAM, AB4729\\tH3K27ac\\thm\\tNormal'\n",
      " b'Homo sapiens\\tBERNSTEIN_HSMMTUBE_H3K27AC\\tGSM733666\\tGSE29611\\tNone\\tMyoblast\\tSkeletal Muscle\\tNone\\tH3K27ac\\thm\\tNormal'\n",
      " b'Homo sapiens\\tBERNSTEIN_OSTEOBL_H3K27AC\\tGSM733739\\tGSE29611\\tNone\\tOsteoblast\\tBone\\tNone\\tH3K27ac\\thm\\tNone'\n",
      " b'Homo sapiens\\tMOCK_H3K27AC_CHIP-SEQ\\tGSM1442703\\tGSE59693\\tIMR90\\tFibroblast\\tLung\\tanti-H3K27ac (custom antibody from the laboratory of Michael Grunstein)\\tH3K27ac\\thm\\tNone'\n",
      " b'Homo sapiens\\tID44.H3K27AC\\tGSM2046840\\tGSE77260\\tNone\\tMesenchymal Stem Cell\\tUmbilical Cord\\tH3K27ac (2ug Abcam, AB4729)\\tH3K27ac\\thm\\tNone'\n",
      " b'Homo sapiens\\tID57.H3K27AC\\tGSM2046841\\tGSE77260\\tNone\\tMesenchymal Stem Cell\\tUmbilical Cord\\tH3K27ac (2ug Abcam, AB4729)\\tH3K27ac\\thm\\tNone'\n",
      " b'Homo sapiens\\tID60.H3K27AC\\tGSM2046842\\tGSE77260\\tNone\\tMesenchymal Stem Cell\\tUmbilical Cord\\tH3K27ac (2ug Abcam, AB4729)\\tH3K27ac\\thm\\tNone'\n",
      " b'Homo sapiens\\tH3K27AC CHIP-SEQ_PROLIFERATING IMR90 REPLICATE\\tGSM2098176\\tGSE74328\\tIMR90\\tFibroblast\\tLung\\tH3K27ac (ab4729; Abcam)\\tH3K27ac\\thm\\tNone'\n",
      " b'Homo sapiens\\tH3K27AC CHIP-SEQ_ETOPOSIDE IMR90\\tGSM2098186\\tGSE74328\\tIMR90\\tFibroblast\\tLung\\tH3K27ac (ab4729; Abcam)\\tH3K27ac\\thm\\tNone'\n",
      " b'Homo sapiens\\tReference Epigenome: ChIP-Seq Analysis of H3K27ac in IMR90 Cells; renlab.H3K27ac.IMR90-01.02\\tGSM469967\\tGSE16256\\tIMR90\\tFibroblast\\tLung\\tAbcam, Ab4729, 454269\\tH3K27ac\\thm\\tNormal'\n",
      " b'Homo sapiens\\tReference Epigenome: ChIP-Seq Analysis of H3K27ac in IMR90 Cells; renlab.H3K27ac.IMR90-01.01\\tGSM469966\\tGSE16256\\tIMR90\\tFibroblast\\tLung\\tAbcam, Ab4729, 454269\\tH3K27ac\\thm\\tNormal'\n",
      " b'Homo sapiens\\tHSMM_H3K27AC_REP1\\tGSM646394\\tGSE26320\\tNone\\tMyoblast\\tSkeletal Muscle\\tABCAM, AB4729\\tH3K27ac\\thm\\tNormal'\n",
      " b'Homo sapiens\\tCHIP-SEQ ANALYSIS OF H3K27AC IN HUMAN BM-MSC CELLS; DNA_LIB 996\\tGSM1112792\\tGSE17312\\tNone\\tMesenchymal Stem Cell\\tBone Marrow\\tActive Motif, 39133, 31610003\\tH3K27ac\\thm\\tNormal'\n",
      " b'Homo sapiens\\tBERNSTEIN_NH-A_H3K27AC\\tGSM733763\\tGSE29611\\tNone\\tAstrocyte\\tBrain\\tNone\\tH3K27ac\\thm\\tNormal'\n",
      " b'Homo sapiens\\tBERNSTEIN_NHLF_H3K27AC\\tGSM733646\\tGSE29611\\tNHLF\\tFibroblast\\tLung\\tNone\\tH3K27ac\\thm\\tNormal'\n",
      " b'Homo sapiens\\tH3K27AC_CHIP-SEQ REP2\\tGSM1513892\\tGSE61793\\tNone\\tStromal Cell\\tNone\\tNone\\tH3K27ac\\thm\\tNone'\n",
      " b'Homo sapiens\\tIOSE11_H3K27AC_NA_REP1_1\\tGSM1663035\\tGSE68104\\tIOE11\\tEpithelium\\tOvary\\tH3K27AC (ABCAM AB4729)\\tH3K27ac\\thm\\tNone'\n",
      " b'Homo sapiens\\tH3K27AC CHIP-SEQ_PROLIFERATING IMR90\\tGSM1915113\\tGSE74328\\tIMR90\\tFibroblast\\tLung\\tH3K27ac (ab4729; Abcam)\\tH3K27ac\\thm\\tNone'\n",
      " b'Homo sapiens\\tH3K27AC HFFS\\tGSM2066623\\tGSE78096\\tHFF\\tFibroblast\\tForeskin\\tH3K27ac (Millipore, catalog# 17-683, lot# 2510209)\\tH3K27ac\\thm\\tNone'\n",
      " b'Homo sapiens\\tH3K27AC D6\\tGSM2066624\\tGSE78096\\tNone\\tFibroblast\\tForeskin\\tH3K27ac (Millipore, catalog# 17-683, lot# 2510209)\\tH3K27ac\\thm\\tNone'\n",
      " b'Homo sapiens\\tH3K27AC CHIP-SEQ_QUIESCENT IMR90 REPLICATE\\tGSM2098177\\tGSE74328\\tIMR90\\tFibroblast\\tLung\\tH3K27ac (ab4729; Abcam)\\tH3K27ac\\thm\\tNone'\n",
      " b'Homo sapiens\\tH3K27AC CHIP-SEQ_SENESCENT IMR90 REPLICATE\\tGSM2098178\\tGSE74328\\tIMR90\\tFibroblast\\tLung\\tH3K27ac (ab4729; Abcam)\\tH3K27ac\\thm\\tNone'\n",
      " b'Homo sapiens\\tMCF7_H3K27AC_CHIP-SEQ\\tGSM1383859\\tGSE57498\\tMCF-7\\tEpithelium\\tMammary Gland\\tH3K27Ac (#39297, Active Motif)\\tH3K27ac\\thm\\tBreast cancer'\n",
      " b'Homo sapiens\\tMCF7_PARENTAL_H3K27AC_CHIP\\tGSM2029579\\tGSE76637\\tZR-75-30\\tNone\\tNone\\tMillipore, 07-360\\tH3K27ac\\thm\\tNone'\n",
      " b'Homo sapiens\\tSINT_H3K27AC_E2_R1\\tGSM986077\\tGSE40129\\tMCF-7\\tEpithelium\\tMammary Gland\\tAbcam\\tH3K27ac\\thm\\tBreast cancer'\n",
      " b'Homo sapiens\\tSIGATA_H3K27AC_VEH_R1\\tGSM986080\\tGSE40129\\tMCF-7\\tEpithelium\\tMammary Gland\\tAbcam\\tH3K27ac\\thm\\tBreast cancer'\n",
      " b'Homo sapiens\\tSIGATA_H3K27AC_E2_R1\\tGSM986078\\tGSE40129\\tMCF-7\\tEpithelium\\tMammary Gland\\tAbcam\\tH3K27ac\\thm\\tBreast cancer'\n",
      " b'Homo sapiens\\tUSC_CHIPSEQ_MCF-7_H3K27AC_UCDAVIS\\tGSM945854\\tGSE31755\\tMCF-7\\tEpithelium\\tMammary Gland\\tNone\\tH3K27ac\\thm\\tBreast cancer'\n",
      " b'Homo sapiens\\tH3K27AC MCF7T\\tGSM1481571\\tGSE60517\\tMCF-7\\tEpithelium\\tMammary Gland\\tH3K27ac (ab4729 abcam lot GR132150)\\tH3K27ac\\thm\\tNone'\n",
      " b'Homo sapiens\\tH3K27AC MCF7F\\tGSM1481572\\tGSE60517\\tMCF-7\\tEpithelium\\tMammary Gland\\tH3K27ac (ab4729 abcam lot GR132150)\\tH3K27ac\\thm\\tNone'\n",
      " b'Homo sapiens\\tH3K27AC LTED\\tGSM1481573\\tGSE60517\\tLTED\\tNone\\tNone\\tH3K27ac (ab4729 abcam lot GR132150)\\tH3K27ac\\thm\\tNone'\n",
      " b'Homo sapiens\\tH3K27AC LTEDT\\tGSM1481574\\tGSE60517\\tLTED\\tNone\\tNone\\tH3K27ac (ab4729 abcam lot GR132150)\\tH3K27ac\\thm\\tNone'\n",
      " b'Homo sapiens\\tH3K27AC LTEDF\\tGSM1481575\\tGSE60517\\tLTED\\tNone\\tNone\\tH3K27ac (ab4729 abcam lot GR132150)\\tH3K27ac\\thm\\tNone'\n",
      " b'Homo sapiens\\tMCF7_NS_H3K27AC\\tGSM2036927\\tGSE76732\\tMCF7\\tNone\\tNone\\tH3K27ac (Abcam, catalog# ab4729, lot# GR155970-2)\\tH3K27ac\\thm\\tNormal'\n",
      " b'Homo sapiens\\tMCF7_PMA_H3K27AC\\tGSM2036928\\tGSE76732\\tMCF7\\tNone\\tNone\\tH3K27ac (Abcam, catalog# ab4729, lot# GR155970-2)\\tH3K27ac\\thm\\tNone'\n",
      " b'Homo sapiens\\tENCODE3_H3K27ac\\tENCSR752UOD_1\\tENCSR752UOD\\tMCF-7\\tEpithelium\\tNone\\tNone\\tH3K27ac\\thm\\tNone'\n",
      " b'Homo sapiens\\tSINT_H3K27AC_VEH_R1\\tGSM986079\\tGSE40129\\tMCF-7\\tEpithelium\\tMammary Gland\\tAbcam\\tH3K27ac\\thm\\tBreast cancer'\n",
      " b'Homo sapiens\\tZR-75-1 H3K27AC [LAB: ZHAO-DFCI]\\tGSM1589472\\tGSE69107\\tZR-75-1\\tEpithelium\\tMammary Gland\\tAbcam, ab4729, GR183922-1\\tH3K27ac\\thm\\tCancer'\n",
      " b'Homo sapiens\\tT47D H3K27AC [LAB: ZHAO-DFCI]\\tGSM1589474\\tGSE69107\\tT47D\\tEpithelium\\tMammary Gland\\tAbcam, ab4729, GR183922-1\\tH3K27ac\\thm\\tCancer'\n",
      " b'Homo sapiens\\tMCF7_CHIPSEQ_H3K27AC\\tGSM1693017\\tGSE69112\\tMCF-7\\tEpithelium\\tMammary Gland\\tNone\\tH3K27ac\\thm\\tCancer'\n",
      " b'Homo sapiens\\tT47D_CHIPSEQ_H3K27AC\\tGSM1693025\\tGSE69112\\tT47D\\tEpithelium\\tMammary Gland\\tNone\\tH3K27ac\\thm\\tCancer'\n",
      " b'Homo sapiens\\tZR75_CHIPSEQ_H3K27AC\\tGSM1693026\\tGSE69112\\tZR-75-1\\tEpithelium\\tMammary Gland\\tNone\\tH3K27ac\\thm\\tCancer'\n",
      " b'Homo sapiens\\tH3K27AC, ETOH, REP1, MCF7\\tGSM1382472\\tGSE57436\\tMCF-7\\tEpithelium\\tMammary Gland\\tAbcam, #961080\\tH3K27ac\\thm\\tNone'\n",
      " b'Homo sapiens\\tH3K27AC, ETOH, REP2, MCF7\\tGSM1382473\\tGSE57436\\tMCF-7\\tEpithelium\\tMammary Gland\\tAbcam, #961080\\tH3K27ac\\thm\\tNone'\n",
      " b'Homo sapiens\\tH3K27AC, E2, REP1, MCF7\\tGSM1382482\\tGSE57436\\tMCF-7\\tEpithelium\\tMammary Gland\\tAbcam, #961080\\tH3K27ac\\thm\\tNone'\n",
      " b'Homo sapiens\\tH3K27AC, E2, REP2, MCF7\\tGSM1382483\\tGSE57436\\tMCF-7\\tEpithelium\\tMammary Gland\\tAbcam, #961080\\tH3K27ac\\thm\\tNone'\n",
      " b'Homo sapiens\\tH3K27AC MCF7\\tGSM1481570\\tGSE60517\\tMCF-7\\tEpithelium\\tMammary Gland\\tH3K27ac (ab4729 abcam lot GR132150)\\tH3K27ac\\thm\\tNone']\n"
     ]
    }
   ],
   "source": [
    "import h5py\n",
    "\n",
    "filename = '/Users/peter/Dropbox/paper-data/meyer-data/my_file_genome_wide_hg38_v2.multivec'\n",
    "\n",
    "print(\"filename:\", filename)\n",
    "f = h5py.File(filename, 'r')\n",
    "print(\"f.attrs\", list(f.attrs.keys()))\n",
    "print(\"f.attrs[row_infos]\", f.attrs['row_infos'][:])\n",
    "f.close()"
   ]
  },
  {
   "cell_type": "code",
   "execution_count": 268,
   "metadata": {},
   "outputs": [
    {
     "ename": "ValueError",
     "evalue": "Not a location (Invalid object id)",
     "output_type": "error",
     "traceback": [
      "\u001b[0;31m---------------------------------------------------------------------------\u001b[0m",
      "\u001b[0;31mValueError\u001b[0m                                Traceback (most recent call last)",
      "\u001b[0;32m<ipython-input-268-08b7dd60e524>\u001b[0m in \u001b[0;36m<module>\u001b[0;34m()\u001b[0m\n\u001b[0;32m----> 1\u001b[0;31m \u001b[0mf_out\u001b[0m\u001b[0;34m[\u001b[0m\u001b[0;34m'chr1'\u001b[0m\u001b[0;34m]\u001b[0m\u001b[0;34m[\u001b[0m\u001b[0;34m:\u001b[0m\u001b[0;34m]\u001b[0m\u001b[0;34m.\u001b[0m\u001b[0mshape\u001b[0m\u001b[0;34m\u001b[0m\u001b[0m\n\u001b[0m",
      "\u001b[0;32m_objects.pyx\u001b[0m in \u001b[0;36mh5py._objects.with_phil.wrapper\u001b[0;34m()\u001b[0m\n",
      "\u001b[0;32m_objects.pyx\u001b[0m in \u001b[0;36mh5py._objects.with_phil.wrapper\u001b[0;34m()\u001b[0m\n",
      "\u001b[0;32m~/miniconda3/envs/cenv3/lib/python3.6/site-packages/h5py-2.7.0-py3.6-macosx-10.7-x86_64.egg/h5py/_hl/group.py\u001b[0m in \u001b[0;36m__getitem__\u001b[0;34m(self, name)\u001b[0m\n\u001b[1;32m    167\u001b[0m                 \u001b[0;32mraise\u001b[0m \u001b[0mValueError\u001b[0m\u001b[0;34m(\u001b[0m\u001b[0;34m\"Invalid HDF5 object reference\"\u001b[0m\u001b[0;34m)\u001b[0m\u001b[0;34m\u001b[0m\u001b[0m\n\u001b[1;32m    168\u001b[0m         \u001b[0;32melse\u001b[0m\u001b[0;34m:\u001b[0m\u001b[0;34m\u001b[0m\u001b[0m\n\u001b[0;32m--> 169\u001b[0;31m             \u001b[0moid\u001b[0m \u001b[0;34m=\u001b[0m \u001b[0mh5o\u001b[0m\u001b[0;34m.\u001b[0m\u001b[0mopen\u001b[0m\u001b[0;34m(\u001b[0m\u001b[0mself\u001b[0m\u001b[0;34m.\u001b[0m\u001b[0mid\u001b[0m\u001b[0;34m,\u001b[0m \u001b[0mself\u001b[0m\u001b[0;34m.\u001b[0m\u001b[0m_e\u001b[0m\u001b[0;34m(\u001b[0m\u001b[0mname\u001b[0m\u001b[0;34m)\u001b[0m\u001b[0;34m,\u001b[0m \u001b[0mlapl\u001b[0m\u001b[0;34m=\u001b[0m\u001b[0mself\u001b[0m\u001b[0;34m.\u001b[0m\u001b[0m_lapl\u001b[0m\u001b[0;34m)\u001b[0m\u001b[0;34m\u001b[0m\u001b[0m\n\u001b[0m\u001b[1;32m    170\u001b[0m \u001b[0;34m\u001b[0m\u001b[0m\n\u001b[1;32m    171\u001b[0m         \u001b[0motype\u001b[0m \u001b[0;34m=\u001b[0m \u001b[0mh5i\u001b[0m\u001b[0;34m.\u001b[0m\u001b[0mget_type\u001b[0m\u001b[0;34m(\u001b[0m\u001b[0moid\u001b[0m\u001b[0;34m)\u001b[0m\u001b[0;34m\u001b[0m\u001b[0m\n",
      "\u001b[0;32m_objects.pyx\u001b[0m in \u001b[0;36mh5py._objects.with_phil.wrapper\u001b[0;34m()\u001b[0m\n",
      "\u001b[0;32m_objects.pyx\u001b[0m in \u001b[0;36mh5py._objects.with_phil.wrapper\u001b[0;34m()\u001b[0m\n",
      "\u001b[0;32mh5o.pyx\u001b[0m in \u001b[0;36mh5py.h5o.open\u001b[0;34m()\u001b[0m\n",
      "\u001b[0;31mValueError\u001b[0m: Not a location (Invalid object id)"
     ]
    }
   ],
   "source": [
    "f_out['chr1'][:].shape"
   ]
  },
  {
   "cell_type": "code",
   "execution_count": 243,
   "metadata": {},
   "outputs": [
    {
     "name": "stdout",
     "output_type": "stream",
     "text": [
      "[('chr1', 248956422), ('chr2', 242193529), ('chr3', 198295559), ('chr4', 190214555), ('chr5', 181538259), ('chr6', 170805979), ('chr7', 159345973), ('chr8', 145138636), ('chr9', 138394717), ('chr10', 133797422), ('chr11', 135086622), ('chr12', 133275309), ('chr13', 114364328), ('chr14', 107043718), ('chr15', 101991189), ('chr16', 90338345), ('chr17', 83257441), ('chr18', 80373285), ('chr19', 58617616), ('chr20', 64444167), ('chr21', 46709983), ('chr22', 50818468), ('chrX', 156040895), ('chrY', 57227415), ('chrM', 16569)]\n"
     ]
    }
   ],
   "source": [
    "print(chromsizes[:24])"
   ]
  },
  {
   "cell_type": "code",
   "execution_count": 278,
   "metadata": {},
   "outputs": [
    {
     "name": "stdout",
     "output_type": "stream",
     "text": [
      "array_data.shape (248957, 256)\n",
      "array_data.shape (242194, 256)\n",
      "array_data.shape (198296, 256)\n",
      "array_data.shape (190215, 256)\n",
      "array_data.shape (181539, 256)\n",
      "array_data.shape (170806, 256)\n",
      "array_data.shape (159346, 256)\n",
      "array_data.shape (145139, 256)\n",
      "array_data.shape (138395, 256)\n",
      "array_data.shape (133798, 256)\n",
      "array_data.shape (135087, 256)\n",
      "array_data.shape (133276, 256)\n",
      "array_data.shape (114365, 256)\n",
      "array_data.shape (107044, 256)\n",
      "array_data.shape (101992, 256)\n",
      "array_data.shape (90339, 256)\n",
      "array_data.shape (83258, 256)\n",
      "array_data.shape (80374, 256)\n",
      "array_data.shape (58618, 256)\n",
      "array_data.shape (64445, 256)\n",
      "array_data.shape (46710, 256)\n",
      "array_data.shape (50819, 256)\n",
      "array_data.shape (156041, 256)\n",
      "array_data.shape (57228, 256)\n",
      "max_zoom: 14\n",
      "CPU times: user 3.54 s, sys: 17.4 s, total: 21 s\n",
      "Wall time: 35.9 s\n"
     ]
    }
   ],
   "source": [
    "%%time \n",
    "\n",
    "chromInfoFile = ('/Users/pete/projects/negspy/negspy/data/hg38/chromInfo.txt')\n",
    "chromsizes = load_chromsizes(chromInfoFile)\n",
    "out_file = '/tmp/hg38.multires'\n",
    "f_out = h5py.File(out_file, 'r')\n",
    "\n",
    "out_file = '/tmp/hg38.tiled.multires'\n",
    "\n",
    "f_multi = create_multires(f_out, \n",
    "                    chromsizes[:24],\n",
    "                    lambda x: x.T.reshape((x.shape[1],-1,2)).sum(axis=2).T,\n",
    "                    tile_size=256,\n",
    "                    starting_resolution=1000,\n",
    "                    output_file=out_file)"
   ]
  },
  {
   "cell_type": "code",
   "execution_count": 279,
   "metadata": {
    "collapsed": true,
    "jupyter": {
     "outputs_hidden": true
    }
   },
   "outputs": [],
   "source": [
    "f_multi.keys()\n",
    "f_multi.close()"
   ]
  },
  {
   "cell_type": "code",
   "execution_count": 117,
   "metadata": {},
   "outputs": [
    {
     "data": {
      "text/plain": [
       "[<matplotlib.lines.Line2D at 0x110b90668>]"
      ]
     },
     "execution_count": 117,
     "metadata": {},
     "output_type": "execute_result"
    },
    {
     "data": {
      "image/png": "[encoded data removed]",
      "text/plain": [
       "<matplotlib.figure.Figure at 0x110ad9128>"
      ]
     },
     "metadata": {},
     "output_type": "display_data"
    }
   ],
   "source": [
    "# the largest tile (zoom level 0, position 0) contains a downsampled\n",
    "# version of the entire dataset\n",
    "d = get_tile(f, [0,0])\n",
    "plt.plot(d)"
   ]
  },
  {
   "cell_type": "code",
   "execution_count": 118,
   "metadata": {},
   "outputs": [
    {
     "ename": "IndexError",
     "evalue": "list index out of range",
     "output_type": "error",
     "traceback": [
      "\u001b[0;31m---------------------------------------------------------------------------\u001b[0m",
      "\u001b[0;31mIndexError\u001b[0m                                Traceback (most recent call last)",
      "\u001b[0;32m<ipython-input-118-760791226604>\u001b[0m in \u001b[0;36m<module>\u001b[0;34m()\u001b[0m\n\u001b[1;32m      1\u001b[0m \u001b[0;31m# going to the first tile of the next zoom level\u001b[0m\u001b[0;34m\u001b[0m\u001b[0;34m\u001b[0m\u001b[0m\n\u001b[1;32m      2\u001b[0m \u001b[0;31m# we're showing less data\u001b[0m\u001b[0;34m\u001b[0m\u001b[0;34m\u001b[0m\u001b[0m\n\u001b[0;32m----> 3\u001b[0;31m \u001b[0md\u001b[0m \u001b[0;34m=\u001b[0m \u001b[0mget_tile\u001b[0m\u001b[0;34m(\u001b[0m\u001b[0mf\u001b[0m\u001b[0;34m,\u001b[0m \u001b[0;34m[\u001b[0m\u001b[0;36m1\u001b[0m\u001b[0;34m,\u001b[0m\u001b[0;36m0\u001b[0m\u001b[0;34m]\u001b[0m\u001b[0;34m)\u001b[0m\u001b[0;34m\u001b[0m\u001b[0m\n\u001b[0m\u001b[1;32m      4\u001b[0m \u001b[0mplt\u001b[0m\u001b[0;34m.\u001b[0m\u001b[0mplot\u001b[0m\u001b[0;34m(\u001b[0m\u001b[0md\u001b[0m\u001b[0;34m)\u001b[0m\u001b[0;34m\u001b[0m\u001b[0m\n",
      "\u001b[0;32m<ipython-input-116-13e670c90b94>\u001b[0m in \u001b[0;36mget_tile\u001b[0;34m(f, tile_pos)\u001b[0m\n\u001b[1;32m     19\u001b[0m \u001b[0;34m\u001b[0m\u001b[0m\n\u001b[1;32m     20\u001b[0m     \u001b[0;31m# which resolution does this zoom level correspond to?\u001b[0m\u001b[0;34m\u001b[0m\u001b[0;34m\u001b[0m\u001b[0m\n\u001b[0;32m---> 21\u001b[0;31m     \u001b[0mresolution\u001b[0m \u001b[0;34m=\u001b[0m \u001b[0mtileset_info\u001b[0m\u001b[0;34m[\u001b[0m\u001b[0;34m'resolutions'\u001b[0m\u001b[0;34m]\u001b[0m\u001b[0;34m[\u001b[0m\u001b[0mtile_pos\u001b[0m\u001b[0;34m[\u001b[0m\u001b[0;36m0\u001b[0m\u001b[0;34m]\u001b[0m\u001b[0;34m]\u001b[0m\u001b[0;34m\u001b[0m\u001b[0m\n\u001b[0m\u001b[1;32m     22\u001b[0m     \u001b[0mtile_size\u001b[0m \u001b[0;34m=\u001b[0m \u001b[0mtileset_info\u001b[0m\u001b[0;34m[\u001b[0m\u001b[0;34m'tile_size'\u001b[0m\u001b[0;34m]\u001b[0m\u001b[0;34m\u001b[0m\u001b[0m\n\u001b[1;32m     23\u001b[0m \u001b[0;34m\u001b[0m\u001b[0m\n",
      "\u001b[0;31mIndexError\u001b[0m: list index out of range"
     ]
    }
   ],
   "source": [
    "# going to the first tile of the next zoom level\n",
    "# we're showing less data\n",
    "d = get_tile(f, [1,0])\n",
    "plt.plot(d)"
   ]
  },
  {
   "cell_type": "code",
   "execution_count": 119,
   "metadata": {},
   "outputs": [
    {
     "ename": "IndexError",
     "evalue": "list index out of range",
     "output_type": "error",
     "traceback": [
      "\u001b[0;31m---------------------------------------------------------------------------\u001b[0m",
      "\u001b[0;31mIndexError\u001b[0m                                Traceback (most recent call last)",
      "\u001b[0;32m<ipython-input-119-84d6e328d6e1>\u001b[0m in \u001b[0;36m<module>\u001b[0;34m()\u001b[0m\n\u001b[1;32m      1\u001b[0m \u001b[0;31m# the second tile of zoom_level 1 contains the\u001b[0m\u001b[0;34m\u001b[0m\u001b[0;34m\u001b[0m\u001b[0m\n\u001b[1;32m      2\u001b[0m \u001b[0;31m# data to the \"right\" of the first tile\u001b[0m\u001b[0;34m\u001b[0m\u001b[0;34m\u001b[0m\u001b[0m\n\u001b[0;32m----> 3\u001b[0;31m \u001b[0md\u001b[0m \u001b[0;34m=\u001b[0m \u001b[0mget_tile\u001b[0m\u001b[0;34m(\u001b[0m\u001b[0mf\u001b[0m\u001b[0;34m,\u001b[0m \u001b[0;34m[\u001b[0m\u001b[0;36m1\u001b[0m\u001b[0;34m,\u001b[0m\u001b[0;36m1\u001b[0m\u001b[0;34m]\u001b[0m\u001b[0;34m)\u001b[0m\u001b[0;34m\u001b[0m\u001b[0m\n\u001b[0m\u001b[1;32m      4\u001b[0m \u001b[0mplt\u001b[0m\u001b[0;34m.\u001b[0m\u001b[0mplot\u001b[0m\u001b[0;34m(\u001b[0m\u001b[0md\u001b[0m\u001b[0;34m)\u001b[0m\u001b[0;34m\u001b[0m\u001b[0m\n",
      "\u001b[0;32m<ipython-input-116-13e670c90b94>\u001b[0m in \u001b[0;36mget_tile\u001b[0;34m(f, tile_pos)\u001b[0m\n\u001b[1;32m     19\u001b[0m \u001b[0;34m\u001b[0m\u001b[0m\n\u001b[1;32m     20\u001b[0m     \u001b[0;31m# which resolution does this zoom level correspond to?\u001b[0m\u001b[0;34m\u001b[0m\u001b[0;34m\u001b[0m\u001b[0m\n\u001b[0;32m---> 21\u001b[0;31m     \u001b[0mresolution\u001b[0m \u001b[0;34m=\u001b[0m \u001b[0mtileset_info\u001b[0m\u001b[0;34m[\u001b[0m\u001b[0;34m'resolutions'\u001b[0m\u001b[0;34m]\u001b[0m\u001b[0;34m[\u001b[0m\u001b[0mtile_pos\u001b[0m\u001b[0;34m[\u001b[0m\u001b[0;36m0\u001b[0m\u001b[0;34m]\u001b[0m\u001b[0;34m]\u001b[0m\u001b[0;34m\u001b[0m\u001b[0m\n\u001b[0m\u001b[1;32m     22\u001b[0m     \u001b[0mtile_size\u001b[0m \u001b[0;34m=\u001b[0m \u001b[0mtileset_info\u001b[0m\u001b[0;34m[\u001b[0m\u001b[0;34m'tile_size'\u001b[0m\u001b[0;34m]\u001b[0m\u001b[0;34m\u001b[0m\u001b[0m\n\u001b[1;32m     23\u001b[0m \u001b[0;34m\u001b[0m\u001b[0m\n",
      "\u001b[0;31mIndexError\u001b[0m: list index out of range"
     ]
    }
   ],
   "source": [
    "# the second tile of zoom_level 1 contains the\n",
    "# data to the \"right\" of the first tile\n",
    "d = get_tile(f, [1,1])\n",
    "plt.plot(d)"
   ]
  },
  {
   "cell_type": "markdown",
   "metadata": {
    "collapsed": true,
    "jupyter": {
     "outputs_hidden": true
    }
   },
   "source": [
    "## Example with n x c data"
   ]
  },
  {
   "cell_type": "code",
   "execution_count": 120,
   "metadata": {},
   "outputs": [
    {
     "data": {
      "text/plain": [
       "[<matplotlib.lines.Line2D at 0x110c84860>]"
      ]
     },
     "execution_count": 120,
     "metadata": {},
     "output_type": "execute_result"
    },
    {
     "data": {
      "image/png": "[encoded data removed]",
      "text/plain": [
       "<matplotlib.figure.Figure at 0x110bb54a8>"
      ]
     },
     "metadata": {},
     "output_type": "display_data"
    }
   ],
   "source": [
    "## create some input data\n",
    "import h5py \n",
    "import math\n",
    "import os\n",
    "import os.path as op\n",
    "import numpy as np\n",
    "\n",
    "import matplotlib.pyplot as plt\n",
    "import scipy.stats as ss\n",
    "\n",
    "array_length = 4000\n",
    "array_width = 5\n",
    "\n",
    "xs = range(array_length)\n",
    "array_data = np.array([i * np.array(range(array_length))\n",
    "              for i in range(1,array_width+1)]).T\n",
    "plt.plot(xs, array_data[:,0])"
   ]
  },
  {
   "cell_type": "code",
   "execution_count": 121,
   "metadata": {},
   "outputs": [
    {
     "data": {
      "text/plain": [
       "array([[    0,     0,     0,     0,     0],\n",
       "       [    1,     2,     3,     4,     5],\n",
       "       [    2,     4,     6,     8,    10],\n",
       "       ..., \n",
       "       [ 3997,  7994, 11991, 15988, 19985],\n",
       "       [ 3998,  7996, 11994, 15992, 19990],\n",
       "       [ 3999,  7998, 11997, 15996, 19995]])"
      ]
     },
     "execution_count": 121,
     "metadata": {},
     "output_type": "execute_result"
    }
   ],
   "source": [
    "array_data"
   ]
  },
  {
   "cell_type": "code",
   "execution_count": 122,
   "metadata": {},
   "outputs": [
    {
     "data": {
      "text/plain": [
       "array([[    1,     2,     3,     4,     5],\n",
       "       [    5,    10,    15,    20,    25],\n",
       "       [    9,    18,    27,    36,    45],\n",
       "       ..., \n",
       "       [ 7989, 15978, 23967, 31956, 39945],\n",
       "       [ 7993, 15986, 23979, 31972, 39965],\n",
       "       [ 7997, 15994, 23991, 31988, 39985]])"
      ]
     },
     "execution_count": 122,
     "metadata": {},
     "output_type": "execute_result"
    }
   ],
   "source": [
    "array_data.T.reshape((array_data.shape[1],-1,2)).sum(axis=2).T"
   ]
  },
  {
   "cell_type": "code",
   "execution_count": 123,
   "metadata": {},
   "outputs": [
    {
     "name": "stdout",
     "output_type": "stream",
     "text": [
      "max_zoom: 2\n",
      "zoom_level: 1 resolution: 2 new_data length 2000\n",
      "zoom_level: 0 resolution: 4 new_data length 1000\n"
     ]
    }
   ],
   "source": [
    "f = create_multires(np.array(array_data), \n",
    "                    array_length,\n",
    "                    lambda x: x.T.reshape((x.shape[1],-1,2)).sum(axis=2).T)"
   ]
  },
  {
   "cell_type": "code",
   "execution_count": 124,
   "metadata": {},
   "outputs": [
    {
     "name": "stdout",
     "output_type": "stream",
     "text": [
      "{'resolutions': [4, 2, 1], 'min_pos': [0], 'tile_size': 1024}\n"
     ]
    }
   ],
   "source": [
    "print(get_tileset_info(f))"
   ]
  },
  {
   "cell_type": "code",
   "execution_count": 125,
   "metadata": {},
   "outputs": [
    {
     "data": {
      "text/plain": [
       "array([[  6.00000000e+00,   1.20000000e+01,   1.80000000e+01,\n",
       "          2.40000000e+01,   3.00000000e+01],\n",
       "       [  2.20000000e+01,   4.40000000e+01,   6.60000000e+01,\n",
       "          8.80000000e+01,   1.10000000e+02],\n",
       "       [  3.80000000e+01,   7.60000000e+01,   1.14000000e+02,\n",
       "          1.52000000e+02,   1.90000000e+02],\n",
       "       ..., \n",
       "       [  1.59580000e+04,   3.19160000e+04,   4.78740000e+04,\n",
       "          6.38320000e+04,   7.97900000e+04],\n",
       "       [  1.59740000e+04,   3.19480000e+04,   4.79220000e+04,\n",
       "          6.38960000e+04,   7.98700000e+04],\n",
       "       [  1.59900000e+04,   3.19800000e+04,   4.79700000e+04,\n",
       "          6.39600000e+04,   7.99500000e+04]], dtype=float32)"
      ]
     },
     "execution_count": 125,
     "metadata": {},
     "output_type": "execute_result"
    }
   ],
   "source": [
    "get_tile(f, [0,0])"
   ]
  },
  {
   "cell_type": "markdown",
   "metadata": {},
   "source": [
    "## Adding chromosome info to the resulting file\n",
    "\n"
   ]
  },
  {
   "cell_type": "code",
   "execution_count": 127,
   "metadata": {
    "collapsed": true,
    "jupyter": {
     "outputs_hidden": true
    }
   },
   "outputs": [],
   "source": [
    "#filename = '/tmp/my_file.multires'\n",
    "#filename = '/Users/pete/projects/higlass-server/media/uploads/my_file_genome_wide_hg38.multires'\n",
    "#chromInfoFile = ('/Users/pete/projects/negspy/negspy/data/hg38/chromInfo.txt')\n",
    "\n"
   ]
  },
  {
   "cell_type": "code",
   "execution_count": 128,
   "metadata": {},
   "outputs": [
    {
     "name": "stdout",
     "output_type": "stream",
     "text": [
      "chromsizes [('chr1', 248956422), ('chr2', 242193529), ('chr3', 198295559), ('chr4', 190214555), ('chr5', 181538259), ('chr6', 170805979), ('chr7', 159345973), ('chr8', 145138636), ('chr9', 138394717), ('chr10', 133797422)]\n"
     ]
    }
   ],
   "source": [
    "print('chromsizes', chromsizes[:10])"
   ]
  },
  {
   "cell_type": "code",
   "execution_count": 2,
   "metadata": {},
   "outputs": [
    {
     "data": {
      "text/plain": [
       "<HDF5 group \"/chr1\" (0 members)>"
      ]
     },
     "execution_count": 2,
     "metadata": {},
     "output_type": "execute_result"
    }
   ],
   "source": [
    "import h5py\n",
    "f = h5py.File('/tmp/blah.h5', 'w')\n",
    "f.create_group('chr1')"
   ]
  },
  {
   "cell_type": "code",
   "execution_count": null,
   "metadata": {
    "collapsed": true,
    "jupyter": {
     "outputs_hidden": true
    }
   },
   "outputs": [],
   "source": []
  }
 ],
 "metadata": {
  "kernelspec": {
   "display_name": "Python 3 (ipykernel)",
   "language": "python",
   "name": "python3"
  },
  "language_info": {
   "codemirror_mode": {
    "name": "ipython",
    "version": 3
   },
   "file_extension": ".py",
   "mimetype": "text/x-python",
   "name": "python",
   "nbconvert_exporter": "python",
   "pygments_lexer": "ipython3",
   "version": "3.10.15"
  }
 },
 "nbformat": 4,
 "nbformat_minor": 4
}
