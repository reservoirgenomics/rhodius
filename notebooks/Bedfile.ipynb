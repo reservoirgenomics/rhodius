{
 "cells": [
  {
   "cell_type": "code",
   "execution_count": 2,
   "metadata": {},
   "outputs": [],
   "source": [
    "%load_ext autoreload\n",
    "%autoreload 2"
   ]
  },
  {
   "cell_type": "code",
   "execution_count": 3,
   "metadata": {},
   "outputs": [],
   "source": [
    "import os.path as op\n",
    "import pandas as pd\n",
    "\n",
    "chromsizes = []\n",
    "with open('/Users/pete/projects/negspy/negspy/data/b37/chromInfo.txt') as f:\n",
    "    for line in f:\n",
    "        chromsizes += [line.strip().split('\\t')]"
   ]
  },
  {
   "cell_type": "code",
   "execution_count": 4,
   "metadata": {},
   "outputs": [
    {
     "name": "stdout",
     "output_type": "stream",
     "text": [
      "CPU times: user 28.2 ms, sys: 10.2 ms, total: 38.4 ms\n",
      "Wall time: 152 ms\n"
     ]
    }
   ],
   "source": [
    "%%time\n",
    "\n",
    "filename = '/Users/pete/projects/resgen-server/media/s3/resgen-test/test.resgen.io/QzV6Qhx7QYaIP9nEznkVig/HG002_SVs_Tier1_v0.6.bed..'\n",
    "t = pd.read_csv(filename, header=None, delimiter=\"\\t\")"
   ]
  },
  {
   "cell_type": "code",
   "execution_count": 4,
   "metadata": {},
   "outputs": [],
   "source": [
    "import numpy as np\n",
    "def chromsizes_array_to_series(chromsizes):\n",
    "    \"\"\"\n",
    "    Convert an array of [[chrname, size]...] values to a series\n",
    "    indexed by chrname with size values\n",
    "    \"\"\"\n",
    "    chrnames = [c[0] for c in chromsizes]\n",
    "    chrvalues = [c[1] for c in chromsizes]\n",
    "\n",
    "    return pd.Series(np.array([int(c) for c in chrvalues]), index=chrnames)"
   ]
  },
  {
   "cell_type": "code",
   "execution_count": 5,
   "metadata": {},
   "outputs": [],
   "source": [
    "cs_df = chromsizes_array_to_series(chromsizes)\n",
    "css = cs_df.cumsum().shift().fillna(0).to_dict()"
   ]
  },
  {
   "cell_type": "code",
   "execution_count": 8,
   "metadata": {},
   "outputs": [
    {
     "data": {
      "text/plain": [
       "{'max_width': 3095693981,\n",
       " 'max_zoom': 31,\n",
       " 'chromsizes': [['1', 249250621],\n",
       "  ['2', 243199373],\n",
       "  ['3', 198022430],\n",
       "  ['4', 191154276],\n",
       "  ['5', 180915260],\n",
       "  ['6', 171115067],\n",
       "  ['7', 159138663],\n",
       "  ['8', 146364022],\n",
       "  ['9', 141213431],\n",
       "  ['10', 135534747],\n",
       "  ['11', 135006516],\n",
       "  ['12', 133851895],\n",
       "  ['13', 115169878],\n",
       "  ['14', 107349540],\n",
       "  ['15', 102531392],\n",
       "  ['16', 90354753],\n",
       "  ['17', 81195210],\n",
       "  ['18', 78077248],\n",
       "  ['19', 59128983],\n",
       "  ['20', 63025520],\n",
       "  ['21', 48129895],\n",
       "  ['22', 51304566],\n",
       "  ['X', 155270560],\n",
       "  ['Y', 59373566],\n",
       "  ['MT', 16569]],\n",
       " 'min_pos': [0],\n",
       " 'max_pos': [3095693981]}"
      ]
     },
     "execution_count": 8,
     "metadata": {},
     "output_type": "execute_result"
    }
   ],
   "source": [
    "import clodius.tiles.bedfile as ctbf\n",
    "\n",
    "tsinfo = ctbf.tileset_info(filename, cs_df)\n",
    "tsinfo"
   ]
  },
  {
   "cell_type": "code",
   "execution_count": 9,
   "metadata": {},
   "outputs": [
    {
     "name": "stdout",
     "output_type": "stream",
     "text": [
      "[{'uid': 0, 'xStart': 834131.0, 'xEnd': 843115.0, 'chrOffset': 0.0, 'importance': 0.5233906436680045, 'fields': ['1', 834131, 843115]}, {'uid': 1, 'xStart': 846279.0, 'xEnd': 868342.0, 'chrOffset': 0.0, 'importance': 0.11077413746686304, 'fields': ['1', 846279, 868342]}]\n",
      "[{'uid': 0, 'xStart': 834131.0, 'xEnd': 843115.0, 'chrOffset': 0.0, 'importance': 0.32331359754307, 'fields': ['1', 834131, 843115]}]\n",
      "[{'uid': 0, 'xStart': 834131.0, 'xEnd': 843115.0, 'chrOffset': 0.0, 'importance': 0.1821769631922241, 'fields': ['1', 834131, 843115]}, {'uid': 1, 'xStart': 846279.0, 'xEnd': 868342.0, 'chrOffset': 0.0, 'importance': 0.4187216749401593, 'fields': ['1', 846279, 868342]}]\n",
      "CPU times: user 136 ms, sys: 32.5 ms, total: 168 ms\n",
      "Wall time: 196 ms\n"
     ]
    }
   ],
   "source": [
    "%%time\n",
    "\n",
    "print(ctbf.single_tile(filename, cs_df, tsinfo, 17, 35))\n",
    "print(ctbf.single_tile(filename, cs_df, tsinfo, 18, 70))\n",
    "print(ctbf.single_tile(filename, cs_df, tsinfo, 18, 71))\n",
    "# x = ctbf.single_tile(filename, cs_df, tsinfo, 15, 9331)\n"
   ]
  },
  {
   "cell_type": "raw",
   "metadata": {},
   "source": [
    "%%time\n",
    "\n",
    "t[3] = t[0].map(lambda x: css[x])\n",
    "t[4] = t[3] + t[1]\n",
    "t[5] = t[3] + t[2]"
   ]
  },
  {
   "cell_type": "code",
   "execution_count": 108,
   "metadata": {},
   "outputs": [],
   "source": [
    "t['ix'] = t.index"
   ]
  },
  {
   "cell_type": "code",
   "execution_count": 122,
   "metadata": {},
   "outputs": [
    {
     "data": {
      "text/plain": [
       "34825    34825\n",
       "34826    34826\n",
       "34827    34827\n",
       "34828    34828\n",
       "34829    34829\n",
       "dtype: int64"
      ]
     },
     "execution_count": 122,
     "metadata": {},
     "output_type": "execute_result"
    }
   ],
   "source": [
    "t.tail().apply(lambda x: x['ix'], axis=1)"
   ]
  },
  {
   "cell_type": "code",
   "execution_count": 46,
   "metadata": {},
   "outputs": [
    {
     "name": "stdout",
     "output_type": "stream",
     "text": [
      "CPU times: user 2.42 s, sys: 27.2 ms, total: 2.45 s\n",
      "Wall time: 2.49 s\n"
     ]
    }
   ],
   "source": [
    "%%time\n",
    "\n",
    "s = 0\n",
    "for item in t.iterrows():\n",
    "    s += item[1][1]\n"
   ]
  },
  {
   "cell_type": "code",
   "execution_count": 48,
   "metadata": {},
   "outputs": [
    {
     "name": "stdout",
     "output_type": "stream",
     "text": [
      "CPU times: user 23.1 ms, sys: 11.5 ms, total: 34.6 ms\n",
      "Wall time: 54.6 ms\n"
     ]
    },
    {
     "data": {
      "text/html": [
       "<div>\n",
       "<style scoped>\n",
       "    .dataframe tbody tr th:only-of-type {\n",
       "        vertical-align: middle;\n",
       "    }\n",
       "\n",
       "    .dataframe tbody tr th {\n",
       "        vertical-align: top;\n",
       "    }\n",
       "\n",
       "    .dataframe thead th {\n",
       "        text-align: right;\n",
       "    }\n",
       "</style>\n",
       "<table border=\"1\" class=\"dataframe\">\n",
       "  <thead>\n",
       "    <tr style=\"text-align: right;\">\n",
       "      <th></th>\n",
       "      <th>0</th>\n",
       "      <th>1</th>\n",
       "      <th>2</th>\n",
       "    </tr>\n",
       "  </thead>\n",
       "  <tbody>\n",
       "    <tr>\n",
       "      <th>0</th>\n",
       "      <td>1</td>\n",
       "      <td>834131</td>\n",
       "      <td>843115</td>\n",
       "    </tr>\n",
       "    <tr>\n",
       "      <th>1</th>\n",
       "      <td>1</td>\n",
       "      <td>846279</td>\n",
       "      <td>868342</td>\n",
       "    </tr>\n",
       "    <tr>\n",
       "      <th>2</th>\n",
       "      <td>1</td>\n",
       "      <td>871339</td>\n",
       "      <td>871544</td>\n",
       "    </tr>\n",
       "    <tr>\n",
       "      <th>3</th>\n",
       "      <td>1</td>\n",
       "      <td>871891</td>\n",
       "      <td>883971</td>\n",
       "    </tr>\n",
       "    <tr>\n",
       "      <th>4</th>\n",
       "      <td>1</td>\n",
       "      <td>884192</td>\n",
       "      <td>911068</td>\n",
       "    </tr>\n",
       "    <tr>\n",
       "      <th>5</th>\n",
       "      <td>1</td>\n",
       "      <td>914552</td>\n",
       "      <td>919891</td>\n",
       "    </tr>\n",
       "    <tr>\n",
       "      <th>6</th>\n",
       "      <td>1</td>\n",
       "      <td>920092</td>\n",
       "      <td>924011</td>\n",
       "    </tr>\n",
       "    <tr>\n",
       "      <th>7</th>\n",
       "      <td>1</td>\n",
       "      <td>924800</td>\n",
       "      <td>928212</td>\n",
       "    </tr>\n",
       "    <tr>\n",
       "      <th>8</th>\n",
       "      <td>1</td>\n",
       "      <td>928587</td>\n",
       "      <td>934027</td>\n",
       "    </tr>\n",
       "    <tr>\n",
       "      <th>9</th>\n",
       "      <td>1</td>\n",
       "      <td>934279</td>\n",
       "      <td>957867</td>\n",
       "    </tr>\n",
       "    <tr>\n",
       "      <th>10</th>\n",
       "      <td>1</td>\n",
       "      <td>958068</td>\n",
       "      <td>964666</td>\n",
       "    </tr>\n",
       "    <tr>\n",
       "      <th>11</th>\n",
       "      <td>1</td>\n",
       "      <td>966759</td>\n",
       "      <td>976059</td>\n",
       "    </tr>\n",
       "    <tr>\n",
       "      <th>12</th>\n",
       "      <td>1</td>\n",
       "      <td>978248</td>\n",
       "      <td>997336</td>\n",
       "    </tr>\n",
       "    <tr>\n",
       "      <th>13</th>\n",
       "      <td>1</td>\n",
       "      <td>997639</td>\n",
       "      <td>1004057</td>\n",
       "    </tr>\n",
       "    <tr>\n",
       "      <th>14</th>\n",
       "      <td>1</td>\n",
       "      <td>1004322</td>\n",
       "      <td>1011177</td>\n",
       "    </tr>\n",
       "    <tr>\n",
       "      <th>15</th>\n",
       "      <td>1</td>\n",
       "      <td>1017409</td>\n",
       "      <td>1043322</td>\n",
       "    </tr>\n",
       "    <tr>\n",
       "      <th>16</th>\n",
       "      <td>1</td>\n",
       "      <td>1044602</td>\n",
       "      <td>1073451</td>\n",
       "    </tr>\n",
       "    <tr>\n",
       "      <th>17</th>\n",
       "      <td>1</td>\n",
       "      <td>1077844</td>\n",
       "      <td>1092575</td>\n",
       "    </tr>\n",
       "    <tr>\n",
       "      <th>18</th>\n",
       "      <td>1</td>\n",
       "      <td>1092924</td>\n",
       "      <td>1103289</td>\n",
       "    </tr>\n",
       "    <tr>\n",
       "      <th>19</th>\n",
       "      <td>1</td>\n",
       "      <td>1103571</td>\n",
       "      <td>1137053</td>\n",
       "    </tr>\n",
       "    <tr>\n",
       "      <th>20</th>\n",
       "      <td>1</td>\n",
       "      <td>1138315</td>\n",
       "      <td>1175009</td>\n",
       "    </tr>\n",
       "    <tr>\n",
       "      <th>21</th>\n",
       "      <td>1</td>\n",
       "      <td>1177093</td>\n",
       "      <td>1179119</td>\n",
       "    </tr>\n",
       "    <tr>\n",
       "      <th>22</th>\n",
       "      <td>1</td>\n",
       "      <td>1181675</td>\n",
       "      <td>1182435</td>\n",
       "    </tr>\n",
       "    <tr>\n",
       "      <th>23</th>\n",
       "      <td>1</td>\n",
       "      <td>1186067</td>\n",
       "      <td>1218477</td>\n",
       "    </tr>\n",
       "    <tr>\n",
       "      <th>24</th>\n",
       "      <td>1</td>\n",
       "      <td>1220614</td>\n",
       "      <td>1222554</td>\n",
       "    </tr>\n",
       "    <tr>\n",
       "      <th>25</th>\n",
       "      <td>1</td>\n",
       "      <td>1226633</td>\n",
       "      <td>1229011</td>\n",
       "    </tr>\n",
       "    <tr>\n",
       "      <th>26</th>\n",
       "      <td>1</td>\n",
       "      <td>1229231</td>\n",
       "      <td>1259139</td>\n",
       "    </tr>\n",
       "    <tr>\n",
       "      <th>27</th>\n",
       "      <td>1</td>\n",
       "      <td>1259745</td>\n",
       "      <td>1275164</td>\n",
       "    </tr>\n",
       "    <tr>\n",
       "      <th>28</th>\n",
       "      <td>1</td>\n",
       "      <td>1275479</td>\n",
       "      <td>1317510</td>\n",
       "    </tr>\n",
       "    <tr>\n",
       "      <th>29</th>\n",
       "      <td>1</td>\n",
       "      <td>1318385</td>\n",
       "      <td>1361714</td>\n",
       "    </tr>\n",
       "    <tr>\n",
       "      <th>...</th>\n",
       "      <td>...</td>\n",
       "      <td>...</td>\n",
       "      <td>...</td>\n",
       "    </tr>\n",
       "    <tr>\n",
       "      <th>34800</th>\n",
       "      <td>Y</td>\n",
       "      <td>16933329</td>\n",
       "      <td>16937452</td>\n",
       "    </tr>\n",
       "    <tr>\n",
       "      <th>34801</th>\n",
       "      <td>Y</td>\n",
       "      <td>16937679</td>\n",
       "      <td>16948615</td>\n",
       "    </tr>\n",
       "    <tr>\n",
       "      <th>34802</th>\n",
       "      <td>Y</td>\n",
       "      <td>16964016</td>\n",
       "      <td>17104446</td>\n",
       "    </tr>\n",
       "    <tr>\n",
       "      <th>34803</th>\n",
       "      <td>Y</td>\n",
       "      <td>17117445</td>\n",
       "      <td>17196455</td>\n",
       "    </tr>\n",
       "    <tr>\n",
       "      <th>34804</th>\n",
       "      <td>Y</td>\n",
       "      <td>17196909</td>\n",
       "      <td>17335620</td>\n",
       "    </tr>\n",
       "    <tr>\n",
       "      <th>34805</th>\n",
       "      <td>Y</td>\n",
       "      <td>17349439</td>\n",
       "      <td>17427165</td>\n",
       "    </tr>\n",
       "    <tr>\n",
       "      <th>34806</th>\n",
       "      <td>Y</td>\n",
       "      <td>17441215</td>\n",
       "      <td>17664926</td>\n",
       "    </tr>\n",
       "    <tr>\n",
       "      <th>34807</th>\n",
       "      <td>Y</td>\n",
       "      <td>17676058</td>\n",
       "      <td>17737713</td>\n",
       "    </tr>\n",
       "    <tr>\n",
       "      <th>34808</th>\n",
       "      <td>Y</td>\n",
       "      <td>17748532</td>\n",
       "      <td>17982133</td>\n",
       "    </tr>\n",
       "    <tr>\n",
       "      <th>34809</th>\n",
       "      <td>Y</td>\n",
       "      <td>17997362</td>\n",
       "      <td>18060111</td>\n",
       "    </tr>\n",
       "    <tr>\n",
       "      <th>34810</th>\n",
       "      <td>Y</td>\n",
       "      <td>18060497</td>\n",
       "      <td>18270564</td>\n",
       "    </tr>\n",
       "    <tr>\n",
       "      <th>34811</th>\n",
       "      <td>Y</td>\n",
       "      <td>18381476</td>\n",
       "      <td>18427239</td>\n",
       "    </tr>\n",
       "    <tr>\n",
       "      <th>34812</th>\n",
       "      <td>Y</td>\n",
       "      <td>18537727</td>\n",
       "      <td>18924552</td>\n",
       "    </tr>\n",
       "    <tr>\n",
       "      <th>34813</th>\n",
       "      <td>Y</td>\n",
       "      <td>18949239</td>\n",
       "      <td>19385833</td>\n",
       "    </tr>\n",
       "    <tr>\n",
       "      <th>34814</th>\n",
       "      <td>Y</td>\n",
       "      <td>19388430</td>\n",
       "      <td>19436622</td>\n",
       "    </tr>\n",
       "    <tr>\n",
       "      <th>34815</th>\n",
       "      <td>Y</td>\n",
       "      <td>19438679</td>\n",
       "      <td>19488013</td>\n",
       "    </tr>\n",
       "    <tr>\n",
       "      <th>34816</th>\n",
       "      <td>Y</td>\n",
       "      <td>19489413</td>\n",
       "      <td>19567633</td>\n",
       "    </tr>\n",
       "    <tr>\n",
       "      <th>34817</th>\n",
       "      <td>Y</td>\n",
       "      <td>20802297</td>\n",
       "      <td>20841862</td>\n",
       "    </tr>\n",
       "    <tr>\n",
       "      <th>34818</th>\n",
       "      <td>Y</td>\n",
       "      <td>21033007</td>\n",
       "      <td>21152475</td>\n",
       "    </tr>\n",
       "    <tr>\n",
       "      <th>34819</th>\n",
       "      <td>Y</td>\n",
       "      <td>21154578</td>\n",
       "      <td>21551272</td>\n",
       "    </tr>\n",
       "    <tr>\n",
       "      <th>34820</th>\n",
       "      <td>Y</td>\n",
       "      <td>21552363</td>\n",
       "      <td>22216540</td>\n",
       "    </tr>\n",
       "    <tr>\n",
       "      <th>34821</th>\n",
       "      <td>Y</td>\n",
       "      <td>22512990</td>\n",
       "      <td>22636783</td>\n",
       "    </tr>\n",
       "    <tr>\n",
       "      <th>34822</th>\n",
       "      <td>Y</td>\n",
       "      <td>22673999</td>\n",
       "      <td>23167762</td>\n",
       "    </tr>\n",
       "    <tr>\n",
       "      <th>34823</th>\n",
       "      <td>Y</td>\n",
       "      <td>23225680</td>\n",
       "      <td>23465962</td>\n",
       "    </tr>\n",
       "    <tr>\n",
       "      <th>34824</th>\n",
       "      <td>Y</td>\n",
       "      <td>24373111</td>\n",
       "      <td>24385983</td>\n",
       "    </tr>\n",
       "    <tr>\n",
       "      <th>34825</th>\n",
       "      <td>Y</td>\n",
       "      <td>24388630</td>\n",
       "      <td>24389844</td>\n",
       "    </tr>\n",
       "    <tr>\n",
       "      <th>34826</th>\n",
       "      <td>Y</td>\n",
       "      <td>24432604</td>\n",
       "      <td>24448138</td>\n",
       "    </tr>\n",
       "    <tr>\n",
       "      <th>34827</th>\n",
       "      <td>Y</td>\n",
       "      <td>24479952</td>\n",
       "      <td>24491743</td>\n",
       "    </tr>\n",
       "    <tr>\n",
       "      <th>34828</th>\n",
       "      <td>Y</td>\n",
       "      <td>28817034</td>\n",
       "      <td>28817446</td>\n",
       "    </tr>\n",
       "    <tr>\n",
       "      <th>34829</th>\n",
       "      <td>Y</td>\n",
       "      <td>28817773</td>\n",
       "      <td>28819403</td>\n",
       "    </tr>\n",
       "  </tbody>\n",
       "</table>\n",
       "<p>34830 rows × 3 columns</p>\n",
       "</div>"
      ],
      "text/plain": [
       "       0         1         2\n",
       "0      1    834131    843115\n",
       "1      1    846279    868342\n",
       "2      1    871339    871544\n",
       "3      1    871891    883971\n",
       "4      1    884192    911068\n",
       "5      1    914552    919891\n",
       "6      1    920092    924011\n",
       "7      1    924800    928212\n",
       "8      1    928587    934027\n",
       "9      1    934279    957867\n",
       "10     1    958068    964666\n",
       "11     1    966759    976059\n",
       "12     1    978248    997336\n",
       "13     1    997639   1004057\n",
       "14     1   1004322   1011177\n",
       "15     1   1017409   1043322\n",
       "16     1   1044602   1073451\n",
       "17     1   1077844   1092575\n",
       "18     1   1092924   1103289\n",
       "19     1   1103571   1137053\n",
       "20     1   1138315   1175009\n",
       "21     1   1177093   1179119\n",
       "22     1   1181675   1182435\n",
       "23     1   1186067   1218477\n",
       "24     1   1220614   1222554\n",
       "25     1   1226633   1229011\n",
       "26     1   1229231   1259139\n",
       "27     1   1259745   1275164\n",
       "28     1   1275479   1317510\n",
       "29     1   1318385   1361714\n",
       "...   ..       ...       ...\n",
       "34800  Y  16933329  16937452\n",
       "34801  Y  16937679  16948615\n",
       "34802  Y  16964016  17104446\n",
       "34803  Y  17117445  17196455\n",
       "34804  Y  17196909  17335620\n",
       "34805  Y  17349439  17427165\n",
       "34806  Y  17441215  17664926\n",
       "34807  Y  17676058  17737713\n",
       "34808  Y  17748532  17982133\n",
       "34809  Y  17997362  18060111\n",
       "34810  Y  18060497  18270564\n",
       "34811  Y  18381476  18427239\n",
       "34812  Y  18537727  18924552\n",
       "34813  Y  18949239  19385833\n",
       "34814  Y  19388430  19436622\n",
       "34815  Y  19438679  19488013\n",
       "34816  Y  19489413  19567633\n",
       "34817  Y  20802297  20841862\n",
       "34818  Y  21033007  21152475\n",
       "34819  Y  21154578  21551272\n",
       "34820  Y  21552363  22216540\n",
       "34821  Y  22512990  22636783\n",
       "34822  Y  22673999  23167762\n",
       "34823  Y  23225680  23465962\n",
       "34824  Y  24373111  24385983\n",
       "34825  Y  24388630  24389844\n",
       "34826  Y  24432604  24448138\n",
       "34827  Y  24479952  24491743\n",
       "34828  Y  28817034  28817446\n",
       "34829  Y  28817773  28819403\n",
       "\n",
       "[34830 rows x 3 columns]"
      ]
     },
     "execution_count": 48,
     "metadata": {},
     "output_type": "execute_result"
    }
   ],
   "source": [
    "%%time\n",
    "\n",
    "t.sort_values(by=[0,1])"
   ]
  },
  {
   "cell_type": "markdown",
   "metadata": {},
   "source": [
    "## GIAB indexed bedfile"
   ]
  },
  {
   "cell_type": "code",
   "execution_count": 5,
   "metadata": {},
   "outputs": [],
   "source": [
    "filename = op.join(\n",
    "    \"/Users/pete/projects/resgen-server/media/https/\"\n",
    "    \"dl.dnanex.us/F/D/qq3pZ3X5Q5p4Pbzzgk6FyzqVbKk02KqbYQZ1p0gP/hg19.segdups%2Bselfchain.bed.gz..\"\n",
    ")"
   ]
  },
  {
   "cell_type": "code",
   "execution_count": 6,
   "metadata": {},
   "outputs": [
    {
     "data": {
      "text/plain": [
       "'/Users/pete/projects/resgen-server/media/https/dl.dnanex.us/F/D/qq3pZ3X5Q5p4Pbzzgk6FyzqVbKk02KqbYQZ1p0gP/hg19.segdups%2Bselfchain.bed.gz..'"
      ]
     },
     "execution_count": 6,
     "metadata": {},
     "output_type": "execute_result"
    }
   ],
   "source": [
    "filename"
   ]
  },
  {
   "cell_type": "code",
   "execution_count": 7,
   "metadata": {},
   "outputs": [
    {
     "data": {
      "text/plain": [
       "True"
      ]
     },
     "execution_count": 7,
     "metadata": {},
     "output_type": "execute_result"
    }
   ],
   "source": [
    "op.exists(filename)"
   ]
  },
  {
   "cell_type": "code",
   "execution_count": 22,
   "metadata": {},
   "outputs": [
    {
     "data": {
      "text/plain": [
       "True"
      ]
     },
     "execution_count": 22,
     "metadata": {},
     "output_type": "execute_result"
    }
   ],
   "source": [
    "import clodius.tiles.bedfile as ctb\n",
    "\n",
    "if filename[-2:] == '..':\n",
    "    index_filename = filename[:-2] + '.tbi..'\n",
    "else:\n",
    "    index_filename = filename + '.tbi'\n",
    "\n",
    "op.exists(index_filename)\n",
    "#ctb.single_indexed_tile()"
   ]
  },
  {
   "cell_type": "code",
   "execution_count": 39,
   "metadata": {},
   "outputs": [
    {
     "ename": "TabixError",
     "evalue": "query failed",
     "output_type": "error",
     "traceback": [
      "\u001b[0;31m---------------------------------------------------------------------------\u001b[0m",
      "\u001b[0;31mTabixError\u001b[0m                                Traceback (most recent call last)",
      "\u001b[0;32m<ipython-input-39-e97000dbbafe>\u001b[0m in \u001b[0;36m<module>\u001b[0;34m\u001b[0m\n\u001b[1;32m      1\u001b[0m \u001b[0;32mimport\u001b[0m \u001b[0mtabix\u001b[0m\u001b[0;34m\u001b[0m\u001b[0;34m\u001b[0m\u001b[0m\n\u001b[1;32m      2\u001b[0m \u001b[0mtb\u001b[0m \u001b[0;34m=\u001b[0m \u001b[0mtabix\u001b[0m\u001b[0;34m.\u001b[0m\u001b[0mopen\u001b[0m\u001b[0;34m(\u001b[0m\u001b[0mfilename\u001b[0m\u001b[0;34m,\u001b[0m \u001b[0mfnidx\u001b[0m\u001b[0;34m=\u001b[0m\u001b[0;34m'xxx'\u001b[0m\u001b[0;34m)\u001b[0m\u001b[0;34m\u001b[0m\u001b[0;34m\u001b[0m\u001b[0m\n\u001b[0;32m----> 3\u001b[0;31m \u001b[0mtb\u001b[0m\u001b[0;34m.\u001b[0m\u001b[0mquery\u001b[0m\u001b[0;34m(\u001b[0m\u001b[0;34m'chr1'\u001b[0m\u001b[0;34m,\u001b[0m \u001b[0;36m0\u001b[0m\u001b[0;34m,\u001b[0m \u001b[0;36m40000\u001b[0m\u001b[0;34m)\u001b[0m\u001b[0;34m\u001b[0m\u001b[0;34m\u001b[0m\u001b[0m\n\u001b[0m",
      "\u001b[0;31mTabixError\u001b[0m: query failed"
     ]
    }
   ],
   "source": [
    "import tabix\n",
    "tb = tabix.open(filename, fnidx='xxx')\n",
    "tb.query('chr1', 0, 40000)"
   ]
  },
  {
   "cell_type": "code",
   "execution_count": 42,
   "metadata": {},
   "outputs": [
    {
     "data": {
      "text/plain": [
       "<tabix.iter at 0x11f6abfd0>"
      ]
     },
     "execution_count": 42,
     "metadata": {},
     "output_type": "execute_result"
    }
   ],
   "source": [
    "import tabix\n",
    "\n",
    "filename='/Users/pete/Downloads/hg19.segdups+selfchain.bed.gz'\n",
    "tb = tabix.open(filename)\n",
    "tb.query('chr1', 0, 20000)"
   ]
  },
  {
   "cell_type": "code",
   "execution_count": 40,
   "metadata": {},
   "outputs": [
    {
     "data": {
      "text/plain": [
       "'/Users/pete/miniconda3/envs/cenv4/lib/python3.7/site-packages/tabix.cpython-37m-darwin.so'"
      ]
     },
     "execution_count": 40,
     "metadata": {},
     "output_type": "execute_result"
    }
   ],
   "source": [
    "tabix.__file__"
   ]
  },
  {
   "cell_type": "code",
   "execution_count": null,
   "metadata": {},
   "outputs": [],
   "source": [
    "x=\"https://dl.dnanex.us/F/D/qq3pZ3X5Q5p4Pbzzgk6FyzqVbKk02KqbYQZ1p0gP/hg19.segdups%2Bselfchain.bed.gz\""
   ]
  }
 ],
 "metadata": {
  "kernelspec": {
   "display_name": "Python 3",
   "language": "python",
   "name": "python3"
  }
 },
 "nbformat": 4,
 "nbformat_minor": 4
}
