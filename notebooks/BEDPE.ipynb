{
 "cells": [
  {
   "cell_type": "code",
   "execution_count": 1,
   "metadata": {},
   "outputs": [],
   "source": [
    "%load_ext autoreload\n",
    "%autoreload 2"
   ]
  },
  {
   "cell_type": "code",
   "execution_count": 2,
   "metadata": {},
   "outputs": [
    {
     "data": {
      "text/plain": [
       "'chrom1\\tstart1\\tend1\\tchrom2\\tstart2\\tend2\\tsv_id\\tpe_support\\tstrand1\\tstrand2\\tsvclass\\tsvmethod'"
      ]
     },
     "execution_count": 2,
     "metadata": {},
     "output_type": "execute_result"
    }
   ],
   "source": [
    "import os.path as op\n",
    "import pandas as pd\n",
    "\n",
    "file = op.join('../test/sample_data', 'isidro.bedpe')\n",
    "t = pd.read_csv(file, nrows=2, sep='\\t', comment='#', header=None)\n",
    "t_head = pd.read_csv(file, nrows=2, sep='\\t', comment='#', header=None, skiprows=1)\n",
    "# print(t.dtypes == t_head.dtypes)\n",
    "# print((t.dtypes == t_head.dtypes).all())\n",
    "# print(t.dtypes)\n",
    "# print(t_head.dtypes)\n",
    "\"\\t\".join(t.head().values[0])"
   ]
  },
  {
   "cell_type": "code",
   "execution_count": 16,
   "metadata": {},
   "outputs": [
    {
     "data": {
      "text/plain": [
       "[('x.0.0.0',\n",
       "  [{'uid': 0,\n",
       "    'xStart': 412232865.0,\n",
       "    'xEnd': 412239391.0,\n",
       "    'yStart': 412337941.0,\n",
       "    'yEnd': 412351977.0,\n",
       "    'xChrOffset': 377585195.0,\n",
       "    'yChrOffset': 377585195.0,\n",
       "    'importance': 0.6246185404166814,\n",
       "    'fields': ['chr3', 34647670, 34654196, 'chr3', 34752746, 34766782]}])]"
      ]
     },
     "execution_count": 16,
     "metadata": {},
     "output_type": "execute_result"
    }
   ],
   "source": [
    "import clodius.chromosomes as cs\n",
    "import clodius.tiles.bedpe as ctbp\n",
    "import os.path as op\n",
    "\n",
    "chromsizes = cs.chromsizes_as_series(op.expanduser('~/projects/negspy/negspy/data/mm10/chromInfo.txt'))\n",
    "ctbp.tiles(op.expanduser('~/Downloads/Sox2_SCR (1).bedpe'), ['x.0.0.0'], chromsizes)"
   ]
  },
  {
   "cell_type": "code",
   "execution_count": 13,
   "metadata": {},
   "outputs": [],
   "source": [
    "filename =op.expanduser('~/Downloads/Sox2_SCR (1).bedpe')\n",
    "\n",
    "t = pd.read_csv(\n",
    "        filename,\n",
    "        nrows=2,\n",
    "        sep=\"\\t\",\n",
    "        comment=\"#\",\n",
    "        header=None,\n",
    "        compression=None,\n",
    "    )"
   ]
  },
  {
   "cell_type": "code",
   "execution_count": 15,
   "metadata": {},
   "outputs": [
    {
     "data": {
      "text/plain": [
       "{'max_width': 2730871774,\n",
       " 'max_zoom': 31,\n",
       " 'chromsizes': [['chr1', 195471971],\n",
       "  ['chr2', 182113224],\n",
       "  ['chr3', 160039680],\n",
       "  ['chr4', 156508116],\n",
       "  ['chr5', 151834684],\n",
       "  ['chr6', 149736546],\n",
       "  ['chr7', 145441459],\n",
       "  ['chr8', 129401213],\n",
       "  ['chr9', 124595110],\n",
       "  ['chr10', 130694993],\n",
       "  ['chr11', 122082543],\n",
       "  ['chr12', 120129022],\n",
       "  ['chr13', 120421639],\n",
       "  ['chr14', 124902244],\n",
       "  ['chr15', 104043685],\n",
       "  ['chr16', 98207768],\n",
       "  ['chr17', 94987271],\n",
       "  ['chr18', 90702639],\n",
       "  ['chr19', 61431566],\n",
       "  ['chrX', 171031299],\n",
       "  ['chrY', 91744698],\n",
       "  ['chrM', 16299],\n",
       "  ['chr5_JH584299_random', 953012],\n",
       "  ['chrX_GL456233_random', 336933],\n",
       "  ['chrY_JH584301_random', 259875],\n",
       "  ['chr1_GL456211_random', 241735],\n",
       "  ['chr4_GL456350_random', 227966],\n",
       "  ['chr4_JH584293_random', 207968],\n",
       "  ['chr1_GL456221_random', 206961],\n",
       "  ['chr5_JH584297_random', 205776],\n",
       "  ['chr5_JH584296_random', 199368],\n",
       "  ['chr5_GL456354_random', 195993],\n",
       "  ['chr4_JH584294_random', 191905],\n",
       "  ['chr5_JH584298_random', 184189],\n",
       "  ['chrY_JH584300_random', 182347],\n",
       "  ['chr7_GL456219_random', 175968],\n",
       "  ['chr1_GL456210_random', 169725],\n",
       "  ['chrY_JH584303_random', 158099],\n",
       "  ['chrY_JH584302_random', 155838],\n",
       "  ['chr1_GL456212_random', 153618],\n",
       "  ['chrUn_JH584304', 114452],\n",
       "  ['chrUn_GL456379', 72385],\n",
       "  ['chr4_GL456216_random', 66673],\n",
       "  ['chrUn_GL456393', 55711],\n",
       "  ['chrUn_GL456366', 47073],\n",
       "  ['chrUn_GL456367', 42057],\n",
       "  ['chrUn_GL456239', 40056],\n",
       "  ['chr1_GL456213_random', 39340],\n",
       "  ['chrUn_GL456383', 38659],\n",
       "  ['chrUn_GL456385', 35240],\n",
       "  ['chrUn_GL456360', 31704],\n",
       "  ['chrUn_GL456378', 31602],\n",
       "  ['chrUn_GL456389', 28772],\n",
       "  ['chrUn_GL456372', 28664],\n",
       "  ['chrUn_GL456370', 26764],\n",
       "  ['chrUn_GL456381', 25871],\n",
       "  ['chrUn_GL456387', 24685],\n",
       "  ['chrUn_GL456390', 24668],\n",
       "  ['chrUn_GL456394', 24323],\n",
       "  ['chrUn_GL456392', 23629],\n",
       "  ['chrUn_GL456382', 23158],\n",
       "  ['chrUn_GL456359', 22974],\n",
       "  ['chrUn_GL456396', 21240],\n",
       "  ['chrUn_GL456368', 20208],\n",
       "  ['chr4_JH584292_random', 14945],\n",
       "  ['chr4_JH584295_random', 1976]],\n",
       " 'min_pos': [0, 0],\n",
       " 'max_pos': [2730871774, 2730871774],\n",
       " 'header': ''}"
      ]
     },
     "execution_count": 15,
     "metadata": {},
     "output_type": "execute_result"
    }
   ],
   "source": [
    "ctbp.tileset_info(op.expanduser('~/Downloads/Sox2_SCR (1).bedpe'), chromsizes=chromsizes)"
   ]
  },
  {
   "cell_type": "code",
   "execution_count": 53,
   "metadata": {},
   "outputs": [
    {
     "ename": "TypeError",
     "evalue": "head() takes from 1 to 2 positional arguments but 3 were given",
     "output_type": "error",
     "traceback": [
      "\u001b[0;31m---------------------------------------------------------------------------\u001b[0m",
      "\u001b[0;31mTypeError\u001b[0m                                 Traceback (most recent call last)",
      "\u001b[0;32m<ipython-input-53-76093cefeea4>\u001b[0m in \u001b[0;36m<module>\u001b[0;34m\u001b[0m\n\u001b[0;32m----> 1\u001b[0;31m \u001b[0mt_head\u001b[0m\u001b[0;34m.\u001b[0m\u001b[0mhead\u001b[0m\u001b[0;34m(\u001b[0m\u001b[0mop\u001b[0m\u001b[0;34m.\u001b[0m\u001b[0mjoin\u001b[0m\u001b[0;34m(\u001b[0m\u001b[0;34m'../test/sample_data'\u001b[0m\u001b[0;34m,\u001b[0m \u001b[0;34m'isidro.bedpe'\u001b[0m\u001b[0;34m)\u001b[0m\u001b[0;34m,\u001b[0m \u001b[0;34m[\u001b[0m\u001b[0;34m'x.0.0'\u001b[0m\u001b[0;34m]\u001b[0m\u001b[0;34m)\u001b[0m\u001b[0;34m\u001b[0m\u001b[0;34m\u001b[0m\u001b[0m\n\u001b[0m",
      "\u001b[0;31mTypeError\u001b[0m: head() takes from 1 to 2 positional arguments but 3 were given"
     ]
    }
   ],
   "source": [
    "t_head.head()"
   ]
  },
  {
   "cell_type": "code",
   "execution_count": 29,
   "metadata": {},
   "outputs": [
    {
     "name": "stdout",
     "output_type": "stream",
     "text": [
      "True\n",
      "0       int64\n",
      "1       int64\n",
      "2       int64\n",
      "3       int64\n",
      "4       int64\n",
      "5       int64\n",
      "6      object\n",
      "7      object\n",
      "8      object\n",
      "9      object\n",
      "10     object\n",
      "11      int64\n",
      "12    float64\n",
      "dtype: object\n",
      "0       int64\n",
      "1       int64\n",
      "2       int64\n",
      "3       int64\n",
      "4       int64\n",
      "5       int64\n",
      "6      object\n",
      "7      object\n",
      "8      object\n",
      "9      object\n",
      "10     object\n",
      "11      int64\n",
      "12    float64\n",
      "dtype: object\n"
     ]
    },
    {
     "data": {
      "text/html": [
       "<div>\n",
       "<style scoped>\n",
       "    .dataframe tbody tr th:only-of-type {\n",
       "        vertical-align: middle;\n",
       "    }\n",
       "\n",
       "    .dataframe tbody tr th {\n",
       "        vertical-align: top;\n",
       "    }\n",
       "\n",
       "    .dataframe thead th {\n",
       "        text-align: right;\n",
       "    }\n",
       "</style>\n",
       "<table border=\"1\" class=\"dataframe\">\n",
       "  <thead>\n",
       "    <tr style=\"text-align: right;\">\n",
       "      <th></th>\n",
       "      <th>0</th>\n",
       "      <th>1</th>\n",
       "      <th>2</th>\n",
       "      <th>3</th>\n",
       "      <th>4</th>\n",
       "      <th>5</th>\n",
       "      <th>6</th>\n",
       "      <th>7</th>\n",
       "      <th>8</th>\n",
       "      <th>9</th>\n",
       "      <th>10</th>\n",
       "      <th>11</th>\n",
       "      <th>12</th>\n",
       "    </tr>\n",
       "  </thead>\n",
       "  <tbody>\n",
       "    <tr>\n",
       "      <th>0</th>\n",
       "      <td>8</td>\n",
       "      <td>127310000</td>\n",
       "      <td>127320000</td>\n",
       "      <td>8</td>\n",
       "      <td>127820000</td>\n",
       "      <td>127830000</td>\n",
       "      <td>.</td>\n",
       "      <td>.</td>\n",
       "      <td>.</td>\n",
       "      <td>.</td>\n",
       "      <td>0,0,150</td>\n",
       "      <td>2</td>\n",
       "      <td>NaN</td>\n",
       "    </tr>\n",
       "    <tr>\n",
       "      <th>1</th>\n",
       "      <td>8</td>\n",
       "      <td>127880000</td>\n",
       "      <td>127890000</td>\n",
       "      <td>8</td>\n",
       "      <td>128310000</td>\n",
       "      <td>128320000</td>\n",
       "      <td>.</td>\n",
       "      <td>.</td>\n",
       "      <td>.</td>\n",
       "      <td>.</td>\n",
       "      <td>0,0,150</td>\n",
       "      <td>2</td>\n",
       "      <td>NaN</td>\n",
       "    </tr>\n",
       "  </tbody>\n",
       "</table>\n",
       "</div>"
      ],
      "text/plain": [
       "   0          1          2   3          4          5  6  7  8  9        10  \\\n",
       "0   8  127310000  127320000   8  127820000  127830000  .  .  .  .  0,0,150   \n",
       "1   8  127880000  127890000   8  128310000  128320000  .  .  .  .  0,0,150   \n",
       "\n",
       "   11  12  \n",
       "0   2 NaN  \n",
       "1   2 NaN  "
      ]
     },
     "execution_count": 29,
     "metadata": {},
     "output_type": "execute_result"
    }
   ],
   "source": [
    "file = op.join('../test/sample_data', 'hg19_myc.bedpe')\n",
    "t = pd.read_csv(file, nrows=2, sep='\\t', comment='#', header=None)\n",
    "t_head = pd.read_csv(file, nrows=2, sep='\\t', comment='#', header=None, skiprows=1)\n",
    "print((t.dtypes == t_head.dtypes).all())\n",
    "print(t.dtypes)\n",
    "print(t_head.dtypes)\n",
    "t.head()"
   ]
  },
  {
   "cell_type": "code",
   "execution_count": 19,
   "metadata": {},
   "outputs": [
    {
     "name": "stdout",
     "output_type": "stream",
     "text": [
      "8                int64\n",
      "127310000        int64\n",
      "127320000        int64\n",
      "8.1              int64\n",
      "127820000        int64\n",
      "127830000        int64\n",
      ".               object\n",
      "..1             object\n",
      "..2             object\n",
      "..3             object\n",
      "0,0,150         object\n",
      "2                int64\n",
      "Unnamed: 12    float64\n",
      "dtype: object\n"
     ]
    },
    {
     "data": {
      "text/html": [
       "<div>\n",
       "<style scoped>\n",
       "    .dataframe tbody tr th:only-of-type {\n",
       "        vertical-align: middle;\n",
       "    }\n",
       "\n",
       "    .dataframe tbody tr th {\n",
       "        vertical-align: top;\n",
       "    }\n",
       "\n",
       "    .dataframe thead th {\n",
       "        text-align: right;\n",
       "    }\n",
       "</style>\n",
       "<table border=\"1\" class=\"dataframe\">\n",
       "  <thead>\n",
       "    <tr style=\"text-align: right;\">\n",
       "      <th></th>\n",
       "      <th>8</th>\n",
       "      <th>127310000</th>\n",
       "      <th>127320000</th>\n",
       "      <th>8.1</th>\n",
       "      <th>127820000</th>\n",
       "      <th>127830000</th>\n",
       "      <th>.</th>\n",
       "      <th>..1</th>\n",
       "      <th>..2</th>\n",
       "      <th>..3</th>\n",
       "      <th>0,0,150</th>\n",
       "      <th>2</th>\n",
       "      <th>Unnamed: 12</th>\n",
       "    </tr>\n",
       "  </thead>\n",
       "  <tbody>\n",
       "    <tr>\n",
       "      <th>0</th>\n",
       "      <td>8</td>\n",
       "      <td>127880000</td>\n",
       "      <td>127890000</td>\n",
       "      <td>8</td>\n",
       "      <td>128310000</td>\n",
       "      <td>128320000</td>\n",
       "      <td>.</td>\n",
       "      <td>.</td>\n",
       "      <td>.</td>\n",
       "      <td>.</td>\n",
       "      <td>0,0,150</td>\n",
       "      <td>2</td>\n",
       "      <td>NaN</td>\n",
       "    </tr>\n",
       "    <tr>\n",
       "      <th>1</th>\n",
       "      <td>8</td>\n",
       "      <td>127880000</td>\n",
       "      <td>127890000</td>\n",
       "      <td>8</td>\n",
       "      <td>130550000</td>\n",
       "      <td>130560000</td>\n",
       "      <td>.</td>\n",
       "      <td>.</td>\n",
       "      <td>.</td>\n",
       "      <td>.</td>\n",
       "      <td>0,0,150</td>\n",
       "      <td>2</td>\n",
       "      <td>NaN</td>\n",
       "    </tr>\n",
       "  </tbody>\n",
       "</table>\n",
       "</div>"
      ],
      "text/plain": [
       "   8  127310000  127320000  8.1  127820000  127830000  . ..1 ..2 ..3  0,0,150  \\\n",
       "0  8  127880000  127890000    8  128310000  128320000  .   .   .   .  0,0,150   \n",
       "1  8  127880000  127890000    8  130550000  130560000  .   .   .   .  0,0,150   \n",
       "\n",
       "   2  Unnamed: 12  \n",
       "0  2          NaN  \n",
       "1  2          NaN  "
      ]
     },
     "execution_count": 19,
     "metadata": {},
     "output_type": "execute_result"
    }
   ],
   "source": [
    "file = op.join('../test/sample_data', 'hg19_myc.bedpe')\n",
    "t = pd.read_csv(file, nrows=2, sep='\\t', comment='#')\n",
    "print(t.dtypes)\n",
    "t.head()"
   ]
  },
  {
   "cell_type": "code",
   "execution_count": 45,
   "metadata": {},
   "outputs": [],
   "source": [
    "file = op.join('../test/sample_data', 'hg19_myc.bedpe')\n",
    "t = pd.read_csv(file, sep='\\t', comment='#', header=None, skiprows=0)"
   ]
  },
  {
   "cell_type": "code",
   "execution_count": 52,
   "metadata": {},
   "outputs": [
    {
     "data": {
      "text/plain": [
       "array([8, 8, 8, 8, 8, 8, 8, 8, 8, 8, 8, 8, 8, 8, 8, 8, 8, 8, 8, 8, 8, 8,\n",
       "       8, 8, 8])"
      ]
     },
     "execution_count": 52,
     "metadata": {},
     "output_type": "execute_result"
    }
   ],
   "source": [
    "[t[0].values"
   ]
  },
  {
   "cell_type": "code",
   "execution_count": 44,
   "metadata": {},
   "outputs": [
    {
     "ename": "ParserError",
     "evalue": "Error tokenizing data. C error: Expected 1 fields in line 2, saw 13\n",
     "output_type": "error",
     "traceback": [
      "\u001b[0;31m---------------------------------------------------------------------------\u001b[0m",
      "\u001b[0;31mParserError\u001b[0m                               Traceback (most recent call last)",
      "\u001b[0;32m<ipython-input-44-1ba05d66741d>\u001b[0m in \u001b[0;36m<module>\u001b[0;34m\u001b[0m\n\u001b[1;32m      4\u001b[0m     \u001b[0msep\u001b[0m\u001b[0;34m=\u001b[0m\u001b[0;34m\"\\t\"\u001b[0m\u001b[0;34m,\u001b[0m\u001b[0;34m\u001b[0m\u001b[0;34m\u001b[0m\u001b[0m\n\u001b[1;32m      5\u001b[0m     \u001b[0mcompression\u001b[0m\u001b[0;34m=\u001b[0m\u001b[0;32mNone\u001b[0m\u001b[0;34m,\u001b[0m\u001b[0;34m\u001b[0m\u001b[0;34m\u001b[0m\u001b[0m\n\u001b[0;32m----> 6\u001b[0;31m     \u001b[0mskiprows\u001b[0m\u001b[0;34m=\u001b[0m\u001b[0;36m0\u001b[0m\u001b[0;34m,\u001b[0m\u001b[0;34m\u001b[0m\u001b[0;34m\u001b[0m\u001b[0m\n\u001b[0m\u001b[1;32m      7\u001b[0m )\n",
      "\u001b[0;32m~/miniconda3/envs/cenv4/lib/python3.7/site-packages/pandas/io/parsers.py\u001b[0m in \u001b[0;36mparser_f\u001b[0;34m(filepath_or_buffer, sep, delimiter, header, names, index_col, usecols, squeeze, prefix, mangle_dupe_cols, dtype, engine, converters, true_values, false_values, skipinitialspace, skiprows, nrows, na_values, keep_default_na, na_filter, verbose, skip_blank_lines, parse_dates, infer_datetime_format, keep_date_col, date_parser, dayfirst, iterator, chunksize, compression, thousands, decimal, lineterminator, quotechar, quoting, escapechar, comment, encoding, dialect, tupleize_cols, error_bad_lines, warn_bad_lines, skipfooter, doublequote, delim_whitespace, low_memory, memory_map, float_precision)\u001b[0m\n\u001b[1;32m    676\u001b[0m                     skip_blank_lines=skip_blank_lines)\n\u001b[1;32m    677\u001b[0m \u001b[0;34m\u001b[0m\u001b[0m\n\u001b[0;32m--> 678\u001b[0;31m         \u001b[0;32mreturn\u001b[0m \u001b[0m_read\u001b[0m\u001b[0;34m(\u001b[0m\u001b[0mfilepath_or_buffer\u001b[0m\u001b[0;34m,\u001b[0m \u001b[0mkwds\u001b[0m\u001b[0;34m)\u001b[0m\u001b[0;34m\u001b[0m\u001b[0;34m\u001b[0m\u001b[0m\n\u001b[0m\u001b[1;32m    679\u001b[0m \u001b[0;34m\u001b[0m\u001b[0m\n\u001b[1;32m    680\u001b[0m     \u001b[0mparser_f\u001b[0m\u001b[0;34m.\u001b[0m\u001b[0m__name__\u001b[0m \u001b[0;34m=\u001b[0m \u001b[0mname\u001b[0m\u001b[0;34m\u001b[0m\u001b[0;34m\u001b[0m\u001b[0m\n",
      "\u001b[0;32m~/miniconda3/envs/cenv4/lib/python3.7/site-packages/pandas/io/parsers.py\u001b[0m in \u001b[0;36m_read\u001b[0;34m(filepath_or_buffer, kwds)\u001b[0m\n\u001b[1;32m    444\u001b[0m \u001b[0;34m\u001b[0m\u001b[0m\n\u001b[1;32m    445\u001b[0m     \u001b[0;32mtry\u001b[0m\u001b[0;34m:\u001b[0m\u001b[0;34m\u001b[0m\u001b[0;34m\u001b[0m\u001b[0m\n\u001b[0;32m--> 446\u001b[0;31m         \u001b[0mdata\u001b[0m \u001b[0;34m=\u001b[0m \u001b[0mparser\u001b[0m\u001b[0;34m.\u001b[0m\u001b[0mread\u001b[0m\u001b[0;34m(\u001b[0m\u001b[0mnrows\u001b[0m\u001b[0;34m)\u001b[0m\u001b[0;34m\u001b[0m\u001b[0;34m\u001b[0m\u001b[0m\n\u001b[0m\u001b[1;32m    447\u001b[0m     \u001b[0;32mfinally\u001b[0m\u001b[0;34m:\u001b[0m\u001b[0;34m\u001b[0m\u001b[0;34m\u001b[0m\u001b[0m\n\u001b[1;32m    448\u001b[0m         \u001b[0mparser\u001b[0m\u001b[0;34m.\u001b[0m\u001b[0mclose\u001b[0m\u001b[0;34m(\u001b[0m\u001b[0;34m)\u001b[0m\u001b[0;34m\u001b[0m\u001b[0;34m\u001b[0m\u001b[0m\n",
      "\u001b[0;32m~/miniconda3/envs/cenv4/lib/python3.7/site-packages/pandas/io/parsers.py\u001b[0m in \u001b[0;36mread\u001b[0;34m(self, nrows)\u001b[0m\n\u001b[1;32m   1034\u001b[0m                 \u001b[0;32mraise\u001b[0m \u001b[0mValueError\u001b[0m\u001b[0;34m(\u001b[0m\u001b[0;34m'skipfooter not supported for iteration'\u001b[0m\u001b[0;34m)\u001b[0m\u001b[0;34m\u001b[0m\u001b[0;34m\u001b[0m\u001b[0m\n\u001b[1;32m   1035\u001b[0m \u001b[0;34m\u001b[0m\u001b[0m\n\u001b[0;32m-> 1036\u001b[0;31m         \u001b[0mret\u001b[0m \u001b[0;34m=\u001b[0m \u001b[0mself\u001b[0m\u001b[0;34m.\u001b[0m\u001b[0m_engine\u001b[0m\u001b[0;34m.\u001b[0m\u001b[0mread\u001b[0m\u001b[0;34m(\u001b[0m\u001b[0mnrows\u001b[0m\u001b[0;34m)\u001b[0m\u001b[0;34m\u001b[0m\u001b[0;34m\u001b[0m\u001b[0m\n\u001b[0m\u001b[1;32m   1037\u001b[0m \u001b[0;34m\u001b[0m\u001b[0m\n\u001b[1;32m   1038\u001b[0m         \u001b[0;31m# May alter columns / col_dict\u001b[0m\u001b[0;34m\u001b[0m\u001b[0;34m\u001b[0m\u001b[0;34m\u001b[0m\u001b[0m\n",
      "\u001b[0;32m~/miniconda3/envs/cenv4/lib/python3.7/site-packages/pandas/io/parsers.py\u001b[0m in \u001b[0;36mread\u001b[0;34m(self, nrows)\u001b[0m\n\u001b[1;32m   1846\u001b[0m     \u001b[0;32mdef\u001b[0m \u001b[0mread\u001b[0m\u001b[0;34m(\u001b[0m\u001b[0mself\u001b[0m\u001b[0;34m,\u001b[0m \u001b[0mnrows\u001b[0m\u001b[0;34m=\u001b[0m\u001b[0;32mNone\u001b[0m\u001b[0;34m)\u001b[0m\u001b[0;34m:\u001b[0m\u001b[0;34m\u001b[0m\u001b[0;34m\u001b[0m\u001b[0m\n\u001b[1;32m   1847\u001b[0m         \u001b[0;32mtry\u001b[0m\u001b[0;34m:\u001b[0m\u001b[0;34m\u001b[0m\u001b[0;34m\u001b[0m\u001b[0m\n\u001b[0;32m-> 1848\u001b[0;31m             \u001b[0mdata\u001b[0m \u001b[0;34m=\u001b[0m \u001b[0mself\u001b[0m\u001b[0;34m.\u001b[0m\u001b[0m_reader\u001b[0m\u001b[0;34m.\u001b[0m\u001b[0mread\u001b[0m\u001b[0;34m(\u001b[0m\u001b[0mnrows\u001b[0m\u001b[0;34m)\u001b[0m\u001b[0;34m\u001b[0m\u001b[0;34m\u001b[0m\u001b[0m\n\u001b[0m\u001b[1;32m   1849\u001b[0m         \u001b[0;32mexcept\u001b[0m \u001b[0mStopIteration\u001b[0m\u001b[0;34m:\u001b[0m\u001b[0;34m\u001b[0m\u001b[0;34m\u001b[0m\u001b[0m\n\u001b[1;32m   1850\u001b[0m             \u001b[0;32mif\u001b[0m \u001b[0mself\u001b[0m\u001b[0;34m.\u001b[0m\u001b[0m_first_chunk\u001b[0m\u001b[0;34m:\u001b[0m\u001b[0;34m\u001b[0m\u001b[0;34m\u001b[0m\u001b[0m\n",
      "\u001b[0;32mpandas/_libs/parsers.pyx\u001b[0m in \u001b[0;36mpandas._libs.parsers.TextReader.read\u001b[0;34m()\u001b[0m\n",
      "\u001b[0;32mpandas/_libs/parsers.pyx\u001b[0m in \u001b[0;36mpandas._libs.parsers.TextReader._read_low_memory\u001b[0;34m()\u001b[0m\n",
      "\u001b[0;32mpandas/_libs/parsers.pyx\u001b[0m in \u001b[0;36mpandas._libs.parsers.TextReader._read_rows\u001b[0;34m()\u001b[0m\n",
      "\u001b[0;32mpandas/_libs/parsers.pyx\u001b[0m in \u001b[0;36mpandas._libs.parsers.TextReader._tokenize_rows\u001b[0;34m()\u001b[0m\n",
      "\u001b[0;32mpandas/_libs/parsers.pyx\u001b[0m in \u001b[0;36mpandas._libs.parsers.raise_parser_error\u001b[0;34m()\u001b[0m\n",
      "\u001b[0;31mParserError\u001b[0m: Error tokenizing data. C error: Expected 1 fields in line 2, saw 13\n"
     ]
    }
   ],
   "source": []
  },
  {
   "cell_type": "code",
   "execution_count": null,
   "metadata": {},
   "outputs": [],
   "source": []
  }
 ],
 "metadata": {
  "kernelspec": {
   "display_name": "Python 3 (ipykernel)",
   "language": "python",
   "name": "python3"
  },
  "language_info": {
   "codemirror_mode": {
    "name": "ipython",
    "version": 3
   },
   "file_extension": ".py",
   "mimetype": "text/x-python",
   "name": "python",
   "nbconvert_exporter": "python",
   "pygments_lexer": "ipython3",
   "version": "3.10.15"
  }
 },
 "nbformat": 4,
 "nbformat_minor": 4
}
